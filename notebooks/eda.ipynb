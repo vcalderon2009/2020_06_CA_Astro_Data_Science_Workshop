{
 "cells": [
  {
   "cell_type": "markdown",
   "metadata": {
    "colab_type": "text",
    "id": "Bejp4_d3yo5G"
   },
   "source": [
    "# **HCA Coding Challenge**\n",
    "---\n",
    "Stacey Brandsma <br>\n",
    "February 18, 2020"
   ]
  },
  {
   "cell_type": "code",
   "execution_count": 1,
   "metadata": {
    "colab": {
     "base_uri": "https://localhost:8080/",
     "height": 105
    },
    "colab_type": "code",
    "id": "liDsesi9yo5J",
    "outputId": "56c9e210-daba-4026-bb95-afba146952ba"
   },
   "outputs": [],
   "source": [
    "import pandas as pd\n",
    "import numpy as np\n",
    "import matplotlib.pyplot as plt\n",
    "import seaborn as sns\n",
    "sns.set(style='darkgrid')\n",
    "import sklearn as sk\n",
    "from imblearn.over_sampling import SMOTE\n",
    "from datetime import datetime\n",
    "from sklearn.pipeline import Pipeline\n",
    "from sklearn.ensemble import RandomForestClassifier\n",
    "import xgboost as xg\n",
    "from sklearn.preprocessing import LabelEncoder\n",
    "from sklearn.feature_selection import chi2\n",
    "import math\n",
    "np.random.seed(101)"
   ]
  },
  {
   "cell_type": "code",
   "execution_count": 2,
   "metadata": {
    "colab": {},
    "colab_type": "code",
    "id": "lp-iB6AMyo5M"
   },
   "outputs": [],
   "source": [
    "col_types = {'encounter_id': np.object, \n",
    " 'patient_nbr': np.object, \n",
    " 'race': np.object,\n",
    " 'gender': np.object,\n",
    " 'weight': np.object,\n",
    " 'discharge_disposition_id' : np.object,\n",
    " 'admission_source_id' : np.object,\n",
    " 'admission_type_id' : np.object,\n",
    " 'time_in_hospital' : np.int64,\n",
    " 'payer_code' : np.object,\n",
    " 'medical_specialty' : np.object,\n",
    " 'num_lab_procedures' : np.int64,\n",
    " 'num_procedures' : np.int64,\n",
    " 'num_medications' : np.int64,\n",
    " 'number_outpatient' : np.int64,\n",
    " 'number_emergency' : np.int64,\n",
    " 'diag_1' : np.object,\n",
    " 'diag_2' : np.object,\n",
    " 'diag_3' : np.object,\n",
    " 'number_diagnoses' : np.int64,\n",
    " 'max_glu_serum' : np.object,\n",
    " 'A1Cresult' : np.object,\n",
    " 'metformin' : np.object,\n",
    " 'repaglinide' : np.object,\n",
    " 'nateglinide' : np.object,\n",
    " 'chlorpropamide' : np.object,\n",
    " 'glimepiride' : np.object,\n",
    " 'acetohexamide' : np.object,\n",
    " 'glipizide' : np.object,\n",
    " 'glyburide' : np.object,\n",
    " 'tolbutamide' : np.object,\n",
    " 'pioglitazone' : np.object,\n",
    " 'rosiglitazone' : np.object,\n",
    " 'acarbose' : np.object,\n",
    " 'miglitol' : np.object,\n",
    " 'troglitazone' : np.object,\n",
    " 'tolazamide' : np.object,\n",
    " 'examide' : np.object,\n",
    " 'citoglipton' : np.object,\n",
    " 'insulin' : np.object,\n",
    " 'glyburide-metformin' : np.object,\n",
    " 'glipizide-metformin' : np.object,\n",
    " 'glimepiride-pioglitazone' : np.object,\n",
    " 'metformin-rosiglitazone' : np.object,\n",
    " 'metformin-pioglitazone' : np.object,\n",
    " 'change' : np.object,\n",
    " 'diabetesMed' : np.object,\n",
    " 'readmitted' : np.object,\n",
    " 'admit_date' : np.object,\n",
    " 'birth_date' : np.object\n",
    "}\n",
    "\n",
    "df = pd.read_csv('challenge/diabetes_data.csv', na_values = ['?'], dtype=col_types)\n",
    "df['birth_date'] = pd.to_datetime(df['birth_date'], format='%Y-%m-%d %H:%M:%S')\n",
    "df['admit_date'] = pd.to_datetime(df['admit_date'], format='%Y-%m-%d %H:%M:%S')"
   ]
  },
  {
   "cell_type": "markdown",
   "metadata": {
    "colab_type": "text",
    "id": "WzajIr5_yo5Q"
   },
   "source": [
    "This dataset has missing values denoted by **?**.  I replaced these values with NaN within the read_csv call.  "
   ]
  },
  {
   "cell_type": "code",
   "execution_count": 3,
   "metadata": {
    "colab": {
     "base_uri": "https://localhost:8080/",
     "height": 326
    },
    "colab_type": "code",
    "id": "s6c2DmSnyo5R",
    "outputId": "59b882f1-c4a3-48b5-f990-05b5b2277489"
   },
   "outputs": [
    {
     "data": {
      "text/html": [
       "<div>\n",
       "<style scoped>\n",
       "    .dataframe tbody tr th:only-of-type {\n",
       "        vertical-align: middle;\n",
       "    }\n",
       "\n",
       "    .dataframe tbody tr th {\n",
       "        vertical-align: top;\n",
       "    }\n",
       "\n",
       "    .dataframe thead th {\n",
       "        text-align: right;\n",
       "    }\n",
       "</style>\n",
       "<table border=\"1\" class=\"dataframe\">\n",
       "  <thead>\n",
       "    <tr style=\"text-align: right;\">\n",
       "      <th></th>\n",
       "      <th>encounter_id</th>\n",
       "      <th>patient_nbr</th>\n",
       "      <th>race</th>\n",
       "      <th>gender</th>\n",
       "      <th>weight</th>\n",
       "      <th>admission_type_id</th>\n",
       "      <th>discharge_disposition_id</th>\n",
       "      <th>admission_source_id</th>\n",
       "      <th>time_in_hospital</th>\n",
       "      <th>payer_code</th>\n",
       "      <th>...</th>\n",
       "      <th>glyburide-metformin</th>\n",
       "      <th>glipizide-metformin</th>\n",
       "      <th>glimepiride-pioglitazone</th>\n",
       "      <th>metformin-rosiglitazone</th>\n",
       "      <th>metformin-pioglitazone</th>\n",
       "      <th>change</th>\n",
       "      <th>diabetesMed</th>\n",
       "      <th>readmitted</th>\n",
       "      <th>admit_date</th>\n",
       "      <th>birth_date</th>\n",
       "    </tr>\n",
       "  </thead>\n",
       "  <tbody>\n",
       "    <tr>\n",
       "      <th>0</th>\n",
       "      <td>2278392</td>\n",
       "      <td>8222157</td>\n",
       "      <td>Caucasian</td>\n",
       "      <td>Female</td>\n",
       "      <td>NaN</td>\n",
       "      <td>6</td>\n",
       "      <td>25</td>\n",
       "      <td>1</td>\n",
       "      <td>1</td>\n",
       "      <td>NaN</td>\n",
       "      <td>...</td>\n",
       "      <td>No</td>\n",
       "      <td>No</td>\n",
       "      <td>No</td>\n",
       "      <td>No</td>\n",
       "      <td>No</td>\n",
       "      <td>No</td>\n",
       "      <td>No</td>\n",
       "      <td>NO</td>\n",
       "      <td>2002-10-22 06:30:00</td>\n",
       "      <td>1996-07-29 14:28:00</td>\n",
       "    </tr>\n",
       "    <tr>\n",
       "      <th>1</th>\n",
       "      <td>149190</td>\n",
       "      <td>55629189</td>\n",
       "      <td>Caucasian</td>\n",
       "      <td>Female</td>\n",
       "      <td>NaN</td>\n",
       "      <td>1</td>\n",
       "      <td>1</td>\n",
       "      <td>7</td>\n",
       "      <td>3</td>\n",
       "      <td>NaN</td>\n",
       "      <td>...</td>\n",
       "      <td>No</td>\n",
       "      <td>No</td>\n",
       "      <td>No</td>\n",
       "      <td>No</td>\n",
       "      <td>No</td>\n",
       "      <td>Ch</td>\n",
       "      <td>Yes</td>\n",
       "      <td>&gt;30</td>\n",
       "      <td>2004-07-24 08:35:00</td>\n",
       "      <td>1985-09-19 11:19:00</td>\n",
       "    </tr>\n",
       "    <tr>\n",
       "      <th>2</th>\n",
       "      <td>64410</td>\n",
       "      <td>86047875</td>\n",
       "      <td>AfricanAmerican</td>\n",
       "      <td>Female</td>\n",
       "      <td>NaN</td>\n",
       "      <td>1</td>\n",
       "      <td>1</td>\n",
       "      <td>7</td>\n",
       "      <td>2</td>\n",
       "      <td>NaN</td>\n",
       "      <td>...</td>\n",
       "      <td>No</td>\n",
       "      <td>No</td>\n",
       "      <td>No</td>\n",
       "      <td>No</td>\n",
       "      <td>No</td>\n",
       "      <td>No</td>\n",
       "      <td>Yes</td>\n",
       "      <td>NO</td>\n",
       "      <td>2005-11-30 06:35:00</td>\n",
       "      <td>1983-07-14 07:22:00</td>\n",
       "    </tr>\n",
       "    <tr>\n",
       "      <th>3</th>\n",
       "      <td>500364</td>\n",
       "      <td>82442376</td>\n",
       "      <td>Caucasian</td>\n",
       "      <td>Male</td>\n",
       "      <td>NaN</td>\n",
       "      <td>1</td>\n",
       "      <td>1</td>\n",
       "      <td>7</td>\n",
       "      <td>2</td>\n",
       "      <td>NaN</td>\n",
       "      <td>...</td>\n",
       "      <td>No</td>\n",
       "      <td>No</td>\n",
       "      <td>No</td>\n",
       "      <td>No</td>\n",
       "      <td>No</td>\n",
       "      <td>Ch</td>\n",
       "      <td>Yes</td>\n",
       "      <td>NO</td>\n",
       "      <td>2003-05-26 00:32:00</td>\n",
       "      <td>1968-04-05 23:51:00</td>\n",
       "    </tr>\n",
       "    <tr>\n",
       "      <th>4</th>\n",
       "      <td>16680</td>\n",
       "      <td>42519267</td>\n",
       "      <td>Caucasian</td>\n",
       "      <td>Male</td>\n",
       "      <td>NaN</td>\n",
       "      <td>1</td>\n",
       "      <td>1</td>\n",
       "      <td>7</td>\n",
       "      <td>1</td>\n",
       "      <td>NaN</td>\n",
       "      <td>...</td>\n",
       "      <td>No</td>\n",
       "      <td>No</td>\n",
       "      <td>No</td>\n",
       "      <td>No</td>\n",
       "      <td>No</td>\n",
       "      <td>Ch</td>\n",
       "      <td>Yes</td>\n",
       "      <td>NO</td>\n",
       "      <td>2004-04-25 04:04:00</td>\n",
       "      <td>1957-11-18 20:30:00</td>\n",
       "    </tr>\n",
       "  </tbody>\n",
       "</table>\n",
       "<p>5 rows × 50 columns</p>\n",
       "</div>"
      ],
      "text/plain": [
       "  encounter_id patient_nbr             race  gender weight admission_type_id  \\\n",
       "0      2278392     8222157        Caucasian  Female    NaN                 6   \n",
       "1       149190    55629189        Caucasian  Female    NaN                 1   \n",
       "2        64410    86047875  AfricanAmerican  Female    NaN                 1   \n",
       "3       500364    82442376        Caucasian    Male    NaN                 1   \n",
       "4        16680    42519267        Caucasian    Male    NaN                 1   \n",
       "\n",
       "  discharge_disposition_id admission_source_id  time_in_hospital payer_code  \\\n",
       "0                       25                   1                 1        NaN   \n",
       "1                        1                   7                 3        NaN   \n",
       "2                        1                   7                 2        NaN   \n",
       "3                        1                   7                 2        NaN   \n",
       "4                        1                   7                 1        NaN   \n",
       "\n",
       "   ... glyburide-metformin  glipizide-metformin  glimepiride-pioglitazone  \\\n",
       "0  ...                  No                   No                        No   \n",
       "1  ...                  No                   No                        No   \n",
       "2  ...                  No                   No                        No   \n",
       "3  ...                  No                   No                        No   \n",
       "4  ...                  No                   No                        No   \n",
       "\n",
       "   metformin-rosiglitazone  metformin-pioglitazone  change diabetesMed  \\\n",
       "0                       No                      No      No          No   \n",
       "1                       No                      No      Ch         Yes   \n",
       "2                       No                      No      No         Yes   \n",
       "3                       No                      No      Ch         Yes   \n",
       "4                       No                      No      Ch         Yes   \n",
       "\n",
       "  readmitted          admit_date          birth_date  \n",
       "0         NO 2002-10-22 06:30:00 1996-07-29 14:28:00  \n",
       "1        >30 2004-07-24 08:35:00 1985-09-19 11:19:00  \n",
       "2         NO 2005-11-30 06:35:00 1983-07-14 07:22:00  \n",
       "3         NO 2003-05-26 00:32:00 1968-04-05 23:51:00  \n",
       "4         NO 2004-04-25 04:04:00 1957-11-18 20:30:00  \n",
       "\n",
       "[5 rows x 50 columns]"
      ]
     },
     "execution_count": 3,
     "metadata": {},
     "output_type": "execute_result"
    }
   ],
   "source": [
    "df.head()"
   ]
  },
  {
   "cell_type": "code",
   "execution_count": 4,
   "metadata": {
    "colab": {
     "base_uri": "https://localhost:8080/",
     "height": 326
    },
    "colab_type": "code",
    "id": "frms1Fkhyo5U",
    "outputId": "43098cdf-db3d-4075-9387-ecf2eb9919e7"
   },
   "outputs": [
    {
     "data": {
      "text/html": [
       "<div>\n",
       "<style scoped>\n",
       "    .dataframe tbody tr th:only-of-type {\n",
       "        vertical-align: middle;\n",
       "    }\n",
       "\n",
       "    .dataframe tbody tr th {\n",
       "        vertical-align: top;\n",
       "    }\n",
       "\n",
       "    .dataframe thead th {\n",
       "        text-align: right;\n",
       "    }\n",
       "</style>\n",
       "<table border=\"1\" class=\"dataframe\">\n",
       "  <thead>\n",
       "    <tr style=\"text-align: right;\">\n",
       "      <th></th>\n",
       "      <th>encounter_id</th>\n",
       "      <th>patient_nbr</th>\n",
       "      <th>race</th>\n",
       "      <th>gender</th>\n",
       "      <th>weight</th>\n",
       "      <th>admission_type_id</th>\n",
       "      <th>discharge_disposition_id</th>\n",
       "      <th>admission_source_id</th>\n",
       "      <th>time_in_hospital</th>\n",
       "      <th>payer_code</th>\n",
       "      <th>...</th>\n",
       "      <th>glyburide-metformin</th>\n",
       "      <th>glipizide-metformin</th>\n",
       "      <th>glimepiride-pioglitazone</th>\n",
       "      <th>metformin-rosiglitazone</th>\n",
       "      <th>metformin-pioglitazone</th>\n",
       "      <th>change</th>\n",
       "      <th>diabetesMed</th>\n",
       "      <th>readmitted</th>\n",
       "      <th>admit_date</th>\n",
       "      <th>birth_date</th>\n",
       "    </tr>\n",
       "  </thead>\n",
       "  <tbody>\n",
       "    <tr>\n",
       "      <th>101761</th>\n",
       "      <td>443847548</td>\n",
       "      <td>100162476</td>\n",
       "      <td>AfricanAmerican</td>\n",
       "      <td>Male</td>\n",
       "      <td>NaN</td>\n",
       "      <td>1</td>\n",
       "      <td>3</td>\n",
       "      <td>7</td>\n",
       "      <td>3</td>\n",
       "      <td>MC</td>\n",
       "      <td>...</td>\n",
       "      <td>No</td>\n",
       "      <td>No</td>\n",
       "      <td>No</td>\n",
       "      <td>No</td>\n",
       "      <td>No</td>\n",
       "      <td>Ch</td>\n",
       "      <td>Yes</td>\n",
       "      <td>&gt;30</td>\n",
       "      <td>2008-08-10 03:37:00</td>\n",
       "      <td>1938-01-11 19:08:00</td>\n",
       "    </tr>\n",
       "    <tr>\n",
       "      <th>101762</th>\n",
       "      <td>443847782</td>\n",
       "      <td>74694222</td>\n",
       "      <td>AfricanAmerican</td>\n",
       "      <td>Female</td>\n",
       "      <td>NaN</td>\n",
       "      <td>1</td>\n",
       "      <td>4</td>\n",
       "      <td>5</td>\n",
       "      <td>5</td>\n",
       "      <td>MC</td>\n",
       "      <td>...</td>\n",
       "      <td>No</td>\n",
       "      <td>No</td>\n",
       "      <td>No</td>\n",
       "      <td>No</td>\n",
       "      <td>No</td>\n",
       "      <td>No</td>\n",
       "      <td>Yes</td>\n",
       "      <td>NO</td>\n",
       "      <td>2008-10-26 09:19:00</td>\n",
       "      <td>1921-03-06 19:51:00</td>\n",
       "    </tr>\n",
       "    <tr>\n",
       "      <th>101763</th>\n",
       "      <td>443854148</td>\n",
       "      <td>41088789</td>\n",
       "      <td>Caucasian</td>\n",
       "      <td>Male</td>\n",
       "      <td>NaN</td>\n",
       "      <td>1</td>\n",
       "      <td>1</td>\n",
       "      <td>7</td>\n",
       "      <td>1</td>\n",
       "      <td>MC</td>\n",
       "      <td>...</td>\n",
       "      <td>No</td>\n",
       "      <td>No</td>\n",
       "      <td>No</td>\n",
       "      <td>No</td>\n",
       "      <td>No</td>\n",
       "      <td>Ch</td>\n",
       "      <td>Yes</td>\n",
       "      <td>NO</td>\n",
       "      <td>2007-10-13 05:08:00</td>\n",
       "      <td>1924-06-29 10:08:00</td>\n",
       "    </tr>\n",
       "    <tr>\n",
       "      <th>101764</th>\n",
       "      <td>443857166</td>\n",
       "      <td>31693671</td>\n",
       "      <td>Caucasian</td>\n",
       "      <td>Female</td>\n",
       "      <td>NaN</td>\n",
       "      <td>2</td>\n",
       "      <td>3</td>\n",
       "      <td>7</td>\n",
       "      <td>10</td>\n",
       "      <td>MC</td>\n",
       "      <td>...</td>\n",
       "      <td>No</td>\n",
       "      <td>No</td>\n",
       "      <td>No</td>\n",
       "      <td>No</td>\n",
       "      <td>No</td>\n",
       "      <td>Ch</td>\n",
       "      <td>Yes</td>\n",
       "      <td>NO</td>\n",
       "      <td>2009-02-19 21:53:00</td>\n",
       "      <td>1919-10-05 12:11:00</td>\n",
       "    </tr>\n",
       "    <tr>\n",
       "      <th>101765</th>\n",
       "      <td>443867222</td>\n",
       "      <td>175429310</td>\n",
       "      <td>Caucasian</td>\n",
       "      <td>Male</td>\n",
       "      <td>NaN</td>\n",
       "      <td>1</td>\n",
       "      <td>1</td>\n",
       "      <td>7</td>\n",
       "      <td>6</td>\n",
       "      <td>NaN</td>\n",
       "      <td>...</td>\n",
       "      <td>No</td>\n",
       "      <td>No</td>\n",
       "      <td>No</td>\n",
       "      <td>No</td>\n",
       "      <td>No</td>\n",
       "      <td>No</td>\n",
       "      <td>No</td>\n",
       "      <td>NO</td>\n",
       "      <td>2007-06-14 15:49:00</td>\n",
       "      <td>1936-09-12 19:47:00</td>\n",
       "    </tr>\n",
       "  </tbody>\n",
       "</table>\n",
       "<p>5 rows × 50 columns</p>\n",
       "</div>"
      ],
      "text/plain": [
       "       encounter_id patient_nbr             race  gender weight  \\\n",
       "101761    443847548   100162476  AfricanAmerican    Male    NaN   \n",
       "101762    443847782    74694222  AfricanAmerican  Female    NaN   \n",
       "101763    443854148    41088789        Caucasian    Male    NaN   \n",
       "101764    443857166    31693671        Caucasian  Female    NaN   \n",
       "101765    443867222   175429310        Caucasian    Male    NaN   \n",
       "\n",
       "       admission_type_id discharge_disposition_id admission_source_id  \\\n",
       "101761                 1                        3                   7   \n",
       "101762                 1                        4                   5   \n",
       "101763                 1                        1                   7   \n",
       "101764                 2                        3                   7   \n",
       "101765                 1                        1                   7   \n",
       "\n",
       "        time_in_hospital payer_code  ... glyburide-metformin  \\\n",
       "101761                 3         MC  ...                  No   \n",
       "101762                 5         MC  ...                  No   \n",
       "101763                 1         MC  ...                  No   \n",
       "101764                10         MC  ...                  No   \n",
       "101765                 6        NaN  ...                  No   \n",
       "\n",
       "        glipizide-metformin  glimepiride-pioglitazone  \\\n",
       "101761                   No                        No   \n",
       "101762                   No                        No   \n",
       "101763                   No                        No   \n",
       "101764                   No                        No   \n",
       "101765                   No                        No   \n",
       "\n",
       "        metformin-rosiglitazone  metformin-pioglitazone  change diabetesMed  \\\n",
       "101761                       No                      No      Ch         Yes   \n",
       "101762                       No                      No      No         Yes   \n",
       "101763                       No                      No      Ch         Yes   \n",
       "101764                       No                      No      Ch         Yes   \n",
       "101765                       No                      No      No          No   \n",
       "\n",
       "       readmitted          admit_date          birth_date  \n",
       "101761        >30 2008-08-10 03:37:00 1938-01-11 19:08:00  \n",
       "101762         NO 2008-10-26 09:19:00 1921-03-06 19:51:00  \n",
       "101763         NO 2007-10-13 05:08:00 1924-06-29 10:08:00  \n",
       "101764         NO 2009-02-19 21:53:00 1919-10-05 12:11:00  \n",
       "101765         NO 2007-06-14 15:49:00 1936-09-12 19:47:00  \n",
       "\n",
       "[5 rows x 50 columns]"
      ]
     },
     "execution_count": 4,
     "metadata": {},
     "output_type": "execute_result"
    }
   ],
   "source": [
    "df.tail()"
   ]
  },
  {
   "cell_type": "markdown",
   "metadata": {
    "colab_type": "text",
    "id": "U9wY-AyCyo5a"
   },
   "source": [
    "## Part 1: Data Analysis and Exploration\n",
    "##### 1. How many row and columns are in the dataset?"
   ]
  },
  {
   "cell_type": "code",
   "execution_count": 5,
   "metadata": {
    "colab": {
     "base_uri": "https://localhost:8080/",
     "height": 34
    },
    "colab_type": "code",
    "id": "0Gf1_Jr_yo5c",
    "outputId": "cf760d0a-632f-4dd5-9b0d-ac2032cf8253"
   },
   "outputs": [
    {
     "data": {
      "text/plain": [
       "(101766, 50)"
      ]
     },
     "execution_count": 5,
     "metadata": {},
     "output_type": "execute_result"
    }
   ],
   "source": [
    "df.shape #rows and columns in the dataset"
   ]
  },
  {
   "cell_type": "markdown",
   "metadata": {
    "colab_type": "text",
    "id": "cXoZvKwVyo5e"
   },
   "source": [
    "We have 101766 rows and 50 columns in our data.  \n",
    "##### 2. How many men are represented in the data versus women?"
   ]
  },
  {
   "cell_type": "code",
   "execution_count": 6,
   "metadata": {
    "colab": {
     "base_uri": "https://localhost:8080/",
     "height": 85
    },
    "colab_type": "code",
    "id": "PJyikL_eyo5f",
    "outputId": "800f8937-1917-4f54-bac1-34479bbe7624"
   },
   "outputs": [
    {
     "data": {
      "text/plain": [
       "Female             54708\n",
       "Male               47055\n",
       "Unknown/Invalid        3\n",
       "Name: gender, dtype: int64"
      ]
     },
     "execution_count": 6,
     "metadata": {},
     "output_type": "execute_result"
    }
   ],
   "source": [
    "df.gender.value_counts() #count of gender categories"
   ]
  },
  {
   "cell_type": "code",
   "execution_count": 7,
   "metadata": {
    "colab": {
     "base_uri": "https://localhost:8080/",
     "height": 85
    },
    "colab_type": "code",
    "id": "CG2uCQJ7yo5i",
    "outputId": "a87281bd-1224-403e-a9ad-f27fc778a023"
   },
   "outputs": [
    {
     "data": {
      "text/plain": [
       "Female             53.758623\n",
       "Male               46.238429\n",
       "Unknown/Invalid     0.002948\n",
       "Name: gender, dtype: float64"
      ]
     },
     "execution_count": 7,
     "metadata": {},
     "output_type": "execute_result"
    }
   ],
   "source": [
    "df.gender.value_counts()/len(df)*100 #percentage of gender categories"
   ]
  },
  {
   "cell_type": "code",
   "execution_count": 8,
   "metadata": {
    "colab": {
     "base_uri": "https://localhost:8080/",
     "height": 230
    },
    "colab_type": "code",
    "id": "ahl7tqm8yo5l",
    "outputId": "53264849-092d-4e72-bf5b-e6cc42fdb535"
   },
   "outputs": [
    {
     "data": {
      "text/html": [
       "<div>\n",
       "<style scoped>\n",
       "    .dataframe tbody tr th:only-of-type {\n",
       "        vertical-align: middle;\n",
       "    }\n",
       "\n",
       "    .dataframe tbody tr th {\n",
       "        vertical-align: top;\n",
       "    }\n",
       "\n",
       "    .dataframe thead th {\n",
       "        text-align: right;\n",
       "    }\n",
       "</style>\n",
       "<table border=\"1\" class=\"dataframe\">\n",
       "  <thead>\n",
       "    <tr style=\"text-align: right;\">\n",
       "      <th></th>\n",
       "      <th>encounter_id</th>\n",
       "      <th>patient_nbr</th>\n",
       "      <th>race</th>\n",
       "      <th>gender</th>\n",
       "      <th>weight</th>\n",
       "      <th>admission_type_id</th>\n",
       "      <th>discharge_disposition_id</th>\n",
       "      <th>admission_source_id</th>\n",
       "      <th>time_in_hospital</th>\n",
       "      <th>payer_code</th>\n",
       "      <th>...</th>\n",
       "      <th>glyburide-metformin</th>\n",
       "      <th>glipizide-metformin</th>\n",
       "      <th>glimepiride-pioglitazone</th>\n",
       "      <th>metformin-rosiglitazone</th>\n",
       "      <th>metformin-pioglitazone</th>\n",
       "      <th>change</th>\n",
       "      <th>diabetesMed</th>\n",
       "      <th>readmitted</th>\n",
       "      <th>admit_date</th>\n",
       "      <th>birth_date</th>\n",
       "    </tr>\n",
       "  </thead>\n",
       "  <tbody>\n",
       "    <tr>\n",
       "      <th>30506</th>\n",
       "      <td>98634858</td>\n",
       "      <td>100695042</td>\n",
       "      <td>Other</td>\n",
       "      <td>Unknown/Invalid</td>\n",
       "      <td>NaN</td>\n",
       "      <td>3</td>\n",
       "      <td>1</td>\n",
       "      <td>1</td>\n",
       "      <td>1</td>\n",
       "      <td>NaN</td>\n",
       "      <td>...</td>\n",
       "      <td>No</td>\n",
       "      <td>No</td>\n",
       "      <td>No</td>\n",
       "      <td>No</td>\n",
       "      <td>No</td>\n",
       "      <td>Ch</td>\n",
       "      <td>Yes</td>\n",
       "      <td>NO</td>\n",
       "      <td>2006-07-25 20:03:00</td>\n",
       "      <td>1930-07-30 08:44:00</td>\n",
       "    </tr>\n",
       "    <tr>\n",
       "      <th>75551</th>\n",
       "      <td>226864668</td>\n",
       "      <td>60524946</td>\n",
       "      <td>NaN</td>\n",
       "      <td>Unknown/Invalid</td>\n",
       "      <td>NaN</td>\n",
       "      <td>1</td>\n",
       "      <td>1</td>\n",
       "      <td>7</td>\n",
       "      <td>1</td>\n",
       "      <td>CP</td>\n",
       "      <td>...</td>\n",
       "      <td>No</td>\n",
       "      <td>No</td>\n",
       "      <td>No</td>\n",
       "      <td>No</td>\n",
       "      <td>No</td>\n",
       "      <td>No</td>\n",
       "      <td>No</td>\n",
       "      <td>NO</td>\n",
       "      <td>2007-08-12 13:25:00</td>\n",
       "      <td>1939-04-10 12:11:00</td>\n",
       "    </tr>\n",
       "    <tr>\n",
       "      <th>82573</th>\n",
       "      <td>257364294</td>\n",
       "      <td>78119847</td>\n",
       "      <td>NaN</td>\n",
       "      <td>Unknown/Invalid</td>\n",
       "      <td>NaN</td>\n",
       "      <td>1</td>\n",
       "      <td>22</td>\n",
       "      <td>7</td>\n",
       "      <td>8</td>\n",
       "      <td>CP</td>\n",
       "      <td>...</td>\n",
       "      <td>No</td>\n",
       "      <td>No</td>\n",
       "      <td>No</td>\n",
       "      <td>No</td>\n",
       "      <td>No</td>\n",
       "      <td>Ch</td>\n",
       "      <td>Yes</td>\n",
       "      <td>NO</td>\n",
       "      <td>2008-02-15 00:53:00</td>\n",
       "      <td>1936-12-05 13:40:00</td>\n",
       "    </tr>\n",
       "  </tbody>\n",
       "</table>\n",
       "<p>3 rows × 50 columns</p>\n",
       "</div>"
      ],
      "text/plain": [
       "      encounter_id patient_nbr   race           gender weight  \\\n",
       "30506     98634858   100695042  Other  Unknown/Invalid    NaN   \n",
       "75551    226864668    60524946    NaN  Unknown/Invalid    NaN   \n",
       "82573    257364294    78119847    NaN  Unknown/Invalid    NaN   \n",
       "\n",
       "      admission_type_id discharge_disposition_id admission_source_id  \\\n",
       "30506                 3                        1                   1   \n",
       "75551                 1                        1                   7   \n",
       "82573                 1                       22                   7   \n",
       "\n",
       "       time_in_hospital payer_code  ... glyburide-metformin  \\\n",
       "30506                 1        NaN  ...                  No   \n",
       "75551                 1         CP  ...                  No   \n",
       "82573                 8         CP  ...                  No   \n",
       "\n",
       "       glipizide-metformin  glimepiride-pioglitazone  metformin-rosiglitazone  \\\n",
       "30506                   No                        No                       No   \n",
       "75551                   No                        No                       No   \n",
       "82573                   No                        No                       No   \n",
       "\n",
       "       metformin-pioglitazone  change diabetesMed readmitted  \\\n",
       "30506                      No      Ch         Yes         NO   \n",
       "75551                      No      No          No         NO   \n",
       "82573                      No      Ch         Yes         NO   \n",
       "\n",
       "               admit_date          birth_date  \n",
       "30506 2006-07-25 20:03:00 1930-07-30 08:44:00  \n",
       "75551 2007-08-12 13:25:00 1939-04-10 12:11:00  \n",
       "82573 2008-02-15 00:53:00 1936-12-05 13:40:00  \n",
       "\n",
       "[3 rows x 50 columns]"
      ]
     },
     "execution_count": 8,
     "metadata": {},
     "output_type": "execute_result"
    }
   ],
   "source": [
    "df.loc[df['gender'] == 'Unknown/Invalid'] #looking at what values are unknown/invalid"
   ]
  },
  {
   "cell_type": "code",
   "execution_count": 9,
   "metadata": {
    "colab": {
     "base_uri": "https://localhost:8080/",
     "height": 34
    },
    "colab_type": "code",
    "id": "COldnI0myo5p",
    "outputId": "4cec893e-4e43-492f-b10a-767f8842ce75"
   },
   "outputs": [
    {
     "name": "stdout",
     "output_type": "stream",
     "text": [
      "0.8601118666374205\n"
     ]
    }
   ],
   "source": [
    "ratio = (df['gender']=='Male').sum()/(df['gender']=='Female').sum() #ratio of male to female\n",
    "print(ratio)"
   ]
  },
  {
   "cell_type": "markdown",
   "metadata": {
    "colab_type": "text",
    "id": "H_8gRIr6yo5r"
   },
   "source": [
    "We have **54708** females and **47055** males in the dataset which gives us **53.75%** and **46.24%** respectively.  We have 3 (0.0029%) patients/rows where the gender is listed as Unknown/Invalid.  There are **0.86** men to women in the dataset.  "
   ]
  },
  {
   "cell_type": "markdown",
   "metadata": {
    "colab_type": "text",
    "id": "kdiShUYdyo5s"
   },
   "source": [
    "##### 3. What percent of the patients are African American?"
   ]
  },
  {
   "cell_type": "code",
   "execution_count": 10,
   "metadata": {
    "colab": {
     "base_uri": "https://localhost:8080/",
     "height": 119
    },
    "colab_type": "code",
    "id": "2ak70g2uyo5t",
    "outputId": "8cab28f8-4174-4deb-82a2-5eb3010c3160"
   },
   "outputs": [
    {
     "data": {
      "text/plain": [
       "Caucasian          76099\n",
       "AfricanAmerican    19210\n",
       "Hispanic            2037\n",
       "Other               1506\n",
       "Asian                641\n",
       "Name: race, dtype: int64"
      ]
     },
     "execution_count": 10,
     "metadata": {},
     "output_type": "execute_result"
    }
   ],
   "source": [
    "df.race.value_counts() #count of race categories"
   ]
  },
  {
   "cell_type": "code",
   "execution_count": 11,
   "metadata": {
    "colab": {
     "base_uri": "https://localhost:8080/",
     "height": 119
    },
    "colab_type": "code",
    "id": "VvVCWkNayo5v",
    "outputId": "c05840fa-4d51-48c0-acd9-beb2b720a039"
   },
   "outputs": [
    {
     "data": {
      "text/plain": [
       "Caucasian          74.778413\n",
       "AfricanAmerican    18.876639\n",
       "Hispanic            2.001651\n",
       "Other               1.479866\n",
       "Asian               0.629876\n",
       "Name: race, dtype: float64"
      ]
     },
     "execution_count": 11,
     "metadata": {},
     "output_type": "execute_result"
    }
   ],
   "source": [
    "df.race.value_counts()/len(df)*100 #percentage of race categories"
   ]
  },
  {
   "cell_type": "markdown",
   "metadata": {
    "colab_type": "text",
    "id": "_Jc3kToAyo5x"
   },
   "source": [
    "**18.9%** percent of patients are African American."
   ]
  },
  {
   "cell_type": "markdown",
   "metadata": {
    "colab_type": "text",
    "id": "KKwWJo2Xyo5y"
   },
   "source": [
    "##### 4. What is the approximate average age of female patients in the dataset?"
   ]
  },
  {
   "cell_type": "markdown",
   "metadata": {
    "colab_type": "text",
    "id": "gPcDZBXAyo5y"
   },
   "source": [
    "First calculate the age of the patients in an additional column \"age\"."
   ]
  },
  {
   "cell_type": "code",
   "execution_count": 12,
   "metadata": {
    "colab": {
     "base_uri": "https://localhost:8080/",
     "height": 326
    },
    "colab_type": "code",
    "id": "WTSlQtq7yo5z",
    "outputId": "b2f7ac4c-ae90-415b-c357-1b2973cb22b7"
   },
   "outputs": [
    {
     "data": {
      "text/html": [
       "<div>\n",
       "<style scoped>\n",
       "    .dataframe tbody tr th:only-of-type {\n",
       "        vertical-align: middle;\n",
       "    }\n",
       "\n",
       "    .dataframe tbody tr th {\n",
       "        vertical-align: top;\n",
       "    }\n",
       "\n",
       "    .dataframe thead th {\n",
       "        text-align: right;\n",
       "    }\n",
       "</style>\n",
       "<table border=\"1\" class=\"dataframe\">\n",
       "  <thead>\n",
       "    <tr style=\"text-align: right;\">\n",
       "      <th></th>\n",
       "      <th>encounter_id</th>\n",
       "      <th>patient_nbr</th>\n",
       "      <th>race</th>\n",
       "      <th>gender</th>\n",
       "      <th>weight</th>\n",
       "      <th>admission_type_id</th>\n",
       "      <th>discharge_disposition_id</th>\n",
       "      <th>admission_source_id</th>\n",
       "      <th>time_in_hospital</th>\n",
       "      <th>payer_code</th>\n",
       "      <th>...</th>\n",
       "      <th>glipizide-metformin</th>\n",
       "      <th>glimepiride-pioglitazone</th>\n",
       "      <th>metformin-rosiglitazone</th>\n",
       "      <th>metformin-pioglitazone</th>\n",
       "      <th>change</th>\n",
       "      <th>diabetesMed</th>\n",
       "      <th>readmitted</th>\n",
       "      <th>admit_date</th>\n",
       "      <th>birth_date</th>\n",
       "      <th>age</th>\n",
       "    </tr>\n",
       "  </thead>\n",
       "  <tbody>\n",
       "    <tr>\n",
       "      <th>0</th>\n",
       "      <td>2278392</td>\n",
       "      <td>8222157</td>\n",
       "      <td>Caucasian</td>\n",
       "      <td>Female</td>\n",
       "      <td>NaN</td>\n",
       "      <td>6</td>\n",
       "      <td>25</td>\n",
       "      <td>1</td>\n",
       "      <td>1</td>\n",
       "      <td>NaN</td>\n",
       "      <td>...</td>\n",
       "      <td>No</td>\n",
       "      <td>No</td>\n",
       "      <td>No</td>\n",
       "      <td>No</td>\n",
       "      <td>No</td>\n",
       "      <td>No</td>\n",
       "      <td>NO</td>\n",
       "      <td>2002-10-22 06:30:00</td>\n",
       "      <td>1996-07-29 14:28:00</td>\n",
       "      <td>23</td>\n",
       "    </tr>\n",
       "    <tr>\n",
       "      <th>1</th>\n",
       "      <td>149190</td>\n",
       "      <td>55629189</td>\n",
       "      <td>Caucasian</td>\n",
       "      <td>Female</td>\n",
       "      <td>NaN</td>\n",
       "      <td>1</td>\n",
       "      <td>1</td>\n",
       "      <td>7</td>\n",
       "      <td>3</td>\n",
       "      <td>NaN</td>\n",
       "      <td>...</td>\n",
       "      <td>No</td>\n",
       "      <td>No</td>\n",
       "      <td>No</td>\n",
       "      <td>No</td>\n",
       "      <td>Ch</td>\n",
       "      <td>Yes</td>\n",
       "      <td>&gt;30</td>\n",
       "      <td>2004-07-24 08:35:00</td>\n",
       "      <td>1985-09-19 11:19:00</td>\n",
       "      <td>34</td>\n",
       "    </tr>\n",
       "    <tr>\n",
       "      <th>2</th>\n",
       "      <td>64410</td>\n",
       "      <td>86047875</td>\n",
       "      <td>AfricanAmerican</td>\n",
       "      <td>Female</td>\n",
       "      <td>NaN</td>\n",
       "      <td>1</td>\n",
       "      <td>1</td>\n",
       "      <td>7</td>\n",
       "      <td>2</td>\n",
       "      <td>NaN</td>\n",
       "      <td>...</td>\n",
       "      <td>No</td>\n",
       "      <td>No</td>\n",
       "      <td>No</td>\n",
       "      <td>No</td>\n",
       "      <td>No</td>\n",
       "      <td>Yes</td>\n",
       "      <td>NO</td>\n",
       "      <td>2005-11-30 06:35:00</td>\n",
       "      <td>1983-07-14 07:22:00</td>\n",
       "      <td>36</td>\n",
       "    </tr>\n",
       "    <tr>\n",
       "      <th>3</th>\n",
       "      <td>500364</td>\n",
       "      <td>82442376</td>\n",
       "      <td>Caucasian</td>\n",
       "      <td>Male</td>\n",
       "      <td>NaN</td>\n",
       "      <td>1</td>\n",
       "      <td>1</td>\n",
       "      <td>7</td>\n",
       "      <td>2</td>\n",
       "      <td>NaN</td>\n",
       "      <td>...</td>\n",
       "      <td>No</td>\n",
       "      <td>No</td>\n",
       "      <td>No</td>\n",
       "      <td>No</td>\n",
       "      <td>Ch</td>\n",
       "      <td>Yes</td>\n",
       "      <td>NO</td>\n",
       "      <td>2003-05-26 00:32:00</td>\n",
       "      <td>1968-04-05 23:51:00</td>\n",
       "      <td>51</td>\n",
       "    </tr>\n",
       "    <tr>\n",
       "      <th>4</th>\n",
       "      <td>16680</td>\n",
       "      <td>42519267</td>\n",
       "      <td>Caucasian</td>\n",
       "      <td>Male</td>\n",
       "      <td>NaN</td>\n",
       "      <td>1</td>\n",
       "      <td>1</td>\n",
       "      <td>7</td>\n",
       "      <td>1</td>\n",
       "      <td>NaN</td>\n",
       "      <td>...</td>\n",
       "      <td>No</td>\n",
       "      <td>No</td>\n",
       "      <td>No</td>\n",
       "      <td>No</td>\n",
       "      <td>Ch</td>\n",
       "      <td>Yes</td>\n",
       "      <td>NO</td>\n",
       "      <td>2004-04-25 04:04:00</td>\n",
       "      <td>1957-11-18 20:30:00</td>\n",
       "      <td>62</td>\n",
       "    </tr>\n",
       "  </tbody>\n",
       "</table>\n",
       "<p>5 rows × 51 columns</p>\n",
       "</div>"
      ],
      "text/plain": [
       "  encounter_id patient_nbr             race  gender weight admission_type_id  \\\n",
       "0      2278392     8222157        Caucasian  Female    NaN                 6   \n",
       "1       149190    55629189        Caucasian  Female    NaN                 1   \n",
       "2        64410    86047875  AfricanAmerican  Female    NaN                 1   \n",
       "3       500364    82442376        Caucasian    Male    NaN                 1   \n",
       "4        16680    42519267        Caucasian    Male    NaN                 1   \n",
       "\n",
       "  discharge_disposition_id admission_source_id  time_in_hospital payer_code  \\\n",
       "0                       25                   1                 1        NaN   \n",
       "1                        1                   7                 3        NaN   \n",
       "2                        1                   7                 2        NaN   \n",
       "3                        1                   7                 2        NaN   \n",
       "4                        1                   7                 1        NaN   \n",
       "\n",
       "   ... glipizide-metformin  glimepiride-pioglitazone  metformin-rosiglitazone  \\\n",
       "0  ...                  No                        No                       No   \n",
       "1  ...                  No                        No                       No   \n",
       "2  ...                  No                        No                       No   \n",
       "3  ...                  No                        No                       No   \n",
       "4  ...                  No                        No                       No   \n",
       "\n",
       "   metformin-pioglitazone  change  diabetesMed readmitted          admit_date  \\\n",
       "0                      No      No           No         NO 2002-10-22 06:30:00   \n",
       "1                      No      Ch          Yes        >30 2004-07-24 08:35:00   \n",
       "2                      No      No          Yes         NO 2005-11-30 06:35:00   \n",
       "3                      No      Ch          Yes         NO 2003-05-26 00:32:00   \n",
       "4                      No      Ch          Yes         NO 2004-04-25 04:04:00   \n",
       "\n",
       "           birth_date  age  \n",
       "0 1996-07-29 14:28:00   23  \n",
       "1 1985-09-19 11:19:00   34  \n",
       "2 1983-07-14 07:22:00   36  \n",
       "3 1968-04-05 23:51:00   51  \n",
       "4 1957-11-18 20:30:00   62  \n",
       "\n",
       "[5 rows x 51 columns]"
      ]
     },
     "execution_count": 12,
     "metadata": {},
     "output_type": "execute_result"
    }
   ],
   "source": [
    "now = pd.Timestamp('now')\n",
    "df['age'] = (now-df['birth_date']).astype('<m8[Y]') #calculating the age of each patient\n",
    "df['age'] = df.age.astype('int64')\n",
    "df.head()"
   ]
  },
  {
   "cell_type": "code",
   "execution_count": 13,
   "metadata": {
    "colab": {
     "base_uri": "https://localhost:8080/",
     "height": 34
    },
    "colab_type": "code",
    "id": "AgECq78Nyo51",
    "outputId": "28ffcaf1-9725-48c1-9c41-fdc709fb0261"
   },
   "outputs": [
    {
     "data": {
      "text/plain": [
       "82.08486875776852"
      ]
     },
     "execution_count": 13,
     "metadata": {},
     "output_type": "execute_result"
    }
   ],
   "source": [
    "df.loc[df['gender'] == 'Female']['age'].mean() #calculating mean of female patients"
   ]
  },
  {
   "cell_type": "code",
   "execution_count": 14,
   "metadata": {
    "colab": {
     "base_uri": "https://localhost:8080/",
     "height": 102
    },
    "colab_type": "code",
    "id": "O7l0NBw0yo54",
    "outputId": "371966e6-156f-4b20-87f0-21dc1a559226"
   },
   "outputs": [
    {
     "data": {
      "text/plain": [
       "gender\n",
       "Female             82.084869\n",
       "Male               80.556519\n",
       "Unknown/Invalid    84.000000\n",
       "Name: age, dtype: float64"
      ]
     },
     "execution_count": 14,
     "metadata": {},
     "output_type": "execute_result"
    }
   ],
   "source": [
    "df.groupby('gender')['age'].mean() #calculating the means of each group in gender"
   ]
  },
  {
   "cell_type": "markdown",
   "metadata": {
    "colab_type": "text",
    "id": "V9TPWPNwyo56"
   },
   "source": [
    "The approximate average age for female patients in the dataset is **82** years old.  This is a few years older than the men, whose approximate average age is 80 years old.  "
   ]
  },
  {
   "cell_type": "markdown",
   "metadata": {
    "colab_type": "text",
    "id": "csrgcXW6yo57"
   },
   "source": [
    "##### 5. Which features have more than 50% missing data?"
   ]
  },
  {
   "cell_type": "code",
   "execution_count": 15,
   "metadata": {
    "colab": {
     "base_uri": "https://localhost:8080/",
     "height": 901
    },
    "colab_type": "code",
    "id": "4KUyIO8Tyo57",
    "outputId": "5a7a9947-e4c1-4548-d86a-18a3ff1b2eea"
   },
   "outputs": [
    {
     "data": {
      "text/plain": [
       "weight                      96.858479\n",
       "medical_specialty           49.082208\n",
       "payer_code                  39.557416\n",
       "race                         2.233555\n",
       "diag_3                       1.398306\n",
       "diag_2                       0.351787\n",
       "diag_1                       0.020636\n",
       "age                          0.000000\n",
       "number_outpatient            0.000000\n",
       "metformin                    0.000000\n",
       "A1Cresult                    0.000000\n",
       "max_glu_serum                0.000000\n",
       "number_diagnoses             0.000000\n",
       "number_emergency             0.000000\n",
       "num_lab_procedures           0.000000\n",
       "num_medications              0.000000\n",
       "num_procedures               0.000000\n",
       "nateglinide                  0.000000\n",
       "time_in_hospital             0.000000\n",
       "admission_source_id          0.000000\n",
       "discharge_disposition_id     0.000000\n",
       "admission_type_id            0.000000\n",
       "gender                       0.000000\n",
       "patient_nbr                  0.000000\n",
       "repaglinide                  0.000000\n",
       "chlorpropamide               0.000000\n",
       "birth_date                   0.000000\n",
       "citoglipton                  0.000000\n",
       "admit_date                   0.000000\n",
       "readmitted                   0.000000\n",
       "diabetesMed                  0.000000\n",
       "change                       0.000000\n",
       "metformin-pioglitazone       0.000000\n",
       "metformin-rosiglitazone      0.000000\n",
       "glimepiride-pioglitazone     0.000000\n",
       "glipizide-metformin          0.000000\n",
       "glyburide-metformin          0.000000\n",
       "insulin                      0.000000\n",
       "examide                      0.000000\n",
       "glimepiride                  0.000000\n",
       "tolazamide                   0.000000\n",
       "troglitazone                 0.000000\n",
       "miglitol                     0.000000\n",
       "acarbose                     0.000000\n",
       "rosiglitazone                0.000000\n",
       "pioglitazone                 0.000000\n",
       "tolbutamide                  0.000000\n",
       "glyburide                    0.000000\n",
       "glipizide                    0.000000\n",
       "acetohexamide                0.000000\n",
       "encounter_id                 0.000000\n",
       "dtype: float64"
      ]
     },
     "execution_count": 15,
     "metadata": {},
     "output_type": "execute_result"
    }
   ],
   "source": [
    "df.isnull().sum().sort_values(ascending=False)/len(df)*100 #calculating percentage of missing values for each variable"
   ]
  },
  {
   "cell_type": "markdown",
   "metadata": {
    "colab_type": "text",
    "id": "hF7NVrj6yo59"
   },
   "source": [
    "Only weight has more than 50% missing values.  Payer_code and medical_specialty have the next highest rates of missing values, although they are less than 50%.  "
   ]
  },
  {
   "cell_type": "markdown",
   "metadata": {
    "colab_type": "text",
    "id": "kKj3mzJPyo5-"
   },
   "source": [
    "##### 6. Write a function to remove features from the dataset that have a high proportion of missing values."
   ]
  },
  {
   "cell_type": "code",
   "execution_count": 16,
   "metadata": {
    "colab": {
     "base_uri": "https://localhost:8080/",
     "height": 34
    },
    "colab_type": "code",
    "id": "V0XnG3hEyo5_",
    "outputId": "5a778051-bcca-47c3-c3a1-9cf971db2358"
   },
   "outputs": [
    {
     "data": {
      "text/plain": [
       "(101766, 48)"
      ]
     },
     "execution_count": 16,
     "metadata": {},
     "output_type": "execute_result"
    }
   ],
   "source": [
    "def remove_features(data, percentage=30.00):\n",
    "    null_percentage = data.isnull().sum()/len(df)*100 #list of percentage of missing values\n",
    "    for i,feature in enumerate(data.columns):\n",
    "       if null_percentage[i]>=percentage: #if greater than the desired percentage\n",
    "           data.drop(feature, axis=1, inplace=True) #drop from data\n",
    "    \n",
    "    return data\n",
    "\n",
    "df_sub = df.copy()\n",
    "df_sub = remove_features(df_sub)\n",
    "df_sub.shape"
   ]
  },
  {
   "cell_type": "code",
   "execution_count": 17,
   "metadata": {
    "colab": {
     "base_uri": "https://localhost:8080/",
     "height": 326
    },
    "colab_type": "code",
    "id": "G7bowD8JLbci",
    "outputId": "81e237a8-f86e-4d77-efa0-95900108eb58"
   },
   "outputs": [
    {
     "data": {
      "text/html": [
       "<div>\n",
       "<style scoped>\n",
       "    .dataframe tbody tr th:only-of-type {\n",
       "        vertical-align: middle;\n",
       "    }\n",
       "\n",
       "    .dataframe tbody tr th {\n",
       "        vertical-align: top;\n",
       "    }\n",
       "\n",
       "    .dataframe thead th {\n",
       "        text-align: right;\n",
       "    }\n",
       "</style>\n",
       "<table border=\"1\" class=\"dataframe\">\n",
       "  <thead>\n",
       "    <tr style=\"text-align: right;\">\n",
       "      <th></th>\n",
       "      <th>encounter_id</th>\n",
       "      <th>patient_nbr</th>\n",
       "      <th>race</th>\n",
       "      <th>gender</th>\n",
       "      <th>admission_type_id</th>\n",
       "      <th>discharge_disposition_id</th>\n",
       "      <th>admission_source_id</th>\n",
       "      <th>time_in_hospital</th>\n",
       "      <th>num_lab_procedures</th>\n",
       "      <th>num_procedures</th>\n",
       "      <th>...</th>\n",
       "      <th>glipizide-metformin</th>\n",
       "      <th>glimepiride-pioglitazone</th>\n",
       "      <th>metformin-rosiglitazone</th>\n",
       "      <th>metformin-pioglitazone</th>\n",
       "      <th>change</th>\n",
       "      <th>diabetesMed</th>\n",
       "      <th>readmitted</th>\n",
       "      <th>admit_date</th>\n",
       "      <th>birth_date</th>\n",
       "      <th>age</th>\n",
       "    </tr>\n",
       "  </thead>\n",
       "  <tbody>\n",
       "    <tr>\n",
       "      <th>0</th>\n",
       "      <td>2278392</td>\n",
       "      <td>8222157</td>\n",
       "      <td>Caucasian</td>\n",
       "      <td>Female</td>\n",
       "      <td>6</td>\n",
       "      <td>25</td>\n",
       "      <td>1</td>\n",
       "      <td>1</td>\n",
       "      <td>41</td>\n",
       "      <td>0</td>\n",
       "      <td>...</td>\n",
       "      <td>No</td>\n",
       "      <td>No</td>\n",
       "      <td>No</td>\n",
       "      <td>No</td>\n",
       "      <td>No</td>\n",
       "      <td>No</td>\n",
       "      <td>NO</td>\n",
       "      <td>2002-10-22 06:30:00</td>\n",
       "      <td>1996-07-29 14:28:00</td>\n",
       "      <td>23</td>\n",
       "    </tr>\n",
       "    <tr>\n",
       "      <th>1</th>\n",
       "      <td>149190</td>\n",
       "      <td>55629189</td>\n",
       "      <td>Caucasian</td>\n",
       "      <td>Female</td>\n",
       "      <td>1</td>\n",
       "      <td>1</td>\n",
       "      <td>7</td>\n",
       "      <td>3</td>\n",
       "      <td>59</td>\n",
       "      <td>0</td>\n",
       "      <td>...</td>\n",
       "      <td>No</td>\n",
       "      <td>No</td>\n",
       "      <td>No</td>\n",
       "      <td>No</td>\n",
       "      <td>Ch</td>\n",
       "      <td>Yes</td>\n",
       "      <td>&gt;30</td>\n",
       "      <td>2004-07-24 08:35:00</td>\n",
       "      <td>1985-09-19 11:19:00</td>\n",
       "      <td>34</td>\n",
       "    </tr>\n",
       "    <tr>\n",
       "      <th>2</th>\n",
       "      <td>64410</td>\n",
       "      <td>86047875</td>\n",
       "      <td>AfricanAmerican</td>\n",
       "      <td>Female</td>\n",
       "      <td>1</td>\n",
       "      <td>1</td>\n",
       "      <td>7</td>\n",
       "      <td>2</td>\n",
       "      <td>11</td>\n",
       "      <td>5</td>\n",
       "      <td>...</td>\n",
       "      <td>No</td>\n",
       "      <td>No</td>\n",
       "      <td>No</td>\n",
       "      <td>No</td>\n",
       "      <td>No</td>\n",
       "      <td>Yes</td>\n",
       "      <td>NO</td>\n",
       "      <td>2005-11-30 06:35:00</td>\n",
       "      <td>1983-07-14 07:22:00</td>\n",
       "      <td>36</td>\n",
       "    </tr>\n",
       "    <tr>\n",
       "      <th>3</th>\n",
       "      <td>500364</td>\n",
       "      <td>82442376</td>\n",
       "      <td>Caucasian</td>\n",
       "      <td>Male</td>\n",
       "      <td>1</td>\n",
       "      <td>1</td>\n",
       "      <td>7</td>\n",
       "      <td>2</td>\n",
       "      <td>44</td>\n",
       "      <td>1</td>\n",
       "      <td>...</td>\n",
       "      <td>No</td>\n",
       "      <td>No</td>\n",
       "      <td>No</td>\n",
       "      <td>No</td>\n",
       "      <td>Ch</td>\n",
       "      <td>Yes</td>\n",
       "      <td>NO</td>\n",
       "      <td>2003-05-26 00:32:00</td>\n",
       "      <td>1968-04-05 23:51:00</td>\n",
       "      <td>51</td>\n",
       "    </tr>\n",
       "    <tr>\n",
       "      <th>4</th>\n",
       "      <td>16680</td>\n",
       "      <td>42519267</td>\n",
       "      <td>Caucasian</td>\n",
       "      <td>Male</td>\n",
       "      <td>1</td>\n",
       "      <td>1</td>\n",
       "      <td>7</td>\n",
       "      <td>1</td>\n",
       "      <td>51</td>\n",
       "      <td>0</td>\n",
       "      <td>...</td>\n",
       "      <td>No</td>\n",
       "      <td>No</td>\n",
       "      <td>No</td>\n",
       "      <td>No</td>\n",
       "      <td>Ch</td>\n",
       "      <td>Yes</td>\n",
       "      <td>NO</td>\n",
       "      <td>2004-04-25 04:04:00</td>\n",
       "      <td>1957-11-18 20:30:00</td>\n",
       "      <td>62</td>\n",
       "    </tr>\n",
       "  </tbody>\n",
       "</table>\n",
       "<p>5 rows × 48 columns</p>\n",
       "</div>"
      ],
      "text/plain": [
       "  encounter_id patient_nbr             race  gender admission_type_id  \\\n",
       "0      2278392     8222157        Caucasian  Female                 6   \n",
       "1       149190    55629189        Caucasian  Female                 1   \n",
       "2        64410    86047875  AfricanAmerican  Female                 1   \n",
       "3       500364    82442376        Caucasian    Male                 1   \n",
       "4        16680    42519267        Caucasian    Male                 1   \n",
       "\n",
       "  discharge_disposition_id admission_source_id  time_in_hospital  \\\n",
       "0                       25                   1                 1   \n",
       "1                        1                   7                 3   \n",
       "2                        1                   7                 2   \n",
       "3                        1                   7                 2   \n",
       "4                        1                   7                 1   \n",
       "\n",
       "   num_lab_procedures  num_procedures  ...  glipizide-metformin  \\\n",
       "0                  41               0  ...                   No   \n",
       "1                  59               0  ...                   No   \n",
       "2                  11               5  ...                   No   \n",
       "3                  44               1  ...                   No   \n",
       "4                  51               0  ...                   No   \n",
       "\n",
       "   glimepiride-pioglitazone  metformin-rosiglitazone metformin-pioglitazone  \\\n",
       "0                        No                       No                     No   \n",
       "1                        No                       No                     No   \n",
       "2                        No                       No                     No   \n",
       "3                        No                       No                     No   \n",
       "4                        No                       No                     No   \n",
       "\n",
       "  change diabetesMed  readmitted          admit_date          birth_date age  \n",
       "0     No          No          NO 2002-10-22 06:30:00 1996-07-29 14:28:00  23  \n",
       "1     Ch         Yes         >30 2004-07-24 08:35:00 1985-09-19 11:19:00  34  \n",
       "2     No         Yes          NO 2005-11-30 06:35:00 1983-07-14 07:22:00  36  \n",
       "3     Ch         Yes          NO 2003-05-26 00:32:00 1968-04-05 23:51:00  51  \n",
       "4     Ch         Yes          NO 2004-04-25 04:04:00 1957-11-18 20:30:00  62  \n",
       "\n",
       "[5 rows x 48 columns]"
      ]
     },
     "execution_count": 17,
     "metadata": {},
     "output_type": "execute_result"
    }
   ],
   "source": [
    "df_sub.head() #expected columns were dropped"
   ]
  },
  {
   "cell_type": "markdown",
   "metadata": {
    "colab_type": "text",
    "id": "nKiWskFYADD6"
   },
   "source": [
    "3 columns were removed (weight, payer_id, medical_specialty) from the dataset whose percentage of missing values was greater than or equal to 30%.  Note, the age column earlier, which is why we have 48 columns."
   ]
  },
  {
   "cell_type": "markdown",
   "metadata": {
    "colab_type": "text",
    "id": "3xakyHidyo6C"
   },
   "source": [
    "##### 7. The business owner you are working with is concerned about patients who are readmitted within 30 days.  She wants to know which medical specialty has the biggest problem with readmissions.  What do you tell her?"
   ]
  },
  {
   "cell_type": "markdown",
   "metadata": {
    "colab_type": "text",
    "id": "HaVxJGbLyo6C"
   },
   "source": [
    "Lets dive into the _medical_specialty_ variable.  We already know that it has approximately 49% missing data.  Lets explore this more. "
   ]
  },
  {
   "cell_type": "markdown",
   "metadata": {
    "colab_type": "text",
    "id": "aSyq4mmWyo6F"
   },
   "source": [
    "Lets take a look at all of the data in a crosstab.  By creating a two-way table we can see how the categorical variables are related to each other. <br>\n",
    "The first three columns give us counts of each medical_specialty for their corresponding readmission status.  I've added two additional columns to the table, the first additional column being the percentage of patients who readmit <30 days for each specialty.  The second additional column is the percentage of the readmitted within 30 days patients with this specialty out of the total patients who were readmitted within 30 days.  "
   ]
  },
  {
   "cell_type": "code",
   "execution_count": 18,
   "metadata": {
    "colab": {
     "base_uri": "https://localhost:8080/",
     "height": 390
    },
    "colab_type": "code",
    "id": "Eb7yyUyDyo6G",
    "outputId": "f305a1a5-4a93-49b9-9ec2-ba4c35c0b1f1"
   },
   "outputs": [
    {
     "data": {
      "text/html": [
       "<div>\n",
       "<style scoped>\n",
       "    .dataframe tbody tr th:only-of-type {\n",
       "        vertical-align: middle;\n",
       "    }\n",
       "\n",
       "    .dataframe tbody tr th {\n",
       "        vertical-align: top;\n",
       "    }\n",
       "\n",
       "    .dataframe thead th {\n",
       "        text-align: right;\n",
       "    }\n",
       "</style>\n",
       "<table border=\"1\" class=\"dataframe\">\n",
       "  <thead>\n",
       "    <tr style=\"text-align: right;\">\n",
       "      <th>readmitted</th>\n",
       "      <th>&lt;30</th>\n",
       "      <th>&gt;30</th>\n",
       "      <th>NO</th>\n",
       "      <th>perc&lt;30_med_spec</th>\n",
       "      <th>perc&lt;30_total</th>\n",
       "    </tr>\n",
       "    <tr>\n",
       "      <th>medical_specialty</th>\n",
       "      <th></th>\n",
       "      <th></th>\n",
       "      <th></th>\n",
       "      <th></th>\n",
       "      <th></th>\n",
       "    </tr>\n",
       "  </thead>\n",
       "  <tbody>\n",
       "    <tr>\n",
       "      <th>missing</th>\n",
       "      <td>5781</td>\n",
       "      <td>18216</td>\n",
       "      <td>25952</td>\n",
       "      <td>11.573805</td>\n",
       "      <td>50.902527</td>\n",
       "    </tr>\n",
       "    <tr>\n",
       "      <th>InternalMedicine</th>\n",
       "      <td>1646</td>\n",
       "      <td>4723</td>\n",
       "      <td>8266</td>\n",
       "      <td>11.247011</td>\n",
       "      <td>14.493264</td>\n",
       "    </tr>\n",
       "    <tr>\n",
       "      <th>Family/GeneralPractice</th>\n",
       "      <td>883</td>\n",
       "      <td>2663</td>\n",
       "      <td>3894</td>\n",
       "      <td>11.868280</td>\n",
       "      <td>7.774941</td>\n",
       "    </tr>\n",
       "    <tr>\n",
       "      <th>Emergency/Trauma</th>\n",
       "      <td>846</td>\n",
       "      <td>3006</td>\n",
       "      <td>3713</td>\n",
       "      <td>11.183080</td>\n",
       "      <td>7.449150</td>\n",
       "    </tr>\n",
       "    <tr>\n",
       "      <th>Cardiology</th>\n",
       "      <td>425</td>\n",
       "      <td>1853</td>\n",
       "      <td>3074</td>\n",
       "      <td>7.940957</td>\n",
       "      <td>3.742185</td>\n",
       "    </tr>\n",
       "    <tr>\n",
       "      <th>Surgery-General</th>\n",
       "      <td>342</td>\n",
       "      <td>1046</td>\n",
       "      <td>1711</td>\n",
       "      <td>11.035818</td>\n",
       "      <td>3.011359</td>\n",
       "    </tr>\n",
       "    <tr>\n",
       "      <th>Nephrology</th>\n",
       "      <td>248</td>\n",
       "      <td>666</td>\n",
       "      <td>699</td>\n",
       "      <td>15.375077</td>\n",
       "      <td>2.183675</td>\n",
       "    </tr>\n",
       "    <tr>\n",
       "      <th>Orthopedics</th>\n",
       "      <td>151</td>\n",
       "      <td>327</td>\n",
       "      <td>922</td>\n",
       "      <td>10.785714</td>\n",
       "      <td>1.329576</td>\n",
       "    </tr>\n",
       "    <tr>\n",
       "      <th>Psychiatry</th>\n",
       "      <td>104</td>\n",
       "      <td>262</td>\n",
       "      <td>488</td>\n",
       "      <td>12.177986</td>\n",
       "      <td>0.915735</td>\n",
       "    </tr>\n",
       "    <tr>\n",
       "      <th>Radiologist</th>\n",
       "      <td>103</td>\n",
       "      <td>383</td>\n",
       "      <td>654</td>\n",
       "      <td>9.035088</td>\n",
       "      <td>0.906930</td>\n",
       "    </tr>\n",
       "  </tbody>\n",
       "</table>\n",
       "</div>"
      ],
      "text/plain": [
       "readmitted               <30    >30     NO  perc<30_med_spec  perc<30_total\n",
       "medical_specialty                                                          \n",
       "missing                 5781  18216  25952         11.573805      50.902527\n",
       "InternalMedicine        1646   4723   8266         11.247011      14.493264\n",
       "Family/GeneralPractice   883   2663   3894         11.868280       7.774941\n",
       "Emergency/Trauma         846   3006   3713         11.183080       7.449150\n",
       "Cardiology               425   1853   3074          7.940957       3.742185\n",
       "Surgery-General          342   1046   1711         11.035818       3.011359\n",
       "Nephrology               248    666    699         15.375077       2.183675\n",
       "Orthopedics              151    327    922         10.785714       1.329576\n",
       "Psychiatry               104    262    488         12.177986       0.915735\n",
       "Radiologist              103    383    654          9.035088       0.906930"
      ]
     },
     "execution_count": 18,
     "metadata": {},
     "output_type": "execute_result"
    }
   ],
   "source": [
    "med_sp_twt = pd.crosstab(index=df[\"medical_specialty\"].fillna('missing'), \n",
    "                          columns=df[\"readmitted\"])\n",
    "med_sp_twt['perc<30_med_spec'] = med_sp_twt['<30']/(med_sp_twt['<30']+med_sp_twt['>30']+med_sp_twt['NO'])*100 # percentage of <30 for medical specialty\n",
    "med_sp_twt['perc<30_total'] = (med_sp_twt['<30']/med_sp_twt['<30'].sum())*100 #percentage of total <30 status\n",
    "med_sp_twt.sort_values(by=['perc<30_total'], ascending=False).head(10)\n"
   ]
  },
  {
   "cell_type": "markdown",
   "metadata": {
    "colab_type": "text",
    "id": "aCrPpM18yo6I"
   },
   "source": [
    "\n",
    "Lets look at the first column _percent<30_med_spec:_ this gives us the rate of <30days readmission status for a given specialty.  This rate can be misleading.  For example, when we sort the table by percent<30_med_spec and show the top ten specialties.  "
   ]
  },
  {
   "cell_type": "code",
   "execution_count": 19,
   "metadata": {
    "colab": {
     "base_uri": "https://localhost:8080/",
     "height": 390
    },
    "colab_type": "code",
    "id": "O7qFzZoryo6I",
    "outputId": "8e91757b-2038-4766-e214-9e7a4331af03"
   },
   "outputs": [
    {
     "data": {
      "text/html": [
       "<div>\n",
       "<style scoped>\n",
       "    .dataframe tbody tr th:only-of-type {\n",
       "        vertical-align: middle;\n",
       "    }\n",
       "\n",
       "    .dataframe tbody tr th {\n",
       "        vertical-align: top;\n",
       "    }\n",
       "\n",
       "    .dataframe thead th {\n",
       "        text-align: right;\n",
       "    }\n",
       "</style>\n",
       "<table border=\"1\" class=\"dataframe\">\n",
       "  <thead>\n",
       "    <tr style=\"text-align: right;\">\n",
       "      <th>readmitted</th>\n",
       "      <th>&lt;30</th>\n",
       "      <th>&gt;30</th>\n",
       "      <th>NO</th>\n",
       "      <th>perc&lt;30_med_spec</th>\n",
       "      <th>perc&lt;30_total</th>\n",
       "    </tr>\n",
       "    <tr>\n",
       "      <th>medical_specialty</th>\n",
       "      <th></th>\n",
       "      <th></th>\n",
       "      <th></th>\n",
       "      <th></th>\n",
       "      <th></th>\n",
       "    </tr>\n",
       "  </thead>\n",
       "  <tbody>\n",
       "    <tr>\n",
       "      <th>Resident</th>\n",
       "      <td>1</td>\n",
       "      <td>1</td>\n",
       "      <td>0</td>\n",
       "      <td>50.000000</td>\n",
       "      <td>0.008805</td>\n",
       "    </tr>\n",
       "    <tr>\n",
       "      <th>AllergyandImmunology</th>\n",
       "      <td>3</td>\n",
       "      <td>3</td>\n",
       "      <td>1</td>\n",
       "      <td>42.857143</td>\n",
       "      <td>0.026415</td>\n",
       "    </tr>\n",
       "    <tr>\n",
       "      <th>Hematology</th>\n",
       "      <td>26</td>\n",
       "      <td>24</td>\n",
       "      <td>32</td>\n",
       "      <td>31.707317</td>\n",
       "      <td>0.228934</td>\n",
       "    </tr>\n",
       "    <tr>\n",
       "      <th>Pediatrics-Hematology-Oncology</th>\n",
       "      <td>1</td>\n",
       "      <td>0</td>\n",
       "      <td>3</td>\n",
       "      <td>25.000000</td>\n",
       "      <td>0.008805</td>\n",
       "    </tr>\n",
       "    <tr>\n",
       "      <th>InfectiousDiseases</th>\n",
       "      <td>8</td>\n",
       "      <td>12</td>\n",
       "      <td>17</td>\n",
       "      <td>21.621622</td>\n",
       "      <td>0.070441</td>\n",
       "    </tr>\n",
       "    <tr>\n",
       "      <th>Hematology/Oncology</th>\n",
       "      <td>40</td>\n",
       "      <td>64</td>\n",
       "      <td>103</td>\n",
       "      <td>19.323671</td>\n",
       "      <td>0.352206</td>\n",
       "    </tr>\n",
       "    <tr>\n",
       "      <th>Oncology</th>\n",
       "      <td>66</td>\n",
       "      <td>100</td>\n",
       "      <td>182</td>\n",
       "      <td>18.965517</td>\n",
       "      <td>0.581139</td>\n",
       "    </tr>\n",
       "    <tr>\n",
       "      <th>PhysicianNotFound</th>\n",
       "      <td>2</td>\n",
       "      <td>4</td>\n",
       "      <td>5</td>\n",
       "      <td>18.181818</td>\n",
       "      <td>0.017610</td>\n",
       "    </tr>\n",
       "    <tr>\n",
       "      <th>Rheumatology</th>\n",
       "      <td>3</td>\n",
       "      <td>5</td>\n",
       "      <td>9</td>\n",
       "      <td>17.647059</td>\n",
       "      <td>0.026415</td>\n",
       "    </tr>\n",
       "    <tr>\n",
       "      <th>Surgery-Plastic</th>\n",
       "      <td>7</td>\n",
       "      <td>10</td>\n",
       "      <td>24</td>\n",
       "      <td>17.073171</td>\n",
       "      <td>0.061636</td>\n",
       "    </tr>\n",
       "  </tbody>\n",
       "</table>\n",
       "</div>"
      ],
      "text/plain": [
       "readmitted                      <30  >30   NO  perc<30_med_spec  perc<30_total\n",
       "medical_specialty                                                             \n",
       "Resident                          1    1    0         50.000000       0.008805\n",
       "AllergyandImmunology              3    3    1         42.857143       0.026415\n",
       "Hematology                       26   24   32         31.707317       0.228934\n",
       "Pediatrics-Hematology-Oncology    1    0    3         25.000000       0.008805\n",
       "InfectiousDiseases                8   12   17         21.621622       0.070441\n",
       "Hematology/Oncology              40   64  103         19.323671       0.352206\n",
       "Oncology                         66  100  182         18.965517       0.581139\n",
       "PhysicianNotFound                 2    4    5         18.181818       0.017610\n",
       "Rheumatology                      3    5    9         17.647059       0.026415\n",
       "Surgery-Plastic                   7   10   24         17.073171       0.061636"
      ]
     },
     "execution_count": 19,
     "metadata": {},
     "output_type": "execute_result"
    }
   ],
   "source": [
    "med_sp_twt.sort_values(by=['perc<30_med_spec'], ascending=False).head(10)"
   ]
  },
  {
   "cell_type": "markdown",
   "metadata": {
    "colab_type": "text",
    "id": "qZbLV0p1yo6L"
   },
   "source": [
    "We can see above that the specialties with the highest rate of readmission have a very low number of readmitted patients overall. Thus stasticially significant conclusions can not be made due to the low sample size of total patients. In addition, if the business were to focus efforts to reduce readmission with Residents or Allergy&Immunology, the impact to the overall organization would be minimal as these specialties have a combined total of 9 patients. Hematology/Oncology and Oncology have more patients; however readmission improvement results are not likely due to the nature of the specialty. <br> <br>\n",
    "Lets take a look at the overall percentage of readmitted patients by specialties again.  "
   ]
  },
  {
   "cell_type": "code",
   "execution_count": 20,
   "metadata": {
    "colab": {
     "base_uri": "https://localhost:8080/",
     "height": 390
    },
    "colab_type": "code",
    "id": "c7dmBkKmyo6M",
    "outputId": "3ba6128c-8922-47a4-ae5e-3d84c1efc487"
   },
   "outputs": [
    {
     "data": {
      "text/html": [
       "<div>\n",
       "<style scoped>\n",
       "    .dataframe tbody tr th:only-of-type {\n",
       "        vertical-align: middle;\n",
       "    }\n",
       "\n",
       "    .dataframe tbody tr th {\n",
       "        vertical-align: top;\n",
       "    }\n",
       "\n",
       "    .dataframe thead th {\n",
       "        text-align: right;\n",
       "    }\n",
       "</style>\n",
       "<table border=\"1\" class=\"dataframe\">\n",
       "  <thead>\n",
       "    <tr style=\"text-align: right;\">\n",
       "      <th>readmitted</th>\n",
       "      <th>&lt;30</th>\n",
       "      <th>&gt;30</th>\n",
       "      <th>NO</th>\n",
       "      <th>perc&lt;30_med_spec</th>\n",
       "      <th>perc&lt;30_total</th>\n",
       "    </tr>\n",
       "    <tr>\n",
       "      <th>medical_specialty</th>\n",
       "      <th></th>\n",
       "      <th></th>\n",
       "      <th></th>\n",
       "      <th></th>\n",
       "      <th></th>\n",
       "    </tr>\n",
       "  </thead>\n",
       "  <tbody>\n",
       "    <tr>\n",
       "      <th>missing</th>\n",
       "      <td>5781</td>\n",
       "      <td>18216</td>\n",
       "      <td>25952</td>\n",
       "      <td>11.573805</td>\n",
       "      <td>50.902527</td>\n",
       "    </tr>\n",
       "    <tr>\n",
       "      <th>InternalMedicine</th>\n",
       "      <td>1646</td>\n",
       "      <td>4723</td>\n",
       "      <td>8266</td>\n",
       "      <td>11.247011</td>\n",
       "      <td>14.493264</td>\n",
       "    </tr>\n",
       "    <tr>\n",
       "      <th>Family/GeneralPractice</th>\n",
       "      <td>883</td>\n",
       "      <td>2663</td>\n",
       "      <td>3894</td>\n",
       "      <td>11.868280</td>\n",
       "      <td>7.774941</td>\n",
       "    </tr>\n",
       "    <tr>\n",
       "      <th>Emergency/Trauma</th>\n",
       "      <td>846</td>\n",
       "      <td>3006</td>\n",
       "      <td>3713</td>\n",
       "      <td>11.183080</td>\n",
       "      <td>7.449150</td>\n",
       "    </tr>\n",
       "    <tr>\n",
       "      <th>Cardiology</th>\n",
       "      <td>425</td>\n",
       "      <td>1853</td>\n",
       "      <td>3074</td>\n",
       "      <td>7.940957</td>\n",
       "      <td>3.742185</td>\n",
       "    </tr>\n",
       "    <tr>\n",
       "      <th>Surgery-General</th>\n",
       "      <td>342</td>\n",
       "      <td>1046</td>\n",
       "      <td>1711</td>\n",
       "      <td>11.035818</td>\n",
       "      <td>3.011359</td>\n",
       "    </tr>\n",
       "    <tr>\n",
       "      <th>Nephrology</th>\n",
       "      <td>248</td>\n",
       "      <td>666</td>\n",
       "      <td>699</td>\n",
       "      <td>15.375077</td>\n",
       "      <td>2.183675</td>\n",
       "    </tr>\n",
       "    <tr>\n",
       "      <th>Orthopedics</th>\n",
       "      <td>151</td>\n",
       "      <td>327</td>\n",
       "      <td>922</td>\n",
       "      <td>10.785714</td>\n",
       "      <td>1.329576</td>\n",
       "    </tr>\n",
       "    <tr>\n",
       "      <th>Psychiatry</th>\n",
       "      <td>104</td>\n",
       "      <td>262</td>\n",
       "      <td>488</td>\n",
       "      <td>12.177986</td>\n",
       "      <td>0.915735</td>\n",
       "    </tr>\n",
       "    <tr>\n",
       "      <th>Radiologist</th>\n",
       "      <td>103</td>\n",
       "      <td>383</td>\n",
       "      <td>654</td>\n",
       "      <td>9.035088</td>\n",
       "      <td>0.906930</td>\n",
       "    </tr>\n",
       "  </tbody>\n",
       "</table>\n",
       "</div>"
      ],
      "text/plain": [
       "readmitted               <30    >30     NO  perc<30_med_spec  perc<30_total\n",
       "medical_specialty                                                          \n",
       "missing                 5781  18216  25952         11.573805      50.902527\n",
       "InternalMedicine        1646   4723   8266         11.247011      14.493264\n",
       "Family/GeneralPractice   883   2663   3894         11.868280       7.774941\n",
       "Emergency/Trauma         846   3006   3713         11.183080       7.449150\n",
       "Cardiology               425   1853   3074          7.940957       3.742185\n",
       "Surgery-General          342   1046   1711         11.035818       3.011359\n",
       "Nephrology               248    666    699         15.375077       2.183675\n",
       "Orthopedics              151    327    922         10.785714       1.329576\n",
       "Psychiatry               104    262    488         12.177986       0.915735\n",
       "Radiologist              103    383    654          9.035088       0.906930"
      ]
     },
     "execution_count": 20,
     "metadata": {},
     "output_type": "execute_result"
    }
   ],
   "source": [
    "med_sp_twt.sort_values(by=['perc<30_total'], ascending=False).head(10)"
   ]
  },
  {
   "cell_type": "markdown",
   "metadata": {
    "colab_type": "text",
    "id": "NKSE7Dmpyo6O"
   },
   "source": [
    "Here we have _InternalMedicine, Family/GeneralPractice, & Emergency/Trauma_ having the highest rate of patients who were readmitted within 30 days (excluding missing values). However, all of the top specialties are substantially less than the percentage missing values.  \n"
   ]
  },
  {
   "cell_type": "markdown",
   "metadata": {},
   "source": [
    "Since the medical specialty is missing for approximately 50% of the patients who are readmitted within 30 days, I would show my business partner this analysis and specify that we need to gather more specialty data in order to confidently determine the relationship between specialty and readmission status.  I would also elaborate that a higher rate of readmission within 30 days does not mean that a certain specialty causes a patient to readmit. Certain specialties may have higher associations with readmission for a wide variety of factors. "
   ]
  },
  {
   "cell_type": "markdown",
   "metadata": {
    "colab_type": "text",
    "id": "9TpFFAYXyo6t"
   },
   "source": [
    "## Part 2: Build a Model\n",
    "##### Build a predictive model to identify patients at risk of readmitting within 30 days.  Evaluate your model.\n",
    "\n",
    "First, remove the missing values from the columns that still have them.  "
   ]
  },
  {
   "cell_type": "code",
   "execution_count": 21,
   "metadata": {
    "colab": {},
    "colab_type": "code",
    "id": "U-bYIz_Qyo6u"
   },
   "outputs": [],
   "source": [
    "df_model = df_sub.copy()\n",
    "df_model = df_model.dropna(axis=0) #dropping rows with null values\n",
    "# we are dropping 3713 rows out of a total of 101766, approximately 3.64%\n",
    "y = df_model['readmitted']\n",
    "df_model.drop(['readmitted','encounter_id', 'patient_nbr', 'birth_date', 'admit_date'], axis=1, inplace=True) #dropping unnecessary columns\n"
   ]
  },
  {
   "cell_type": "code",
   "execution_count": 22,
   "metadata": {
    "colab": {
     "base_uri": "https://localhost:8080/",
     "height": 241
    },
    "colab_type": "code",
    "id": "nwLjxZV3HNAj",
    "outputId": "d90f0c08-26ac-4942-ecfa-8879e5cb66dd"
   },
   "outputs": [
    {
     "data": {
      "text/html": [
       "<div>\n",
       "<style scoped>\n",
       "    .dataframe tbody tr th:only-of-type {\n",
       "        vertical-align: middle;\n",
       "    }\n",
       "\n",
       "    .dataframe tbody tr th {\n",
       "        vertical-align: top;\n",
       "    }\n",
       "\n",
       "    .dataframe thead th {\n",
       "        text-align: right;\n",
       "    }\n",
       "</style>\n",
       "<table border=\"1\" class=\"dataframe\">\n",
       "  <thead>\n",
       "    <tr style=\"text-align: right;\">\n",
       "      <th></th>\n",
       "      <th>race</th>\n",
       "      <th>gender</th>\n",
       "      <th>admission_type_id</th>\n",
       "      <th>discharge_disposition_id</th>\n",
       "      <th>admission_source_id</th>\n",
       "      <th>time_in_hospital</th>\n",
       "      <th>num_lab_procedures</th>\n",
       "      <th>num_procedures</th>\n",
       "      <th>num_medications</th>\n",
       "      <th>number_outpatient</th>\n",
       "      <th>...</th>\n",
       "      <th>citoglipton</th>\n",
       "      <th>insulin</th>\n",
       "      <th>glyburide-metformin</th>\n",
       "      <th>glipizide-metformin</th>\n",
       "      <th>glimepiride-pioglitazone</th>\n",
       "      <th>metformin-rosiglitazone</th>\n",
       "      <th>metformin-pioglitazone</th>\n",
       "      <th>change</th>\n",
       "      <th>diabetesMed</th>\n",
       "      <th>age</th>\n",
       "    </tr>\n",
       "  </thead>\n",
       "  <tbody>\n",
       "    <tr>\n",
       "      <th>1</th>\n",
       "      <td>Caucasian</td>\n",
       "      <td>Female</td>\n",
       "      <td>1</td>\n",
       "      <td>1</td>\n",
       "      <td>7</td>\n",
       "      <td>3</td>\n",
       "      <td>59</td>\n",
       "      <td>0</td>\n",
       "      <td>18</td>\n",
       "      <td>0</td>\n",
       "      <td>...</td>\n",
       "      <td>No</td>\n",
       "      <td>Up</td>\n",
       "      <td>No</td>\n",
       "      <td>No</td>\n",
       "      <td>No</td>\n",
       "      <td>No</td>\n",
       "      <td>No</td>\n",
       "      <td>Ch</td>\n",
       "      <td>Yes</td>\n",
       "      <td>34</td>\n",
       "    </tr>\n",
       "    <tr>\n",
       "      <th>2</th>\n",
       "      <td>AfricanAmerican</td>\n",
       "      <td>Female</td>\n",
       "      <td>1</td>\n",
       "      <td>1</td>\n",
       "      <td>7</td>\n",
       "      <td>2</td>\n",
       "      <td>11</td>\n",
       "      <td>5</td>\n",
       "      <td>13</td>\n",
       "      <td>2</td>\n",
       "      <td>...</td>\n",
       "      <td>No</td>\n",
       "      <td>No</td>\n",
       "      <td>No</td>\n",
       "      <td>No</td>\n",
       "      <td>No</td>\n",
       "      <td>No</td>\n",
       "      <td>No</td>\n",
       "      <td>No</td>\n",
       "      <td>Yes</td>\n",
       "      <td>36</td>\n",
       "    </tr>\n",
       "    <tr>\n",
       "      <th>3</th>\n",
       "      <td>Caucasian</td>\n",
       "      <td>Male</td>\n",
       "      <td>1</td>\n",
       "      <td>1</td>\n",
       "      <td>7</td>\n",
       "      <td>2</td>\n",
       "      <td>44</td>\n",
       "      <td>1</td>\n",
       "      <td>16</td>\n",
       "      <td>0</td>\n",
       "      <td>...</td>\n",
       "      <td>No</td>\n",
       "      <td>Up</td>\n",
       "      <td>No</td>\n",
       "      <td>No</td>\n",
       "      <td>No</td>\n",
       "      <td>No</td>\n",
       "      <td>No</td>\n",
       "      <td>Ch</td>\n",
       "      <td>Yes</td>\n",
       "      <td>51</td>\n",
       "    </tr>\n",
       "    <tr>\n",
       "      <th>4</th>\n",
       "      <td>Caucasian</td>\n",
       "      <td>Male</td>\n",
       "      <td>1</td>\n",
       "      <td>1</td>\n",
       "      <td>7</td>\n",
       "      <td>1</td>\n",
       "      <td>51</td>\n",
       "      <td>0</td>\n",
       "      <td>8</td>\n",
       "      <td>0</td>\n",
       "      <td>...</td>\n",
       "      <td>No</td>\n",
       "      <td>Steady</td>\n",
       "      <td>No</td>\n",
       "      <td>No</td>\n",
       "      <td>No</td>\n",
       "      <td>No</td>\n",
       "      <td>No</td>\n",
       "      <td>Ch</td>\n",
       "      <td>Yes</td>\n",
       "      <td>62</td>\n",
       "    </tr>\n",
       "    <tr>\n",
       "      <th>5</th>\n",
       "      <td>Caucasian</td>\n",
       "      <td>Male</td>\n",
       "      <td>2</td>\n",
       "      <td>1</td>\n",
       "      <td>2</td>\n",
       "      <td>3</td>\n",
       "      <td>31</td>\n",
       "      <td>6</td>\n",
       "      <td>16</td>\n",
       "      <td>0</td>\n",
       "      <td>...</td>\n",
       "      <td>No</td>\n",
       "      <td>Steady</td>\n",
       "      <td>No</td>\n",
       "      <td>No</td>\n",
       "      <td>No</td>\n",
       "      <td>No</td>\n",
       "      <td>No</td>\n",
       "      <td>No</td>\n",
       "      <td>Yes</td>\n",
       "      <td>69</td>\n",
       "    </tr>\n",
       "  </tbody>\n",
       "</table>\n",
       "<p>5 rows × 43 columns</p>\n",
       "</div>"
      ],
      "text/plain": [
       "              race  gender admission_type_id discharge_disposition_id  \\\n",
       "1        Caucasian  Female                 1                        1   \n",
       "2  AfricanAmerican  Female                 1                        1   \n",
       "3        Caucasian    Male                 1                        1   \n",
       "4        Caucasian    Male                 1                        1   \n",
       "5        Caucasian    Male                 2                        1   \n",
       "\n",
       "  admission_source_id  time_in_hospital  num_lab_procedures  num_procedures  \\\n",
       "1                   7                 3                  59               0   \n",
       "2                   7                 2                  11               5   \n",
       "3                   7                 2                  44               1   \n",
       "4                   7                 1                  51               0   \n",
       "5                   2                 3                  31               6   \n",
       "\n",
       "   num_medications  number_outpatient  ...  citoglipton insulin  \\\n",
       "1               18                  0  ...           No      Up   \n",
       "2               13                  2  ...           No      No   \n",
       "3               16                  0  ...           No      Up   \n",
       "4                8                  0  ...           No  Steady   \n",
       "5               16                  0  ...           No  Steady   \n",
       "\n",
       "  glyburide-metformin glipizide-metformin  glimepiride-pioglitazone  \\\n",
       "1                  No                  No                        No   \n",
       "2                  No                  No                        No   \n",
       "3                  No                  No                        No   \n",
       "4                  No                  No                        No   \n",
       "5                  No                  No                        No   \n",
       "\n",
       "  metformin-rosiglitazone metformin-pioglitazone change diabetesMed age  \n",
       "1                      No                     No     Ch         Yes  34  \n",
       "2                      No                     No     No         Yes  36  \n",
       "3                      No                     No     Ch         Yes  51  \n",
       "4                      No                     No     Ch         Yes  62  \n",
       "5                      No                     No     No         Yes  69  \n",
       "\n",
       "[5 rows x 43 columns]"
      ]
     },
     "execution_count": 22,
     "metadata": {},
     "output_type": "execute_result"
    }
   ],
   "source": [
    "df_model.head()"
   ]
  },
  {
   "cell_type": "markdown",
   "metadata": {
    "colab_type": "text",
    "id": "IhmbwMicaj3A"
   },
   "source": [
    "Next we need to look at our categorical variables.  First, we want to test if there is a relationship between the categorical variables and our response variable of readmission.  Then, for the categorical variables that are going to be important in our model, I will create dummy variables so that we can utilize them.\n",
    "1. race\n",
    "2. gender\n",
    "3. admission_type_id\n",
    "4. discharge_disposition_id\n",
    "5. admission_source_id\n",
    "6. max_glu_serum - ordinal data\n",
    "7. A1result - ordinal data\n",
    "8. metformin\n",
    "9. repaglinide\n",
    "10. nateglinide\n",
    "11. chloropromide\n",
    "12. glimepiride\n",
    "13. acetohexamide\n",
    "14. glipizide\n",
    "15. glyburide\n",
    "16. tolbutamide\n",
    "17. pioglitazone\n",
    "18. rosiglitazone\n",
    "19. acarbose\n",
    "20. miglitol\n",
    "21. troglitazone\n",
    "22. tolazamde\n",
    "23. examide\n",
    "24. citoglipton\n",
    "25. insulin\n",
    "26. glyburide-metformin\t\n",
    "27. glipizide-metformin\t\n",
    "28. glimepiride-pioglitazone\t\n",
    "29. metformin-rosiglitazone\t\n",
    "30. metformin-pioglitazone\t\n",
    "31. change\t\n",
    "32. diabetesMed\n",
    "\n",
    "\n",
    "For the diagnoses (_diag_1, diag_2, diag_3_) variables, I will group them together by their classification of diseases according to the International Statisical Classification of Diseases and Releated Health Problems.  <br>\n",
    "<url>https://en.wikipedia.org/wiki/List_of_ICD-9_codes</url>\n",
    "\n",
    "1. 001-139: infectious and parasitic diseases (infectPara)\n",
    "2. 140–239: neoplasms (neoplasm)\n",
    "3. 240–279: endocrine, nutritional and metabolic diseases, and immunity disorders (enmi)\n",
    "4. 280–289: diseases of the blood and blood-forming organs (blood)\n",
    "5. 290–319: mental disorders (mental)\n",
    "6. 320-389: diseases of the nervous system and sense organs (nervous)\n",
    "7. 390-459: diseases of the circulatory system (circ)\n",
    "8. 460-519: diseases of the respiratory system (resp)\n",
    "9. 520-579: diseases of the digestive system (digest)\n",
    "10. 580-629: diseases of the genitourinary system (genit)\n",
    "11. 630–679: complications of pregnancy, childbirth, and the puerperium (pregChild)\n",
    "12. 680–709: diseases of the skin and subcutaneous tissue (skin)\n",
    "13. 710–739: diseases of the musculoskeletal system and connective tissue (muscle)\n",
    "14. 740–759: congenital anomalies (congenital)\n",
    "15. 760–779: certain conditions originating in the perinatal period (perinatal)\n",
    "16. 780–799: symptoms, signs, and ill-defined conditions (symptom)\n",
    "17. 800–999: injury and poisoning (injPois)\n",
    "18. E and V codes: external causes of injury and supplemental classification (extSupp)"
   ]
  },
  {
   "cell_type": "code",
   "execution_count": 23,
   "metadata": {
    "colab": {},
    "colab_type": "code",
    "id": "QX6Yf9wZdn65"
   },
   "outputs": [],
   "source": [
    "# ordinal encoding of A1Cresult and max_glu_serum\n",
    "encoder = sk.preprocessing.OrdinalEncoder(categories=[['None','Norm','>7','>8']])\n",
    "df_model.A1Cresult = encoder.fit_transform(df_model.A1Cresult.values.reshape(-1,1)) \n",
    "encoder = sk.preprocessing.OrdinalEncoder(categories=[['None','Norm','>200','>300']])\n",
    "df_model.max_glu_serum = encoder.fit_transform(df_model.max_glu_serum.values.reshape(-1,1))"
   ]
  },
  {
   "cell_type": "code",
   "execution_count": 24,
   "metadata": {
    "colab": {
     "base_uri": "https://localhost:8080/",
     "height": 258
    },
    "colab_type": "code",
    "id": "ZjvIp-T0XOJS",
    "outputId": "4e0eb211-2b1a-4d82-d209-b0333853b6b3"
   },
   "outputs": [
    {
     "data": {
      "text/html": [
       "<div>\n",
       "<style scoped>\n",
       "    .dataframe tbody tr th:only-of-type {\n",
       "        vertical-align: middle;\n",
       "    }\n",
       "\n",
       "    .dataframe tbody tr th {\n",
       "        vertical-align: top;\n",
       "    }\n",
       "\n",
       "    .dataframe thead th {\n",
       "        text-align: right;\n",
       "    }\n",
       "</style>\n",
       "<table border=\"1\" class=\"dataframe\">\n",
       "  <thead>\n",
       "    <tr style=\"text-align: right;\">\n",
       "      <th></th>\n",
       "      <th>race</th>\n",
       "      <th>gender</th>\n",
       "      <th>admission_type_id</th>\n",
       "      <th>discharge_disposition_id</th>\n",
       "      <th>admission_source_id</th>\n",
       "      <th>time_in_hospital</th>\n",
       "      <th>num_lab_procedures</th>\n",
       "      <th>num_procedures</th>\n",
       "      <th>num_medications</th>\n",
       "      <th>number_outpatient</th>\n",
       "      <th>...</th>\n",
       "      <th>glipizide-metformin</th>\n",
       "      <th>glimepiride-pioglitazone</th>\n",
       "      <th>metformin-rosiglitazone</th>\n",
       "      <th>metformin-pioglitazone</th>\n",
       "      <th>change</th>\n",
       "      <th>diabetesMed</th>\n",
       "      <th>age</th>\n",
       "      <th>diag_1_id</th>\n",
       "      <th>diag_2_id</th>\n",
       "      <th>diag_3_id</th>\n",
       "    </tr>\n",
       "  </thead>\n",
       "  <tbody>\n",
       "    <tr>\n",
       "      <th>1</th>\n",
       "      <td>Caucasian</td>\n",
       "      <td>Female</td>\n",
       "      <td>1</td>\n",
       "      <td>1</td>\n",
       "      <td>7</td>\n",
       "      <td>3</td>\n",
       "      <td>59</td>\n",
       "      <td>0</td>\n",
       "      <td>18</td>\n",
       "      <td>0</td>\n",
       "      <td>...</td>\n",
       "      <td>No</td>\n",
       "      <td>No</td>\n",
       "      <td>No</td>\n",
       "      <td>No</td>\n",
       "      <td>Ch</td>\n",
       "      <td>Yes</td>\n",
       "      <td>34</td>\n",
       "      <td>276</td>\n",
       "      <td>250.01</td>\n",
       "      <td>255</td>\n",
       "    </tr>\n",
       "    <tr>\n",
       "      <th>2</th>\n",
       "      <td>AfricanAmerican</td>\n",
       "      <td>Female</td>\n",
       "      <td>1</td>\n",
       "      <td>1</td>\n",
       "      <td>7</td>\n",
       "      <td>2</td>\n",
       "      <td>11</td>\n",
       "      <td>5</td>\n",
       "      <td>13</td>\n",
       "      <td>2</td>\n",
       "      <td>...</td>\n",
       "      <td>No</td>\n",
       "      <td>No</td>\n",
       "      <td>No</td>\n",
       "      <td>No</td>\n",
       "      <td>No</td>\n",
       "      <td>Yes</td>\n",
       "      <td>36</td>\n",
       "      <td>648</td>\n",
       "      <td>250</td>\n",
       "      <td>V27</td>\n",
       "    </tr>\n",
       "    <tr>\n",
       "      <th>3</th>\n",
       "      <td>Caucasian</td>\n",
       "      <td>Male</td>\n",
       "      <td>1</td>\n",
       "      <td>1</td>\n",
       "      <td>7</td>\n",
       "      <td>2</td>\n",
       "      <td>44</td>\n",
       "      <td>1</td>\n",
       "      <td>16</td>\n",
       "      <td>0</td>\n",
       "      <td>...</td>\n",
       "      <td>No</td>\n",
       "      <td>No</td>\n",
       "      <td>No</td>\n",
       "      <td>No</td>\n",
       "      <td>Ch</td>\n",
       "      <td>Yes</td>\n",
       "      <td>51</td>\n",
       "      <td>8</td>\n",
       "      <td>250.43</td>\n",
       "      <td>403</td>\n",
       "    </tr>\n",
       "    <tr>\n",
       "      <th>4</th>\n",
       "      <td>Caucasian</td>\n",
       "      <td>Male</td>\n",
       "      <td>1</td>\n",
       "      <td>1</td>\n",
       "      <td>7</td>\n",
       "      <td>1</td>\n",
       "      <td>51</td>\n",
       "      <td>0</td>\n",
       "      <td>8</td>\n",
       "      <td>0</td>\n",
       "      <td>...</td>\n",
       "      <td>No</td>\n",
       "      <td>No</td>\n",
       "      <td>No</td>\n",
       "      <td>No</td>\n",
       "      <td>Ch</td>\n",
       "      <td>Yes</td>\n",
       "      <td>62</td>\n",
       "      <td>197</td>\n",
       "      <td>157</td>\n",
       "      <td>250</td>\n",
       "    </tr>\n",
       "    <tr>\n",
       "      <th>5</th>\n",
       "      <td>Caucasian</td>\n",
       "      <td>Male</td>\n",
       "      <td>2</td>\n",
       "      <td>1</td>\n",
       "      <td>2</td>\n",
       "      <td>3</td>\n",
       "      <td>31</td>\n",
       "      <td>6</td>\n",
       "      <td>16</td>\n",
       "      <td>0</td>\n",
       "      <td>...</td>\n",
       "      <td>No</td>\n",
       "      <td>No</td>\n",
       "      <td>No</td>\n",
       "      <td>No</td>\n",
       "      <td>No</td>\n",
       "      <td>Yes</td>\n",
       "      <td>69</td>\n",
       "      <td>414</td>\n",
       "      <td>411</td>\n",
       "      <td>250</td>\n",
       "    </tr>\n",
       "  </tbody>\n",
       "</table>\n",
       "<p>5 rows × 46 columns</p>\n",
       "</div>"
      ],
      "text/plain": [
       "              race  gender admission_type_id discharge_disposition_id  \\\n",
       "1        Caucasian  Female                 1                        1   \n",
       "2  AfricanAmerican  Female                 1                        1   \n",
       "3        Caucasian    Male                 1                        1   \n",
       "4        Caucasian    Male                 1                        1   \n",
       "5        Caucasian    Male                 2                        1   \n",
       "\n",
       "  admission_source_id  time_in_hospital  num_lab_procedures  num_procedures  \\\n",
       "1                   7                 3                  59               0   \n",
       "2                   7                 2                  11               5   \n",
       "3                   7                 2                  44               1   \n",
       "4                   7                 1                  51               0   \n",
       "5                   2                 3                  31               6   \n",
       "\n",
       "   num_medications  number_outpatient  ...  glipizide-metformin  \\\n",
       "1               18                  0  ...                   No   \n",
       "2               13                  2  ...                   No   \n",
       "3               16                  0  ...                   No   \n",
       "4                8                  0  ...                   No   \n",
       "5               16                  0  ...                   No   \n",
       "\n",
       "  glimepiride-pioglitazone metformin-rosiglitazone metformin-pioglitazone  \\\n",
       "1                       No                      No                     No   \n",
       "2                       No                      No                     No   \n",
       "3                       No                      No                     No   \n",
       "4                       No                      No                     No   \n",
       "5                       No                      No                     No   \n",
       "\n",
       "   change  diabetesMed  age diag_1_id diag_2_id diag_3_id  \n",
       "1      Ch          Yes   34       276    250.01       255  \n",
       "2      No          Yes   36       648       250       V27  \n",
       "3      Ch          Yes   51         8    250.43       403  \n",
       "4      Ch          Yes   62       197       157       250  \n",
       "5      No          Yes   69       414       411       250  \n",
       "\n",
       "[5 rows x 46 columns]"
      ]
     },
     "execution_count": 24,
     "metadata": {},
     "output_type": "execute_result"
    }
   ],
   "source": [
    "# grouping diagnosis variables according to https://en.wikipedia.org/wiki/List_of_ICD-9_codes\n",
    "\n",
    "df_model['diag_1_id'] = df_model['diag_1']\n",
    "df_model['diag_2_id'] = df_model['diag_2']\n",
    "df_model['diag_3_id'] = df_model['diag_3']\n",
    "\n",
    "def rep_diag(df, col_name):\n",
    "  for i, row in df.iterrows():\n",
    "    if 'E' in row[col_name] or 'V' in row[col_name]:\n",
    "      df.at[i,col_name] = 'extSupp'\n",
    "    elif float(row[col_name])<=139:\n",
    "      df.at[i,col_name] = 'infectPara'\n",
    "    elif float(row[col_name])<=279:\n",
    "      df.at[i,col_name] = 'neoplasm'\n",
    "    elif float(row[col_name])<=289:\n",
    "      df.at[i,col_name] = 'enmi'\n",
    "    elif float(row[col_name])<=319:\n",
    "      df.at[i,col_name] = 'mental'\n",
    "    elif float(row[col_name])<=389:\n",
    "      df.at[i,col_name] = 'nervous'\n",
    "    elif float(row[col_name])<=459:\n",
    "      df.at[i,col_name] = 'circ'\n",
    "    elif float(row[col_name])<=519:\n",
    "      df.at[i,col_name] = 'resp'\n",
    "    elif float(row[col_name])<=579:\n",
    "      df.at[i,col_name] = 'digest'\n",
    "    elif float(row[col_name])<=629:\n",
    "      df.at[i,col_name] = 'genit'\n",
    "    elif float(row[col_name])<=679:\n",
    "      df.at[i,col_name] = 'pregChild'\n",
    "    elif float(row[col_name])<=709:\n",
    "      df.at[i,col_name] = 'skin'\n",
    "    elif float(row[col_name])<=739:\n",
    "      df.at[i,col_name] = 'muscle'\n",
    "    elif float(row[col_name])<=759:\n",
    "      df.at[i,col_name] = 'congenital'\n",
    "    elif float(row[col_name])<=779:\n",
    "      df.at[i,col_name] = 'perinatal'\n",
    "    elif float(row[col_name])<=799:\n",
    "      df.at[i,col_name] = 'symptom'\n",
    "    elif float(row[col_name])<=999:\n",
    "      df.at[i,col_name] = 'injPois'\n",
    "  return df\n",
    "\n",
    "rep_diag(df_model, 'diag_1')\n",
    "rep_diag(df_model, 'diag_2')\n",
    "rep_diag(df_model, 'diag_3')\n",
    "\n",
    "df_model.head()"
   ]
  },
  {
   "cell_type": "markdown",
   "metadata": {
    "colab_type": "text",
    "id": "MIa2YK3LhSm1"
   },
   "source": [
    "**Feature Selection:**  <br> I will be using a chi squared test to determine which of the categorical variables are important.   "
   ]
  },
  {
   "cell_type": "code",
   "execution_count": 25,
   "metadata": {
    "colab": {
     "base_uri": "https://localhost:8080/",
     "height": 629
    },
    "colab_type": "code",
    "id": "SWIRZT12XcJE",
    "outputId": "66ab8ff5-2199-4db2-b893-02d23cea9b54"
   },
   "outputs": [
    {
     "data": {
      "text/plain": [
       "miglitol                     9.990575e-01\n",
       "chlorpropamide               9.981376e-01\n",
       "glyburide-metformin          9.930507e-01\n",
       "nateglinide                  9.924186e-01\n",
       "acarbose                     9.521332e-01\n",
       "glyburide                    8.282182e-01\n",
       "race                         7.891118e-01\n",
       "glimepiride                  7.618509e-01\n",
       "repaglinide                  6.974255e-01\n",
       "insulin                      6.500353e-01\n",
       "metformin-pioglitazone       6.461468e-01\n",
       "troglitazone                 4.971622e-01\n",
       "tolazamide                   4.706592e-01\n",
       "rosiglitazone                4.592483e-01\n",
       "pioglitazone                 4.167468e-01\n",
       "acetohexamide                4.005378e-01\n",
       "glimepiride-pioglitazone     4.005378e-01\n",
       "glipizide-metformin          3.770185e-01\n",
       "tolbutamide                  3.338956e-01\n",
       "glipizide                    2.360717e-01\n",
       "metformin                    5.014193e-04\n",
       "gender                       1.560339e-04\n",
       "admission_type_id            3.052246e-06\n",
       "A1Cresult                    9.070990e-11\n",
       "diag_2                       5.039322e-14\n",
       "max_glu_serum                5.312155e-16\n",
       "diag_2_id                    2.894530e-16\n",
       "diag_1                       5.663105e-19\n",
       "diabetesMed                  6.867060e-20\n",
       "change                       8.783966e-21\n",
       "diag_3                       4.050998e-24\n",
       "admission_source_id         2.992355e-176\n",
       "diag_1_id                   3.194410e-258\n",
       "discharge_disposition_id     0.000000e+00\n",
       "diag_3_id                    0.000000e+00\n",
       "examide                               NaN\n",
       "citoglipton                           NaN\n",
       "metformin-rosiglitazone               NaN\n",
       "dtype: float64"
      ]
     },
     "execution_count": 25,
     "metadata": {},
     "output_type": "execute_result"
    }
   ],
   "source": [
    "#chi sq test for feature selection (categorical variables)\n",
    "cat_vars = df_model.copy()\n",
    "cat_vars = cat_vars.drop(['time_in_hospital', 'num_lab_procedures', \n",
    "                          'num_procedures', 'num_medications', \n",
    "                          'number_outpatient', 'number_emergency', \n",
    "                          'number_diagnoses', 'age'],\n",
    "                         axis=1, inplace=False) #subsetting to include only categorical variables\n",
    "\n",
    "label_encoder = LabelEncoder()\n",
    "for i,feature in enumerate(cat_vars.columns):\n",
    "    cat_vars[feature] = label_encoder.fit_transform(cat_vars[feature]) # label encoding each categorical variable\n",
    "\n",
    "lab_encoder = sk.preprocessing.LabelEncoder().fit([\"<30\", \">30\", \"NO\"])\n",
    "y_lab = label_encoder.fit_transform(y)\n",
    "\n",
    "chi_scores = chi2(cat_vars,y_lab)\n",
    "p_values = pd.Series(chi_scores[1],index = cat_vars.columns).sort_values(ascending=False) #sorting values by p value\n",
    "p_values.head(50)"
   ]
  },
  {
   "cell_type": "code",
   "execution_count": 26,
   "metadata": {
    "colab": {
     "base_uri": "https://localhost:8080/",
     "height": 410
    },
    "colab_type": "code",
    "id": "18_XAZ-5XcGv",
    "outputId": "61ca045d-64cc-447f-9ecc-b4e780e42f36"
   },
   "outputs": [
    {
     "data": {
      "text/plain": [
       "<matplotlib.axes._subplots.AxesSubplot at 0x1a1d77ebe0>"
      ]
     },
     "execution_count": 26,
     "metadata": {},
     "output_type": "execute_result"
    },
    {
     "data": {
      "image/png": "[encoded data removed]",
      "text/plain": [
       "<Figure size 432x288 with 1 Axes>"
      ]
     },
     "metadata": {},
     "output_type": "display_data"
    }
   ],
   "source": [
    "p_values.plot.bar()\n"
   ]
  },
  {
   "cell_type": "markdown",
   "metadata": {
    "colab_type": "text",
    "id": "HY36pU1Nl5RL"
   },
   "source": [
    "This test allows us to determine if categorical variables are independent.  If they are not independent, then we will include them in our model because they will allow us to predict readmission status.  A p-value greater than 0.05 does not allow us to reject the null hypothesis of independence, and therefore we do not want to consider these variables in our model.  "
   ]
  },
  {
   "cell_type": "code",
   "execution_count": 27,
   "metadata": {
    "colab": {},
    "colab_type": "code",
    "id": "hKklUBG-nB1s"
   },
   "outputs": [],
   "source": [
    "#create variety of dataframes for modelling\n",
    "\n",
    "df_model_sub = df_model.drop(['glyburide-metformin', \n",
    "               'chlorpropamide', \n",
    "               'nateglinide', \n",
    "               'repaglinide', \n",
    "               'glimepiride',\n",
    "               'rosiglitazone',\n",
    "               'glipizide',\n",
    "               'miglitol',\n",
    "               'tolazamide',\n",
    "               'pioglitazone',\n",
    "               'glyburide',\n",
    "               'troglitazone',\n",
    "               'acarbose',\n",
    "               'acetohexamide',\n",
    "               'tolbutamide',\n",
    "               'insulin',\n",
    "               'race',\n",
    "               'metformin-pioglitazone',\n",
    "               'glimepiride-pioglitazone',\n",
    "               'glipizide-metformin',\n",
    "               'diag_1_id',\n",
    "               'diag_2_id',\n",
    "               'diag_3_id'], axis=1, inplace=False)\n",
    "\n",
    "df_model_subids = df_model.drop(['glyburide-metformin', \n",
    "               'chlorpropamide', \n",
    "               'nateglinide', \n",
    "               'repaglinide', \n",
    "               'glimepiride',\n",
    "               'rosiglitazone',\n",
    "               'glipizide',\n",
    "               'miglitol',\n",
    "               'tolazamide',\n",
    "               'pioglitazone',\n",
    "               'glyburide',\n",
    "               'troglitazone',\n",
    "               'acarbose',\n",
    "               'acetohexamide',\n",
    "               'tolbutamide',\n",
    "               'insulin',\n",
    "               'race',\n",
    "               'metformin-pioglitazone',\n",
    "               'glimepiride-pioglitazone',\n",
    "               'glipizide-metformin',\n",
    "               'diag_1',\n",
    "               'diag_2',\n",
    "               'diag_3'], axis=1, inplace=False)\n",
    "\n",
    "df_model = df_model.drop([\n",
    "               'diag_1_id',\n",
    "               'diag_2_id',\n",
    "               'diag_3_id'], axis=1, inplace=False)\n"
   ]
  },
  {
   "cell_type": "code",
   "execution_count": 28,
   "metadata": {
    "colab": {
     "base_uri": "https://localhost:8080/",
     "height": 270
    },
    "colab_type": "code",
    "id": "lGTikjiv5vMz",
    "outputId": "d05f67b8-c78b-49f4-c78f-41932729a372"
   },
   "outputs": [
    {
     "data": {
      "text/plain": [
       "(98053, 191)"
      ]
     },
     "execution_count": 28,
     "metadata": {},
     "output_type": "execute_result"
    }
   ],
   "source": [
    "#creating dummy variables to use in modeling\n",
    "data = pd.get_dummies(df_model)\n",
    "data.shape"
   ]
  },
  {
   "cell_type": "code",
   "execution_count": 29,
   "metadata": {
    "colab": {
     "base_uri": "https://localhost:8080/",
     "height": 270
    },
    "colab_type": "code",
    "id": "mxVx0jjmt4xm",
    "outputId": "f2d8d87f-a291-4179-9497-06f5e0e2f710"
   },
   "outputs": [
    {
     "data": {
      "text/plain": [
       "(98053, 123)"
      ]
     },
     "execution_count": 29,
     "metadata": {},
     "output_type": "execute_result"
    }
   ],
   "source": [
    "data_sub = pd.get_dummies(df_model_sub)\n",
    "data_sub.shape"
   ]
  },
  {
   "cell_type": "markdown",
   "metadata": {
    "colab_type": "text",
    "id": "x_CbEHh7_18g"
   },
   "source": [
    "Before we get into modeling, lets take a look at the response variable"
   ]
  },
  {
   "cell_type": "code",
   "execution_count": 30,
   "metadata": {
    "colab": {
     "base_uri": "https://localhost:8080/",
     "height": 285
    },
    "colab_type": "code",
    "id": "5jeV-YA__7WS",
    "outputId": "67eca046-917d-46e2-b209-37a0008d95cc"
   },
   "outputs": [
    {
     "data": {
      "text/plain": [
       "<BarContainer object of 3 artists>"
      ]
     },
     "execution_count": 30,
     "metadata": {},
     "output_type": "execute_result"
    },
    {
     "data": {
      "image/png": "[encoded data removed]",
      "text/plain": [
       "<Figure size 432x288 with 1 Axes>"
      ]
     },
     "metadata": {},
     "output_type": "display_data"
    }
   ],
   "source": [
    "# plot the counts of each readmission status\n",
    "vals, cts = np.unique(y, return_counts=True)\n",
    "plt.bar(vals, cts)"
   ]
  },
  {
   "cell_type": "code",
   "execution_count": 31,
   "metadata": {
    "colab": {
     "base_uri": "https://localhost:8080/",
     "height": 68
    },
    "colab_type": "code",
    "id": "wDy8l1w5ABlo",
    "outputId": "50df136b-1075-4fae-9ea4-4d86d0f9a496"
   },
   "outputs": [
    {
     "name": "stdout",
     "output_type": "stream",
     "text": [
      "<30 : 11.285733225908437\n",
      ">30 : 35.33701161616677\n",
      "NO : 53.37725515792479\n"
     ]
    }
   ],
   "source": [
    "# finding percentage of each readmission status\n",
    "for (i,j) in zip(vals,cts):\n",
    "  print(i,':',j/len(y)*100)"
   ]
  },
  {
   "cell_type": "markdown",
   "metadata": {
    "colab_type": "text",
    "id": "23cfX-Bb_KOy"
   },
   "source": [
    "Overall, our dataset containes approximately 11% of the group we are interested in predicting (<30 days).  After splitting the test and train data I will do some oversampling techniques to artificially equal out the representation of the groups.  This technique forces the model to take notice of the minority groups and learn to predict them as well.  "
   ]
  },
  {
   "cell_type": "markdown",
   "metadata": {
    "colab_type": "text",
    "id": "aATNVJn_uHfk"
   },
   "source": [
    "#### Modeling Plan\n",
    "1. Build Logistic Regression Model with all variables\n",
    "2. Build Logistic Regression Model with a subset of variables\n",
    "3. Build Logistic Regression Model using Randomized Search CV\n",
    "4. Build Random Forest Model using Randomized Search CV\n",
    "\n",
    "For each of the models above, I want to look at the difference between binary-encoding the response variable (1 = <30 days, 0 = else) and label-encoding (0 = <30 days, 1 = >30 days, 2 = NO).  Binary-encoding could make sense because the only response variable we are interested in is <30 days.  However, this may reduce the accuracy of the model because there may be characteristics that slightly differentiate <30 days and >30 days, but are different than no readmission.  This would be the rationale behind label-encoding the response.   "
   ]
  },
  {
   "cell_type": "markdown",
   "metadata": {},
   "source": [
    "I chose to start with a logistic regression model because we are looking for the probability of short-term readmission.  A logistic regression is great for\n",
    "these types of problems because it gives us a value between 0 and 1. In addition it is simple\n",
    "to explain for those clients who aren’t versed in complex modeling tactics."
   ]
  },
  {
   "cell_type": "code",
   "execution_count": 32,
   "metadata": {
    "colab": {},
    "colab_type": "code",
    "id": "16CqEj3juka3"
   },
   "outputs": [],
   "source": [
    "#label and binary encoding\n",
    "lab_encoder = sk.preprocessing.LabelEncoder().fit([\"<30\", \">30\", \"NO\"])\n",
    "y_lab = label_encoder.fit_transform(y)\n",
    "\n",
    "y_oh = pd.get_dummies(y)\n",
    "y_oh = y_oh['<30']"
   ]
  },
  {
   "cell_type": "code",
   "execution_count": 33,
   "metadata": {
    "colab": {},
    "colab_type": "code",
    "id": "3E50D9otaa3p"
   },
   "outputs": [],
   "source": [
    "#standardizing the data\n",
    "sc = sk.preprocessing.StandardScaler().fit(data)\n",
    "data_sc = sc.transform(data)"
   ]
  },
  {
   "cell_type": "code",
   "execution_count": 34,
   "metadata": {
    "colab": {},
    "colab_type": "code",
    "id": "PPo4kq5bzkvo"
   },
   "outputs": [],
   "source": [
    "#splitting into train & test\n",
    "bin_X_train, bin_X_test, bin_y_train, bin_y_test = sk.model_selection.train_test_split(data_sc, y_oh, test_size=0.3, random_state=0)"
   ]
  },
  {
   "cell_type": "code",
   "execution_count": 35,
   "metadata": {
    "colab": {},
    "colab_type": "code",
    "id": "GLHWcCOqK0JF"
   },
   "outputs": [],
   "source": [
    "bin_logm = sk.linear_model.LogisticRegressionCV(cv = 6, random_state=0)\n",
    "bin_logm.fit(bin_X_train, bin_y_train)\n",
    "bin_log_all_predictions = bin_logm.predict(bin_X_test)"
   ]
  },
  {
   "cell_type": "code",
   "execution_count": 36,
   "metadata": {
    "colab": {},
    "colab_type": "code",
    "id": "EuEff2gynBry"
   },
   "outputs": [
    {
     "data": {
      "image/png": "[encoded data removed]",
      "text/plain": [
       "<Figure size 432x288 with 1 Axes>"
      ]
     },
     "metadata": {},
     "output_type": "display_data"
    },
    {
     "name": "stdout",
     "output_type": "stream",
     "text": [
      "              precision    recall  f1-score   support\n",
      "\n",
      "           0       0.89      1.00      0.94     26107\n",
      "           1       0.00      0.00      0.00      3309\n",
      "\n",
      "    accuracy                           0.89     29416\n",
      "   macro avg       0.44      0.50      0.47     29416\n",
      "weighted avg       0.79      0.89      0.83     29416\n",
      "\n"
     ]
    }
   ],
   "source": [
    "fpr, tpr, threshold = sk.metrics.roc_curve(bin_y_test, bin_log_all_predictions)\n",
    "roc_auc = sk.metrics.auc(fpr, tpr)\n",
    "\n",
    "plt.title('Receiver Operating Characteristic')\n",
    "plt.plot(fpr, tpr, 'b', label = 'AUC = %0.2f' % roc_auc)\n",
    "plt.legend(loc = 'lower right')\n",
    "plt.plot([0, 1], [0, 1],'r--')\n",
    "plt.xlim([0, 1])\n",
    "plt.ylim([0, 1])\n",
    "plt.ylabel('True Positive Rate')\n",
    "plt.xlabel('False Positive Rate')\n",
    "plt.show()\n",
    "\n",
    "print(sk.metrics.classification_report(bin_y_test, bin_log_all_predictions))"
   ]
  },
  {
   "cell_type": "markdown",
   "metadata": {
    "colab_type": "text",
    "id": "_hsalPYpVfV9"
   },
   "source": [
    "The recall for our variable of interest (1) is extremely low.  This proves that the model is biased towards the majority class (0).  The ROC curve on this model is just a straight line, which means it is no better than randomly guessing.  Even though the overall accuracy is quite high, the model is essentially just predicting that every patient will not readmit.  Because 89% of the data has this label, this model is correct 89% of the time.  For our purposes however, this is suboptimal as we are trying to predict whether someone will readmit within 30 days, not just defaulting each patient to no readmission.  This is why we want to resample.  We will force the model to take notice of the <30 days category and force it to differentiate between the groups.  "
   ]
  },
  {
   "cell_type": "code",
   "execution_count": 37,
   "metadata": {
    "colab": {},
    "colab_type": "code",
    "id": "6XgvIrz2Vudo"
   },
   "outputs": [],
   "source": [
    "#binary encoder: all variables\n",
    "#resampling\n",
    "smt = SMOTE()\n",
    "bin_X_train_smt, bin_y_train_smt = smt.fit_sample(bin_X_train, bin_y_train)"
   ]
  },
  {
   "cell_type": "code",
   "execution_count": 38,
   "metadata": {
    "colab": {},
    "colab_type": "code",
    "id": "Cj-bG9RmVuV4"
   },
   "outputs": [],
   "source": [
    "#modeling: logistic regression with binary encoding all variables\n",
    "bin_log_all_logm = sk.linear_model.LogisticRegressionCV(cv = 6, random_state=0, class_weight='balanced')\n",
    "bin_log_all_model = bin_log_all_logm.fit(bin_X_train_smt, bin_y_train_smt)\n",
    "bin_log_all_predictions = bin_log_all_logm.predict(bin_X_test)"
   ]
  },
  {
   "cell_type": "code",
   "execution_count": 39,
   "metadata": {
    "colab": {},
    "colab_type": "code",
    "id": "Iy8WLrP_Vz5I"
   },
   "outputs": [
    {
     "data": {
      "image/png": "[encoded data removed]",
      "text/plain": [
       "<Figure size 432x288 with 1 Axes>"
      ]
     },
     "metadata": {},
     "output_type": "display_data"
    },
    {
     "name": "stdout",
     "output_type": "stream",
     "text": [
      "              precision    recall  f1-score   support\n",
      "\n",
      "           0       0.92      0.60      0.73     26107\n",
      "           1       0.15      0.57      0.24      3309\n",
      "\n",
      "    accuracy                           0.60     29416\n",
      "   macro avg       0.53      0.58      0.48     29416\n",
      "weighted avg       0.83      0.60      0.67     29416\n",
      "\n"
     ]
    },
    {
     "data": {
      "image/png": "[encoded data removed]",
      "text/plain": [
       "<Figure size 432x288 with 2 Axes>"
      ]
     },
     "metadata": {},
     "output_type": "display_data"
    }
   ],
   "source": [
    "#determining roc metrics and plotting ROC curve, classification report, and confusion matrix\n",
    "fpr, tpr, threshold = sk.metrics.roc_curve(bin_y_test, bin_log_all_predictions)\n",
    "roc_auc = sk.metrics.auc(fpr, tpr)\n",
    "\n",
    "plt.title('Receiver Operating Characteristic')\n",
    "plt.plot(fpr, tpr, 'b', label = 'AUC = %0.2f' % roc_auc)\n",
    "plt.legend(loc = 'lower right')\n",
    "plt.plot([0, 1], [0, 1],'r--')\n",
    "plt.xlim([0, 1])\n",
    "plt.ylim([0, 1])\n",
    "plt.ylabel('True Positive Rate')\n",
    "plt.xlabel('False Positive Rate')\n",
    "plt.show()\n",
    "\n",
    "print(sk.metrics.classification_report(bin_y_test, bin_log_all_predictions))\n",
    "\n",
    "sk.metrics.plot_confusion_matrix(bin_log_all_model, bin_X_test, bin_y_test, display_labels=[\"rest\",\"<30\"], cmap=plt.cm.Blues)\n",
    "plt.grid(None)"
   ]
  },
  {
   "cell_type": "markdown",
   "metadata": {
    "colab_type": "text",
    "id": "QWgy9Gig_lYS"
   },
   "source": [
    "Lets walk through these values.  We can see that resampling makes a substantial improvement on the recall of the model.\n",
    "**Precision/Positive Predictive Value:** how many selected items are relevant?\n",
    "```\n",
    "precision = true positive / (true positive + false positive)\n",
    "```\n",
    "**Recall/Sensitivity**: how many relevant items are selected?\n",
    "\n",
    "```\n",
    "recall = true positive / (true positive + false negative)\n",
    "```\n",
    "So for our variable of interest of <30 days readmission (0), we have a precision of 0.15 and a recall of 0.56.  \n",
    "<br>\n",
    "Of the total patients that this model predicted would readmit within 30 days, only 15% of them actually did.  This means that we predicted 15% true positives.  In addition, of all the patients that truly readmitted within 30 days, this model identified 56% of them.  We can see the actual counts of patients in the confusion matrix above.  <br><br>\n",
    "True Positives: 1.9e03 patients<br>\n",
    "False Positives: 1.0e04 patients<br>\n",
    "True Negatives: 1.6e04 patients<br>\n",
    "False Negatives: 1.4e03 patients<br>\n",
    "<br>\n",
    "The ROC curve has improved with the resampling, with an AUC of 0.58.  \n",
    "<br>\n",
    "Ideally, I'd like the precision and recall to both be higher.  I am more concerned about the recall because it would be better to have false positives than false negatives.  Intuitively, I would rather be cautious and predict that someone will readmit even if they actually don't.  This is preferred to missing out on a patient that will actually readmit.  This question would be further discussed with the business partners.  \n",
    "<br>\n",
    "Lets try some new techniques to improve these metrics.  \n"
   ]
  },
  {
   "cell_type": "markdown",
   "metadata": {
    "colab_type": "text",
    "id": "JXs-FqEuXYkI"
   },
   "source": [
    "Lets see what happens when we use a label encoder instead of a binary encoder.  "
   ]
  },
  {
   "cell_type": "code",
   "execution_count": 40,
   "metadata": {
    "colab": {},
    "colab_type": "code",
    "id": "m7HRdtclVz2L"
   },
   "outputs": [],
   "source": [
    "#label encoder: all variables\n",
    "#splitting data\n",
    "lab_X_train, lab_X_test, lab_y_train, lab_y_test = sk.model_selection.train_test_split(data_sc, y_lab, test_size=0.3, random_state=0)\n",
    "#smote\n",
    "smt = SMOTE()\n",
    "lab_X_train_smt, lab_y_train_smt = smt.fit_sample(lab_X_train, lab_y_train)"
   ]
  },
  {
   "cell_type": "code",
   "execution_count": 41,
   "metadata": {
    "colab": {},
    "colab_type": "code",
    "id": "dxbJvVRmbcuz"
   },
   "outputs": [
    {
     "name": "stdout",
     "output_type": "stream",
     "text": [
      "              precision    recall  f1-score   support\n",
      "\n",
      "           0       0.16      0.41      0.23      3309\n",
      "           1       0.45      0.38      0.42     10531\n",
      "           2       0.65      0.51      0.57     15576\n",
      "\n",
      "    accuracy                           0.45     29416\n",
      "   macro avg       0.42      0.43      0.41     29416\n",
      "weighted avg       0.53      0.45      0.48     29416\n",
      "\n"
     ]
    }
   ],
   "source": [
    "#modelling: logistic regression with label encoding all variables\n",
    "lab_log_all_logm = sk.linear_model.LogisticRegressionCV(cv = 6, random_state=0, class_weight='balanced')\n",
    "lab_log_all_model = lab_log_all_logm.fit(lab_X_train_smt, lab_y_train_smt)\n",
    "lab_log_all_predictions = lab_log_all_logm.predict(lab_X_test)\n",
    "\n",
    "print(sk.metrics.classification_report(lab_y_test, lab_log_all_predictions))"
   ]
  },
  {
   "cell_type": "markdown",
   "metadata": {
    "colab_type": "text",
    "id": "h71U5qfXnPIY"
   },
   "source": [
    "We can see that the label encoding reduced our recall for <30 days (0 in the summary above) to 0.42 and our precision is 0.16.  This means that a binary encoding might be a better method for this analysis.  One reason for this is that if a person readmits after 30 days, they are likely readmitting for something that is not related to the inital visit and therefore they would have more similarity to those patients who do not readmit at all. <br>\n",
    "\n",
    "Next, lets see if subsetting the data gives us as good of a result as using the entire dataset.  Normally we do not want to use all of the variables, just those that are important in prediction.  "
   ]
  },
  {
   "cell_type": "code",
   "execution_count": 42,
   "metadata": {
    "colab": {
     "base_uri": "https://localhost:8080/",
     "height": 71
    },
    "colab_type": "code",
    "id": "xuTLBSdIVzxt",
    "outputId": "ad3fcd3c-4006-4977-f787-13e37fe84a58"
   },
   "outputs": [],
   "source": [
    "#standardize the subset data\n",
    "sc_sub = sk.preprocessing.StandardScaler().fit(data_sub)\n",
    "data_sub_sc = sc_sub.transform(data_sub)\n",
    "#binary encoder: subset of variables\n",
    "bin_sub_X_train, bin_sub_X_test, bin_sub_y_train, bin_sub_y_test = sk.model_selection.train_test_split(data_sub_sc, y_oh, test_size=0.3, random_state=0)\n",
    "#resampling\n",
    "smt = SMOTE()\n",
    "bin_sub_X_train_smt, bin_sub_y_train_smt = smt.fit_sample(bin_sub_X_train, bin_sub_y_train)"
   ]
  },
  {
   "cell_type": "code",
   "execution_count": 43,
   "metadata": {
    "colab": {
     "base_uri": "https://localhost:8080/",
     "height": 358
    },
    "colab_type": "code",
    "id": "B8Od3oD0Vzu6",
    "outputId": "9a2ac58c-160c-4401-c62e-f93012120ba1"
   },
   "outputs": [],
   "source": [
    "#modelling: logistic regression with binary encoding with a subset of variables\n",
    "bin_log_sub_logm = sk.linear_model.LogisticRegressionCV(cv = 6, random_state=0)\n",
    "bin_log_sub_model = bin_log_sub_logm.fit(bin_sub_X_train_smt, bin_sub_y_train_smt)\n",
    "bin_log_sub_predictions = bin_log_sub_logm.predict(bin_sub_X_test)"
   ]
  },
  {
   "cell_type": "code",
   "execution_count": 44,
   "metadata": {},
   "outputs": [
    {
     "data": {
      "image/png": "[encoded data removed]",
      "text/plain": [
       "<Figure size 432x288 with 1 Axes>"
      ]
     },
     "metadata": {},
     "output_type": "display_data"
    },
    {
     "name": "stdout",
     "output_type": "stream",
     "text": [
      "              precision    recall  f1-score   support\n",
      "\n",
      "           0       0.92      0.60      0.72     26107\n",
      "           1       0.15      0.57      0.24      3309\n",
      "\n",
      "    accuracy                           0.59     29416\n",
      "   macro avg       0.53      0.58      0.48     29416\n",
      "weighted avg       0.83      0.59      0.67     29416\n",
      "\n"
     ]
    },
    {
     "data": {
      "image/png": "[encoded data removed]",
      "text/plain": [
       "<Figure size 432x288 with 2 Axes>"
      ]
     },
     "metadata": {},
     "output_type": "display_data"
    }
   ],
   "source": [
    "#determining roc metrics and plotting ROC curve, classification report, and confusion matrix\n",
    "fpr, tpr, threshold = sk.metrics.roc_curve(bin_sub_y_test, bin_log_sub_predictions)\n",
    "roc_auc = sk.metrics.auc(fpr, tpr)\n",
    "\n",
    "plt.title('Receiver Operating Characteristic')\n",
    "plt.plot(fpr, tpr, 'b', label = 'AUC = %0.2f' % roc_auc)\n",
    "plt.legend(loc = 'lower right')\n",
    "plt.plot([0, 1], [0, 1],'r--')\n",
    "plt.xlim([0, 1])\n",
    "plt.ylim([0, 1])\n",
    "plt.ylabel('True Positive Rate')\n",
    "plt.xlabel('False Positive Rate')\n",
    "plt.show()\n",
    "\n",
    "print(sk.metrics.classification_report(bin_sub_y_test, bin_log_sub_predictions))\n",
    "\n",
    "sk.metrics.plot_confusion_matrix(bin_log_sub_model, bin_sub_X_test, bin_sub_y_test, display_labels=[\"rest\",\"<30\"], cmap=plt.cm.Blues)\n",
    "plt.grid(None)"
   ]
  },
  {
   "cell_type": "markdown",
   "metadata": {
    "colab_type": "text",
    "id": "MGEch7cghdpW"
   },
   "source": [
    "We have similar results with the subset as compared to the full data, slightly improved recall. Lets see what we get with label encoding.  "
   ]
  },
  {
   "cell_type": "code",
   "execution_count": 45,
   "metadata": {
    "colab": {},
    "colab_type": "code",
    "id": "X3CtZF0cVzsa"
   },
   "outputs": [],
   "source": [
    "#label encoder: subset of variables\n",
    "lab_sub_X_train, lab_sub_X_test, lab_sub_y_train, lab_sub_y_test = sk.model_selection.train_test_split(data_sub_sc, y_lab, test_size=0.3, random_state=0)\n",
    "#resampling\n",
    "smt = SMOTE()\n",
    "lab_sub_X_train_smt, lab_sub_y_train_smt = smt.fit_sample(lab_sub_X_train, lab_sub_y_train)"
   ]
  },
  {
   "cell_type": "code",
   "execution_count": 46,
   "metadata": {
    "colab": {},
    "colab_type": "code",
    "id": "9OKFN5--VzqC"
   },
   "outputs": [
    {
     "name": "stdout",
     "output_type": "stream",
     "text": [
      "              precision    recall  f1-score   support\n",
      "\n",
      "           0       0.16      0.41      0.23      3309\n",
      "           1       0.45      0.39      0.42     10531\n",
      "           2       0.65      0.51      0.57     15576\n",
      "\n",
      "    accuracy                           0.45     29416\n",
      "   macro avg       0.42      0.44      0.41     29416\n",
      "weighted avg       0.53      0.45      0.48     29416\n",
      "\n"
     ]
    }
   ],
   "source": [
    "#modelling: logistic regression with label encoding with a subset of variables\n",
    "lab_sub_log_all_logm = sk.linear_model.LogisticRegressionCV(cv = 4, random_state=0, class_weight='balanced')\n",
    "lab_sub_log_all_model = lab_sub_log_all_logm.fit(lab_sub_X_train_smt, lab_sub_y_train_smt)\n",
    "lab_sub_log_all_predictions = lab_sub_log_all_logm.predict(lab_sub_X_test)\n",
    "\n",
    "print(sk.metrics.classification_report(lab_sub_y_test, lab_sub_log_all_predictions))"
   ]
  },
  {
   "cell_type": "markdown",
   "metadata": {
    "colab_type": "text",
    "id": "GLQoEKGQn9BE"
   },
   "source": [
    "We can see that we get equivalent results when we use a subset of the data as compared to the entire dataset, for both binary and label encoding.  From now on, I will just use the subset data rather than the entire dataset and I will stick to binary encoding rather than label encoding.  <br> <br>\n",
    "\n",
    "Our model could still use some improvement.  I utilized a gridsearch to determine the best parameters and best model using Logistic Regression, XGBoost and Random Forest. \n"
   ]
  },
  {
   "cell_type": "code",
   "execution_count": 47,
   "metadata": {
    "colab": {},
    "colab_type": "code",
    "id": "MAEXlt4hCEoJ"
   },
   "outputs": [
    {
     "name": "stdout",
     "output_type": "stream",
     "text": [
      "Fitting 5 folds for each of 5 candidates, totalling 25 fits\n"
     ]
    },
    {
     "name": "stderr",
     "output_type": "stream",
     "text": [
      "[Parallel(n_jobs=4)]: Using backend LokyBackend with 4 concurrent workers.\n",
      "[Parallel(n_jobs=4)]: Done  25 out of  25 | elapsed:  1.6min finished\n"
     ]
    }
   ],
   "source": [
    "# Randomized Grid Search with Cross Validation\n",
    "# tuning hyperparameters of logistic regression model\n",
    "# takes ~3 minutes to run.\n",
    "\n",
    "pipe = Pipeline([('classifier', sk.linear_model.LogisticRegression(class_weight='balanced'))])\n",
    "param_grid = [\n",
    "    {'classifier' : [sk.linear_model.LogisticRegression(class_weight='balanced')],\n",
    "     'classifier__penalty' : ['l1', 'l2'],\n",
    "    'classifier__C' : np.logspace(-4, 4, 5),\n",
    "    'classifier__solver' : ['liblinear']}\n",
    "]\n",
    "clf_log = sk.model_selection.RandomizedSearchCV(pipe, param_grid, n_iter = 5, scoring = 'roc_auc', cv = 5, verbose=3, n_jobs=4, random_state = 1001)\n",
    "best_clf_log = clf_log.fit(bin_sub_X_train_smt, bin_sub_y_train_smt)\n",
    "best_preds_log = best_clf_log.predict(bin_sub_X_test)"
   ]
  },
  {
   "cell_type": "code",
   "execution_count": 48,
   "metadata": {
    "colab": {},
    "colab_type": "code",
    "id": "ouz99JlRoH-z"
   },
   "outputs": [
    {
     "data": {
      "text/plain": [
       "Pipeline(memory=None,\n",
       "         steps=[('classifier',\n",
       "                 LogisticRegression(C=0.01, class_weight='balanced', dual=False,\n",
       "                                    fit_intercept=True, intercept_scaling=1,\n",
       "                                    l1_ratio=None, max_iter=100,\n",
       "                                    multi_class='auto', n_jobs=None,\n",
       "                                    penalty='l1', random_state=None,\n",
       "                                    solver='liblinear', tol=0.0001, verbose=0,\n",
       "                                    warm_start=False))],\n",
       "         verbose=False)"
      ]
     },
     "execution_count": 48,
     "metadata": {},
     "output_type": "execute_result"
    }
   ],
   "source": [
    "best_clf_log.best_estimator_"
   ]
  },
  {
   "cell_type": "markdown",
   "metadata": {
    "colab_type": "text",
    "id": "4U9QaRKUoJCi"
   },
   "source": [
    "Our grid search determined that the above hyperparameters was the best fit for the logistic models.  Lets take a look at the precision and recall of the model.  "
   ]
  },
  {
   "cell_type": "code",
   "execution_count": 49,
   "metadata": {
    "colab": {},
    "colab_type": "code",
    "id": "kq9zeOYYCEiN"
   },
   "outputs": [
    {
     "data": {
      "image/png": "[encoded data removed]",
      "text/plain": [
       "<Figure size 432x288 with 1 Axes>"
      ]
     },
     "metadata": {},
     "output_type": "display_data"
    },
    {
     "name": "stdout",
     "output_type": "stream",
     "text": [
      "              precision    recall  f1-score   support\n",
      "\n",
      "           0       0.92      0.60      0.72     26107\n",
      "           1       0.15      0.57      0.24      3309\n",
      "\n",
      "    accuracy                           0.59     29416\n",
      "   macro avg       0.53      0.58      0.48     29416\n",
      "weighted avg       0.83      0.59      0.67     29416\n",
      "\n"
     ]
    },
    {
     "data": {
      "image/png": "[encoded data removed]",
      "text/plain": [
       "<Figure size 432x288 with 2 Axes>"
      ]
     },
     "metadata": {},
     "output_type": "display_data"
    }
   ],
   "source": [
    "fpr, tpr, threshold = sk.metrics.roc_curve(bin_sub_y_test, best_preds_log)\n",
    "roc_auc = sk.metrics.auc(fpr, tpr)\n",
    "\n",
    "plt.title('Receiver Operating Characteristic')\n",
    "plt.plot(fpr, tpr, 'b', label = 'AUC = %0.2f' % roc_auc)\n",
    "plt.legend(loc = 'lower right')\n",
    "plt.plot([0, 1], [0, 1],'r--')\n",
    "plt.xlim([0, 1])\n",
    "plt.ylim([0, 1])\n",
    "plt.ylabel('True Positive Rate')\n",
    "plt.xlabel('False Positive Rate')\n",
    "plt.show()\n",
    "\n",
    "print(sk.metrics.classification_report(bin_sub_y_test, best_preds_log))\n",
    "\n",
    "sk.metrics.plot_confusion_matrix(best_clf_log, bin_sub_X_test, bin_sub_y_test, display_labels=[\"<30\", \"rest\"], cmap=plt.cm.Blues)\n",
    "plt.grid(None)"
   ]
  },
  {
   "cell_type": "markdown",
   "metadata": {
    "colab_type": "text",
    "id": "mT4y9WiMoSGt"
   },
   "source": [
    "Overall, the recall and precision for the <30 days readmission didn't change much when tuning the parameters.  We still get a precision of 0.15 and a recall at 0.57. We also have a consistent AUC at 0.58."
   ]
  },
  {
   "cell_type": "code",
   "execution_count": 50,
   "metadata": {},
   "outputs": [
    {
     "name": "stdout",
     "output_type": "stream",
     "text": [
      "Fitting 5 folds for each of 5 candidates, totalling 25 fits\n"
     ]
    },
    {
     "name": "stderr",
     "output_type": "stream",
     "text": [
      "[Parallel(n_jobs=2)]: Using backend LokyBackend with 2 concurrent workers.\n",
      "[Parallel(n_jobs=2)]: Done  25 out of  25 | elapsed:  4.0min finished\n"
     ]
    }
   ],
   "source": [
    "# Randomized Grid Search with Cross Validation\n",
    "# tuning hyperparameters of Random Forest models\n",
    "# takes ~5 minutes to run\n",
    "pipe = Pipeline([('classifier', RandomForestClassifier(class_weight='balanced'))])\n",
    "param_grid = [\n",
    "    {'classifier' : [RandomForestClassifier(class_weight='balanced')],\n",
    "    'classifier__n_estimators' : list(range(10,101,10)),\n",
    "    'classifier__max_features' : list(range(6,32,5))}\n",
    "]\n",
    "clf_ml = sk.model_selection.RandomizedSearchCV(pipe, param_grid, n_iter = 5, scoring = 'roc_auc', cv = 5, verbose=3, n_jobs=2, random_state = 1001)\n",
    "best_clf_ml = clf_ml.fit(bin_sub_X_train_smt, bin_sub_y_train_smt)\n",
    "best_preds_ml = best_clf_ml.predict(bin_sub_X_test)"
   ]
  },
  {
   "cell_type": "code",
   "execution_count": 51,
   "metadata": {},
   "outputs": [
    {
     "name": "stdout",
     "output_type": "stream",
     "text": [
      "Pipeline(memory=None,\n",
      "         steps=[('classifier',\n",
      "                 RandomForestClassifier(bootstrap=True, ccp_alpha=0.0,\n",
      "                                        class_weight='balanced',\n",
      "                                        criterion='gini', max_depth=None,\n",
      "                                        max_features=31, max_leaf_nodes=None,\n",
      "                                        max_samples=None,\n",
      "                                        min_impurity_decrease=0.0,\n",
      "                                        min_impurity_split=None,\n",
      "                                        min_samples_leaf=1, min_samples_split=2,\n",
      "                                        min_weight_fraction_leaf=0.0,\n",
      "                                        n_estimators=80, n_jobs=None,\n",
      "                                        oob_score=False, random_state=None,\n",
      "                                        verbose=0, warm_start=False))],\n",
      "         verbose=False)\n",
      "              precision    recall  f1-score   support\n",
      "\n",
      "           0       0.89      1.00      0.94     26107\n",
      "           1       0.37      0.01      0.02      3309\n",
      "\n",
      "    accuracy                           0.89     29416\n",
      "   macro avg       0.63      0.50      0.48     29416\n",
      "weighted avg       0.83      0.89      0.84     29416\n",
      "\n"
     ]
    },
    {
     "data": {
      "image/png": "[encoded data removed]",
      "text/plain": [
       "<Figure size 432x288 with 1 Axes>"
      ]
     },
     "metadata": {},
     "output_type": "display_data"
    },
    {
     "data": {
      "image/png": "[encoded data removed]",
      "text/plain": [
       "<Figure size 432x288 with 2 Axes>"
      ]
     },
     "metadata": {},
     "output_type": "display_data"
    }
   ],
   "source": [
    "print(best_clf_ml.best_estimator_)\n",
    "print(sk.metrics.classification_report(bin_sub_y_test, best_preds_ml))\n",
    "\n",
    "fpr, tpr, threshold = sk.metrics.roc_curve(bin_sub_y_test, best_preds_ml)\n",
    "roc_auc = sk.metrics.auc(fpr, tpr)\n",
    "\n",
    "plt.title('Receiver Operating Characteristic')\n",
    "plt.plot(fpr, tpr, 'b', label = 'AUC = %0.2f' % roc_auc)\n",
    "plt.legend(loc = 'lower right')\n",
    "plt.plot([0, 1], [0, 1],'r--')\n",
    "plt.xlim([0, 1])\n",
    "plt.ylim([0, 1])\n",
    "plt.ylabel('True Positive Rate')\n",
    "plt.xlabel('False Positive Rate')\n",
    "plt.show()\n",
    "\n",
    "sk.metrics.plot_confusion_matrix(best_clf_ml, bin_sub_X_test, bin_sub_y_test, display_labels=[\"rest\",\"<30\"], cmap=plt.cm.Blues)\n",
    "plt.grid(None)"
   ]
  },
  {
   "cell_type": "markdown",
   "metadata": {},
   "source": [
    "Overall, the recall and precision for the <30 days readmission decreased with the random forest model.  Although we used the resampled data, the model is still very biased towards predicting the patients who do not readmit within 30 days. "
   ]
  },
  {
   "cell_type": "markdown",
   "metadata": {},
   "source": [
    "Note: I ran a GridSearch using XGBoost as well, but the search took approximately 30 minutes to run and the best model gave extremely suboptimal results.  So I did not include it in this report. "
   ]
  },
  {
   "cell_type": "markdown",
   "metadata": {},
   "source": [
    "If we compare the results of these two models, we can see that the logistics regression gives us a better AUC and much better precision and recall for readmission within 30 days.  \n",
    "\n",
    "<br>\n",
    "That being said, even the logistic model is not particularly great. I would like to see the\n",
    "AUC increase to at least 0.8. If this was something that I was presenting to\n",
    "a business partner, I would continue with further analysis. This would include gathering more data, \n",
    "investigating other models, and looking at more variable selection methods. However, given these two models, I would select the logistic regression (with a binary response and the subset data) as the preferred option.  "
   ]
  },
  {
   "cell_type": "markdown",
   "metadata": {},
   "source": [
    "Lets take a look at what features are the most important in this model."
   ]
  },
  {
   "cell_type": "code",
   "execution_count": 52,
   "metadata": {
    "colab": {},
    "colab_type": "code",
    "id": "POoRvRIyCEcn"
   },
   "outputs": [
    {
     "data": {
      "image/png": "[encoded data removed]",
      "text/plain": [
       "<Figure size 720x1440 with 1 Axes>"
      ]
     },
     "metadata": {},
     "output_type": "display_data"
    }
   ],
   "source": [
    "#calculating the relative importance of each feature\n",
    "feature_importance_best_log = abs(best_clf_log.best_estimator_.named_steps['classifier'].coef_[0])\n",
    "feature_importance_best_log = 100.0 * (feature_importance_best_log / feature_importance_best_log.max())\n",
    "\n",
    "sorted_idx = np.argsort(feature_importance_best_log)\n",
    "pos = np.arange(sorted_idx.shape[0]) + .5\n",
    "\n",
    "featfig = plt.figure(figsize=(10,20))\n",
    "featax = featfig.add_subplot(1, 1, 1)\n",
    "featax.barh(pos, feature_importance_best_log[sorted_idx], align='center')\n",
    "featax.set_yticks(pos)\n",
    "featax.set_yticklabels(np.array(data_sub.columns)[sorted_idx], fontsize=8)\n",
    "featax.set_xlabel('Feature Importance')\n",
    "featax.set_title('Relative Feature Importance')\n",
    "\n",
    "plt.tight_layout()   \n",
    "plt.show()"
   ]
  },
  {
   "cell_type": "markdown",
   "metadata": {},
   "source": [
    "Looking at the relative feature importance, the feature that has the strongest relative importance in predicting if someone readmits within 30 days is discharge disposition id 11 (patient expired), followed by number of emergency room visits, if they are not taking Metformin, and the A1c Result.  We can see the relative strength of each of the features in the graph.  "
   ]
  },
  {
   "cell_type": "markdown",
   "metadata": {
    "colab_type": "text",
    "id": "nEsFB7rnh-mc"
   },
   "source": [
    "\n",
    "With additional time, I would like to investigate the symptomatic and medical data further, particularly the data related to diabetes.  I did include some additional analysis on the diag_1, diag_2, and diag_3 variables in the appendix."
   ]
  },
  {
   "cell_type": "markdown",
   "metadata": {
    "colab_type": "text",
    "id": "qF25C7tVyo6y"
   },
   "source": [
    "## Part 3: Data Analysis and Exploration\n",
    "##### The business owner you are partnering with asks for an update on the project.  What do you tell her?"
   ]
  },
  {
   "cell_type": "markdown",
   "metadata": {
    "colab": {},
    "colab_type": "code",
    "id": "OMLve65Pyo60"
   },
   "source": [
    "The project is going well and I am pleased with our progress so far!  \n",
    "\n",
    "We have developed a model that identifies patients who will readmit within 30 days 57% of the time. Unfortunately, we currently predict false positives 85% of the time, meaning that only 15% of the total number of patients that we predict will readmit actually do.  \n",
    "\n",
    "We are continuing to gather more data that is more indicative of short term readmission in addition to building other models to improve on the accuracy.\n",
    "\n",
    "Our model currently shows that the most important variables are: <br>\n",
    "\n",
    "|Rank|Variable Name|Variable Description|\n",
    "|-|-|-|\n",
    "|1.|discharge_disposition_id_11|Patient expired|\n",
    "|2.|number_emergency|Number of visits to emergency during the last year|\n",
    "|3.|metformin_No|Not perscribed metformin|\n",
    "|4.|A1Cresult|Range of result for test: None, Normal, >200, >300|\n",
    "|5.|discharge_disposition_id_22|Discharged to another rehab facility|\n",
    "|6.|diabetesMed_No|Primary diagnosis from circulatory group|\n",
    "|7.|diag_1_circ|Patient is not taking diabetes medication|\n",
    "|8.|number_diagnoses|Number of diagnoses entered into system|\n",
    "|9.|num_procedures|Number of procedures (other than lab tests) performed during visit|\n",
    "|10.|discharge_disposition_id_1|Discharged to home|\n",
    "\n",
    "\n",
    "The highest factors in readmittance are whether or not the patient passed away, a number of metrics related to diabetes, and metrics related to their current and past visits to medical centers.  \n",
    "\n",
    "Intuitively, we can confirm that if a patient passes away, they are unable to readmit within 30 days.  We can see two other discharges within the top ten features, discharging to hospice and discharging to another rehab facility.  <br>\n",
    "\n",
    "Factors related to diabetes are quite relevant in short term readmission rates (includes A1Cresult, diabetesMed, and metformin).  A patient with a higher A1C result will be more likely to readmit, while someone who is already on diabetes medication is less likely.  <br>\n",
    "\n",
    "Additionally, the patients medical records are also important, including the number of diagnoses and procedures during the visit.  The more a patient visits the emergency room, the less likely they will readmit.  In addition, the more diagnoses during the visit the less likely the patient will readmit.  On the flip side, the more procedures conducted during the visits, the more likely the patient will readmit.  \n",
    "\n",
    "There are a number of factors that are associated with readmission and I would like to gather more data on the health of the patient in order to predict this status more accurately.  For example, next I will look closer at the patient's symptomatic and medication data. In addition, I want to follow up on you and determine what proportion of the patients who are readmitting are doing so for a scheduled follow up rather than an unforeseen event. In addition the model could be further optimized by accounting for the cost of an extended patient evaluation (if they are identifed by the model) versus the overall cost of short term readmittance. \n",
    "\n",
    "Overall, I'm happy with the results that we have so far, but I will be continue to look at ways to improve!\n"
   ]
  },
  {
   "cell_type": "markdown",
   "metadata": {
    "colab_type": "text",
    "id": "DP9g-vMmIM4h"
   },
   "source": [
    "## Appendix"
   ]
  },
  {
   "cell_type": "markdown",
   "metadata": {},
   "source": [
    "I wanted to take a look at how the grouping of diag_1, diag_2, and diag_3 affected the model.  Perhaps by grouping the data, I was loosing some predictive power for certain diagnoses.  "
   ]
  },
  {
   "cell_type": "code",
   "execution_count": 58,
   "metadata": {
    "colab": {},
    "colab_type": "code",
    "id": "PBD4V98hITU4"
   },
   "outputs": [
    {
     "data": {
      "text/html": [
       "<div>\n",
       "<style scoped>\n",
       "    .dataframe tbody tr th:only-of-type {\n",
       "        vertical-align: middle;\n",
       "    }\n",
       "\n",
       "    .dataframe tbody tr th {\n",
       "        vertical-align: top;\n",
       "    }\n",
       "\n",
       "    .dataframe thead th {\n",
       "        text-align: right;\n",
       "    }\n",
       "</style>\n",
       "<table border=\"1\" class=\"dataframe\">\n",
       "  <thead>\n",
       "    <tr style=\"text-align: right;\">\n",
       "      <th></th>\n",
       "      <th>race</th>\n",
       "      <th>gender</th>\n",
       "      <th>admission_type_id</th>\n",
       "      <th>discharge_disposition_id</th>\n",
       "      <th>admission_source_id</th>\n",
       "      <th>time_in_hospital</th>\n",
       "      <th>num_lab_procedures</th>\n",
       "      <th>num_procedures</th>\n",
       "      <th>num_medications</th>\n",
       "      <th>number_outpatient</th>\n",
       "      <th>...</th>\n",
       "      <th>insulin</th>\n",
       "      <th>glyburide-metformin</th>\n",
       "      <th>glipizide-metformin</th>\n",
       "      <th>glimepiride-pioglitazone</th>\n",
       "      <th>metformin-rosiglitazone</th>\n",
       "      <th>metformin-pioglitazone</th>\n",
       "      <th>change</th>\n",
       "      <th>diabetesMed</th>\n",
       "      <th>readmitted</th>\n",
       "      <th>age</th>\n",
       "    </tr>\n",
       "  </thead>\n",
       "  <tbody>\n",
       "    <tr>\n",
       "      <th>27068</th>\n",
       "      <td>Caucasian</td>\n",
       "      <td>Female</td>\n",
       "      <td>3</td>\n",
       "      <td>3</td>\n",
       "      <td>1</td>\n",
       "      <td>10</td>\n",
       "      <td>65</td>\n",
       "      <td>1</td>\n",
       "      <td>28</td>\n",
       "      <td>1</td>\n",
       "      <td>...</td>\n",
       "      <td>Steady</td>\n",
       "      <td>No</td>\n",
       "      <td>No</td>\n",
       "      <td>No</td>\n",
       "      <td>No</td>\n",
       "      <td>No</td>\n",
       "      <td>Ch</td>\n",
       "      <td>Yes</td>\n",
       "      <td>&lt;30</td>\n",
       "      <td>88</td>\n",
       "    </tr>\n",
       "    <tr>\n",
       "      <th>27128</th>\n",
       "      <td>Caucasian</td>\n",
       "      <td>Male</td>\n",
       "      <td>1</td>\n",
       "      <td>11</td>\n",
       "      <td>5</td>\n",
       "      <td>6</td>\n",
       "      <td>73</td>\n",
       "      <td>0</td>\n",
       "      <td>16</td>\n",
       "      <td>0</td>\n",
       "      <td>...</td>\n",
       "      <td>Steady</td>\n",
       "      <td>No</td>\n",
       "      <td>No</td>\n",
       "      <td>No</td>\n",
       "      <td>No</td>\n",
       "      <td>No</td>\n",
       "      <td>No</td>\n",
       "      <td>Yes</td>\n",
       "      <td>NO</td>\n",
       "      <td>101</td>\n",
       "    </tr>\n",
       "    <tr>\n",
       "      <th>27147</th>\n",
       "      <td>Caucasian</td>\n",
       "      <td>Male</td>\n",
       "      <td>1</td>\n",
       "      <td>1</td>\n",
       "      <td>7</td>\n",
       "      <td>2</td>\n",
       "      <td>58</td>\n",
       "      <td>3</td>\n",
       "      <td>12</td>\n",
       "      <td>0</td>\n",
       "      <td>...</td>\n",
       "      <td>No</td>\n",
       "      <td>No</td>\n",
       "      <td>No</td>\n",
       "      <td>No</td>\n",
       "      <td>No</td>\n",
       "      <td>No</td>\n",
       "      <td>No</td>\n",
       "      <td>Yes</td>\n",
       "      <td>&gt;30</td>\n",
       "      <td>78</td>\n",
       "    </tr>\n",
       "    <tr>\n",
       "      <th>27186</th>\n",
       "      <td>Caucasian</td>\n",
       "      <td>Male</td>\n",
       "      <td>1</td>\n",
       "      <td>3</td>\n",
       "      <td>7</td>\n",
       "      <td>3</td>\n",
       "      <td>33</td>\n",
       "      <td>0</td>\n",
       "      <td>7</td>\n",
       "      <td>4</td>\n",
       "      <td>...</td>\n",
       "      <td>No</td>\n",
       "      <td>No</td>\n",
       "      <td>No</td>\n",
       "      <td>No</td>\n",
       "      <td>No</td>\n",
       "      <td>No</td>\n",
       "      <td>No</td>\n",
       "      <td>Yes</td>\n",
       "      <td>&gt;30</td>\n",
       "      <td>48</td>\n",
       "    </tr>\n",
       "    <tr>\n",
       "      <th>27236</th>\n",
       "      <td>Caucasian</td>\n",
       "      <td>Male</td>\n",
       "      <td>3</td>\n",
       "      <td>1</td>\n",
       "      <td>1</td>\n",
       "      <td>2</td>\n",
       "      <td>5</td>\n",
       "      <td>4</td>\n",
       "      <td>11</td>\n",
       "      <td>0</td>\n",
       "      <td>...</td>\n",
       "      <td>No</td>\n",
       "      <td>No</td>\n",
       "      <td>No</td>\n",
       "      <td>No</td>\n",
       "      <td>No</td>\n",
       "      <td>No</td>\n",
       "      <td>No</td>\n",
       "      <td>Yes</td>\n",
       "      <td>&gt;30</td>\n",
       "      <td>65</td>\n",
       "    </tr>\n",
       "  </tbody>\n",
       "</table>\n",
       "<p>5 rows × 44 columns</p>\n",
       "</div>"
      ],
      "text/plain": [
       "            race  gender admission_type_id discharge_disposition_id  \\\n",
       "27068  Caucasian  Female                 3                        3   \n",
       "27128  Caucasian    Male                 1                       11   \n",
       "27147  Caucasian    Male                 1                        1   \n",
       "27186  Caucasian    Male                 1                        3   \n",
       "27236  Caucasian    Male                 3                        1   \n",
       "\n",
       "      admission_source_id  time_in_hospital  num_lab_procedures  \\\n",
       "27068                   1                10                  65   \n",
       "27128                   5                 6                  73   \n",
       "27147                   7                 2                  58   \n",
       "27186                   7                 3                  33   \n",
       "27236                   1                 2                   5   \n",
       "\n",
       "       num_procedures  num_medications  number_outpatient  ...  insulin  \\\n",
       "27068               1               28                  1  ...   Steady   \n",
       "27128               0               16                  0  ...   Steady   \n",
       "27147               3               12                  0  ...       No   \n",
       "27186               0                7                  4  ...       No   \n",
       "27236               4               11                  0  ...       No   \n",
       "\n",
       "      glyburide-metformin glipizide-metformin glimepiride-pioglitazone  \\\n",
       "27068                  No                  No                       No   \n",
       "27128                  No                  No                       No   \n",
       "27147                  No                  No                       No   \n",
       "27186                  No                  No                       No   \n",
       "27236                  No                  No                       No   \n",
       "\n",
       "       metformin-rosiglitazone metformin-pioglitazone change diabetesMed  \\\n",
       "27068                       No                     No     Ch         Yes   \n",
       "27128                       No                     No     No         Yes   \n",
       "27147                       No                     No     No         Yes   \n",
       "27186                       No                     No     No         Yes   \n",
       "27236                       No                     No     No         Yes   \n",
       "\n",
       "      readmitted  age  \n",
       "27068        <30   88  \n",
       "27128         NO  101  \n",
       "27147        >30   78  \n",
       "27186        >30   48  \n",
       "27236        >30   65  \n",
       "\n",
       "[5 rows x 44 columns]"
      ]
     },
     "execution_count": 58,
     "metadata": {},
     "output_type": "execute_result"
    }
   ],
   "source": [
    "df_test = df.copy()\n",
    "df_test = df_test.dropna(axis=0)\n",
    "df_test.drop(['weight', 'payer_code', 'medical_specialty','encounter_id', 'patient_nbr', 'birth_date', 'admit_date'], axis=1, inplace=True)\n",
    "df_test.head()"
   ]
  },
  {
   "cell_type": "code",
   "execution_count": 59,
   "metadata": {
    "colab": {},
    "colab_type": "code",
    "id": "yrC8wBglI0JR"
   },
   "outputs": [
    {
     "data": {
      "text/html": [
       "<div>\n",
       "<style scoped>\n",
       "    .dataframe tbody tr th:only-of-type {\n",
       "        vertical-align: middle;\n",
       "    }\n",
       "\n",
       "    .dataframe tbody tr th {\n",
       "        vertical-align: top;\n",
       "    }\n",
       "\n",
       "    .dataframe thead th {\n",
       "        text-align: right;\n",
       "    }\n",
       "</style>\n",
       "<table border=\"1\" class=\"dataframe\">\n",
       "  <thead>\n",
       "    <tr style=\"text-align: right;\">\n",
       "      <th>readmitted</th>\n",
       "      <th>&lt;30</th>\n",
       "      <th>&gt;30</th>\n",
       "      <th>NO</th>\n",
       "      <th>perc&lt;30</th>\n",
       "      <th>perc&lt;30_total</th>\n",
       "    </tr>\n",
       "    <tr>\n",
       "      <th>diag_1</th>\n",
       "      <th></th>\n",
       "      <th></th>\n",
       "      <th></th>\n",
       "      <th></th>\n",
       "      <th></th>\n",
       "    </tr>\n",
       "  </thead>\n",
       "  <tbody>\n",
       "    <tr>\n",
       "      <th>715</th>\n",
       "      <td>16</td>\n",
       "      <td>29</td>\n",
       "      <td>39</td>\n",
       "      <td>19.047619</td>\n",
       "      <td>16.0</td>\n",
       "    </tr>\n",
       "    <tr>\n",
       "      <th>414</th>\n",
       "      <td>9</td>\n",
       "      <td>46</td>\n",
       "      <td>42</td>\n",
       "      <td>9.278351</td>\n",
       "      <td>9.0</td>\n",
       "    </tr>\n",
       "    <tr>\n",
       "      <th>V58</th>\n",
       "      <td>9</td>\n",
       "      <td>4</td>\n",
       "      <td>1</td>\n",
       "      <td>64.285714</td>\n",
       "      <td>9.0</td>\n",
       "    </tr>\n",
       "    <tr>\n",
       "      <th>996</th>\n",
       "      <td>7</td>\n",
       "      <td>12</td>\n",
       "      <td>14</td>\n",
       "      <td>21.212121</td>\n",
       "      <td>7.0</td>\n",
       "    </tr>\n",
       "    <tr>\n",
       "      <th>428</th>\n",
       "      <td>6</td>\n",
       "      <td>35</td>\n",
       "      <td>27</td>\n",
       "      <td>8.823529</td>\n",
       "      <td>6.0</td>\n",
       "    </tr>\n",
       "    <tr>\n",
       "      <th>427</th>\n",
       "      <td>4</td>\n",
       "      <td>32</td>\n",
       "      <td>27</td>\n",
       "      <td>6.349206</td>\n",
       "      <td>4.0</td>\n",
       "    </tr>\n",
       "    <tr>\n",
       "      <th>786</th>\n",
       "      <td>3</td>\n",
       "      <td>27</td>\n",
       "      <td>17</td>\n",
       "      <td>6.382979</td>\n",
       "      <td>3.0</td>\n",
       "    </tr>\n",
       "    <tr>\n",
       "      <th>410</th>\n",
       "      <td>3</td>\n",
       "      <td>18</td>\n",
       "      <td>20</td>\n",
       "      <td>7.317073</td>\n",
       "      <td>3.0</td>\n",
       "    </tr>\n",
       "    <tr>\n",
       "      <th>584</th>\n",
       "      <td>2</td>\n",
       "      <td>5</td>\n",
       "      <td>8</td>\n",
       "      <td>13.333333</td>\n",
       "      <td>2.0</td>\n",
       "    </tr>\n",
       "    <tr>\n",
       "      <th>997</th>\n",
       "      <td>2</td>\n",
       "      <td>3</td>\n",
       "      <td>4</td>\n",
       "      <td>22.222222</td>\n",
       "      <td>2.0</td>\n",
       "    </tr>\n",
       "    <tr>\n",
       "      <th>276</th>\n",
       "      <td>2</td>\n",
       "      <td>6</td>\n",
       "      <td>5</td>\n",
       "      <td>15.384615</td>\n",
       "      <td>2.0</td>\n",
       "    </tr>\n",
       "    <tr>\n",
       "      <th>682</th>\n",
       "      <td>2</td>\n",
       "      <td>8</td>\n",
       "      <td>3</td>\n",
       "      <td>15.384615</td>\n",
       "      <td>2.0</td>\n",
       "    </tr>\n",
       "    <tr>\n",
       "      <th>8</th>\n",
       "      <td>2</td>\n",
       "      <td>6</td>\n",
       "      <td>0</td>\n",
       "      <td>25.000000</td>\n",
       "      <td>2.0</td>\n",
       "    </tr>\n",
       "    <tr>\n",
       "      <th>577</th>\n",
       "      <td>2</td>\n",
       "      <td>4</td>\n",
       "      <td>4</td>\n",
       "      <td>20.000000</td>\n",
       "      <td>2.0</td>\n",
       "    </tr>\n",
       "    <tr>\n",
       "      <th>486</th>\n",
       "      <td>2</td>\n",
       "      <td>5</td>\n",
       "      <td>4</td>\n",
       "      <td>18.181818</td>\n",
       "      <td>2.0</td>\n",
       "    </tr>\n",
       "    <tr>\n",
       "      <th>434</th>\n",
       "      <td>1</td>\n",
       "      <td>1</td>\n",
       "      <td>1</td>\n",
       "      <td>33.333333</td>\n",
       "      <td>1.0</td>\n",
       "    </tr>\n",
       "    <tr>\n",
       "      <th>453</th>\n",
       "      <td>1</td>\n",
       "      <td>1</td>\n",
       "      <td>3</td>\n",
       "      <td>20.000000</td>\n",
       "      <td>1.0</td>\n",
       "    </tr>\n",
       "    <tr>\n",
       "      <th>592</th>\n",
       "      <td>1</td>\n",
       "      <td>2</td>\n",
       "      <td>1</td>\n",
       "      <td>25.000000</td>\n",
       "      <td>1.0</td>\n",
       "    </tr>\n",
       "    <tr>\n",
       "      <th>288</th>\n",
       "      <td>1</td>\n",
       "      <td>0</td>\n",
       "      <td>0</td>\n",
       "      <td>100.000000</td>\n",
       "      <td>1.0</td>\n",
       "    </tr>\n",
       "    <tr>\n",
       "      <th>424</th>\n",
       "      <td>1</td>\n",
       "      <td>0</td>\n",
       "      <td>1</td>\n",
       "      <td>50.000000</td>\n",
       "      <td>1.0</td>\n",
       "    </tr>\n",
       "    <tr>\n",
       "      <th>435</th>\n",
       "      <td>1</td>\n",
       "      <td>4</td>\n",
       "      <td>2</td>\n",
       "      <td>14.285714</td>\n",
       "      <td>1.0</td>\n",
       "    </tr>\n",
       "    <tr>\n",
       "      <th>722</th>\n",
       "      <td>1</td>\n",
       "      <td>6</td>\n",
       "      <td>2</td>\n",
       "      <td>11.111111</td>\n",
       "      <td>1.0</td>\n",
       "    </tr>\n",
       "    <tr>\n",
       "      <th>250.4</th>\n",
       "      <td>1</td>\n",
       "      <td>1</td>\n",
       "      <td>2</td>\n",
       "      <td>25.000000</td>\n",
       "      <td>1.0</td>\n",
       "    </tr>\n",
       "    <tr>\n",
       "      <th>532</th>\n",
       "      <td>1</td>\n",
       "      <td>0</td>\n",
       "      <td>2</td>\n",
       "      <td>33.333333</td>\n",
       "      <td>1.0</td>\n",
       "    </tr>\n",
       "    <tr>\n",
       "      <th>250.41</th>\n",
       "      <td>1</td>\n",
       "      <td>1</td>\n",
       "      <td>0</td>\n",
       "      <td>50.000000</td>\n",
       "      <td>1.0</td>\n",
       "    </tr>\n",
       "    <tr>\n",
       "      <th>780</th>\n",
       "      <td>1</td>\n",
       "      <td>11</td>\n",
       "      <td>7</td>\n",
       "      <td>5.263158</td>\n",
       "      <td>1.0</td>\n",
       "    </tr>\n",
       "    <tr>\n",
       "      <th>431</th>\n",
       "      <td>1</td>\n",
       "      <td>1</td>\n",
       "      <td>1</td>\n",
       "      <td>33.333333</td>\n",
       "      <td>1.0</td>\n",
       "    </tr>\n",
       "    <tr>\n",
       "      <th>787</th>\n",
       "      <td>1</td>\n",
       "      <td>2</td>\n",
       "      <td>0</td>\n",
       "      <td>33.333333</td>\n",
       "      <td>1.0</td>\n",
       "    </tr>\n",
       "    <tr>\n",
       "      <th>458</th>\n",
       "      <td>1</td>\n",
       "      <td>5</td>\n",
       "      <td>1</td>\n",
       "      <td>14.285714</td>\n",
       "      <td>1.0</td>\n",
       "    </tr>\n",
       "    <tr>\n",
       "      <th>198</th>\n",
       "      <td>1</td>\n",
       "      <td>0</td>\n",
       "      <td>2</td>\n",
       "      <td>33.333333</td>\n",
       "      <td>1.0</td>\n",
       "    </tr>\n",
       "    <tr>\n",
       "      <th>530</th>\n",
       "      <td>1</td>\n",
       "      <td>4</td>\n",
       "      <td>4</td>\n",
       "      <td>11.111111</td>\n",
       "      <td>1.0</td>\n",
       "    </tr>\n",
       "    <tr>\n",
       "      <th>403</th>\n",
       "      <td>1</td>\n",
       "      <td>2</td>\n",
       "      <td>0</td>\n",
       "      <td>33.333333</td>\n",
       "      <td>1.0</td>\n",
       "    </tr>\n",
       "    <tr>\n",
       "      <th>642</th>\n",
       "      <td>1</td>\n",
       "      <td>0</td>\n",
       "      <td>0</td>\n",
       "      <td>100.000000</td>\n",
       "      <td>1.0</td>\n",
       "    </tr>\n",
       "    <tr>\n",
       "      <th>174</th>\n",
       "      <td>1</td>\n",
       "      <td>0</td>\n",
       "      <td>1</td>\n",
       "      <td>50.000000</td>\n",
       "      <td>1.0</td>\n",
       "    </tr>\n",
       "    <tr>\n",
       "      <th>182</th>\n",
       "      <td>1</td>\n",
       "      <td>0</td>\n",
       "      <td>3</td>\n",
       "      <td>25.000000</td>\n",
       "      <td>1.0</td>\n",
       "    </tr>\n",
       "    <tr>\n",
       "      <th>998</th>\n",
       "      <td>1</td>\n",
       "      <td>7</td>\n",
       "      <td>5</td>\n",
       "      <td>7.692308</td>\n",
       "      <td>1.0</td>\n",
       "    </tr>\n",
       "    <tr>\n",
       "      <th>558</th>\n",
       "      <td>1</td>\n",
       "      <td>0</td>\n",
       "      <td>1</td>\n",
       "      <td>50.000000</td>\n",
       "      <td>1.0</td>\n",
       "    </tr>\n",
       "    <tr>\n",
       "      <th>600</th>\n",
       "      <td>1</td>\n",
       "      <td>0</td>\n",
       "      <td>1</td>\n",
       "      <td>50.000000</td>\n",
       "      <td>1.0</td>\n",
       "    </tr>\n",
       "    <tr>\n",
       "      <th>202</th>\n",
       "      <td>1</td>\n",
       "      <td>0</td>\n",
       "      <td>0</td>\n",
       "      <td>100.000000</td>\n",
       "      <td>1.0</td>\n",
       "    </tr>\n",
       "    <tr>\n",
       "      <th>204</th>\n",
       "      <td>1</td>\n",
       "      <td>0</td>\n",
       "      <td>1</td>\n",
       "      <td>50.000000</td>\n",
       "      <td>1.0</td>\n",
       "    </tr>\n",
       "    <tr>\n",
       "      <th>491</th>\n",
       "      <td>1</td>\n",
       "      <td>10</td>\n",
       "      <td>4</td>\n",
       "      <td>6.666667</td>\n",
       "      <td>1.0</td>\n",
       "    </tr>\n",
       "    <tr>\n",
       "      <th>593</th>\n",
       "      <td>1</td>\n",
       "      <td>0</td>\n",
       "      <td>0</td>\n",
       "      <td>100.000000</td>\n",
       "      <td>1.0</td>\n",
       "    </tr>\n",
       "    <tr>\n",
       "      <th>331</th>\n",
       "      <td>1</td>\n",
       "      <td>1</td>\n",
       "      <td>1</td>\n",
       "      <td>33.333333</td>\n",
       "      <td>1.0</td>\n",
       "    </tr>\n",
       "    <tr>\n",
       "      <th>562</th>\n",
       "      <td>1</td>\n",
       "      <td>4</td>\n",
       "      <td>3</td>\n",
       "      <td>12.500000</td>\n",
       "      <td>1.0</td>\n",
       "    </tr>\n",
       "    <tr>\n",
       "      <th>599</th>\n",
       "      <td>0</td>\n",
       "      <td>5</td>\n",
       "      <td>5</td>\n",
       "      <td>0.000000</td>\n",
       "      <td>0.0</td>\n",
       "    </tr>\n",
       "    <tr>\n",
       "      <th>604</th>\n",
       "      <td>0</td>\n",
       "      <td>0</td>\n",
       "      <td>1</td>\n",
       "      <td>0.000000</td>\n",
       "      <td>0.0</td>\n",
       "    </tr>\n",
       "    <tr>\n",
       "      <th>591</th>\n",
       "      <td>0</td>\n",
       "      <td>1</td>\n",
       "      <td>0</td>\n",
       "      <td>0.000000</td>\n",
       "      <td>0.0</td>\n",
       "    </tr>\n",
       "    <tr>\n",
       "      <th>590</th>\n",
       "      <td>0</td>\n",
       "      <td>1</td>\n",
       "      <td>1</td>\n",
       "      <td>0.000000</td>\n",
       "      <td>0.0</td>\n",
       "    </tr>\n",
       "    <tr>\n",
       "      <th>151</th>\n",
       "      <td>0</td>\n",
       "      <td>1</td>\n",
       "      <td>0</td>\n",
       "      <td>0.000000</td>\n",
       "      <td>0.0</td>\n",
       "    </tr>\n",
       "    <tr>\n",
       "      <th>579</th>\n",
       "      <td>0</td>\n",
       "      <td>0</td>\n",
       "      <td>1</td>\n",
       "      <td>0.000000</td>\n",
       "      <td>0.0</td>\n",
       "    </tr>\n",
       "  </tbody>\n",
       "</table>\n",
       "</div>"
      ],
      "text/plain": [
       "readmitted  <30  >30  NO     perc<30  perc<30_total\n",
       "diag_1                                             \n",
       "715          16   29  39   19.047619           16.0\n",
       "414           9   46  42    9.278351            9.0\n",
       "V58           9    4   1   64.285714            9.0\n",
       "996           7   12  14   21.212121            7.0\n",
       "428           6   35  27    8.823529            6.0\n",
       "427           4   32  27    6.349206            4.0\n",
       "786           3   27  17    6.382979            3.0\n",
       "410           3   18  20    7.317073            3.0\n",
       "584           2    5   8   13.333333            2.0\n",
       "997           2    3   4   22.222222            2.0\n",
       "276           2    6   5   15.384615            2.0\n",
       "682           2    8   3   15.384615            2.0\n",
       "8             2    6   0   25.000000            2.0\n",
       "577           2    4   4   20.000000            2.0\n",
       "486           2    5   4   18.181818            2.0\n",
       "434           1    1   1   33.333333            1.0\n",
       "453           1    1   3   20.000000            1.0\n",
       "592           1    2   1   25.000000            1.0\n",
       "288           1    0   0  100.000000            1.0\n",
       "424           1    0   1   50.000000            1.0\n",
       "435           1    4   2   14.285714            1.0\n",
       "722           1    6   2   11.111111            1.0\n",
       "250.4         1    1   2   25.000000            1.0\n",
       "532           1    0   2   33.333333            1.0\n",
       "250.41        1    1   0   50.000000            1.0\n",
       "780           1   11   7    5.263158            1.0\n",
       "431           1    1   1   33.333333            1.0\n",
       "787           1    2   0   33.333333            1.0\n",
       "458           1    5   1   14.285714            1.0\n",
       "198           1    0   2   33.333333            1.0\n",
       "530           1    4   4   11.111111            1.0\n",
       "403           1    2   0   33.333333            1.0\n",
       "642           1    0   0  100.000000            1.0\n",
       "174           1    0   1   50.000000            1.0\n",
       "182           1    0   3   25.000000            1.0\n",
       "998           1    7   5    7.692308            1.0\n",
       "558           1    0   1   50.000000            1.0\n",
       "600           1    0   1   50.000000            1.0\n",
       "202           1    0   0  100.000000            1.0\n",
       "204           1    0   1   50.000000            1.0\n",
       "491           1   10   4    6.666667            1.0\n",
       "593           1    0   0  100.000000            1.0\n",
       "331           1    1   1   33.333333            1.0\n",
       "562           1    4   3   12.500000            1.0\n",
       "599           0    5   5    0.000000            0.0\n",
       "604           0    0   1    0.000000            0.0\n",
       "591           0    1   0    0.000000            0.0\n",
       "590           0    1   1    0.000000            0.0\n",
       "151           0    1   0    0.000000            0.0\n",
       "579           0    0   1    0.000000            0.0"
      ]
     },
     "execution_count": 59,
     "metadata": {},
     "output_type": "execute_result"
    }
   ],
   "source": [
    "diag1_twt = pd.crosstab(index=df_test[\"diag_1\"], \n",
    "                          columns=df_test[\"readmitted\"])\n",
    "diag1_twt['perc<30'] = diag1_twt['<30']/(diag1_twt['<30']+diag1_twt['>30']+diag1_twt['NO'])*100\n",
    "diag1_twt['perc<30_total'] = (diag1_twt['<30']/diag1_twt['<30'].sum())*100\n",
    "diag1_twt.sort_values(by=['perc<30_total'], ascending=False).head(50)"
   ]
  },
  {
   "cell_type": "markdown",
   "metadata": {},
   "source": [
    "We can see that some of the diag_1 codes correspond to higher rates of readmission within 30 days.  "
   ]
  },
  {
   "cell_type": "code",
   "execution_count": 55,
   "metadata": {},
   "outputs": [],
   "source": [
    "# data_subids = pd.get_dummies(df_model_subids)\n",
    "# data_subids.head()"
   ]
  },
  {
   "cell_type": "code",
   "execution_count": 56,
   "metadata": {},
   "outputs": [],
   "source": [
    "# #standardize the subset data\n",
    "# sc_subids = sk.preprocessing.StandardScaler().fit(data_subids)\n",
    "# data_subids_sc = sc_subids.transform(data_subids)\n",
    "# binary encoder: subset of variables\n",
    "# bin_subids_X_train, bin_subids_X_test, bin_subids_y_train, bin_subids_y_test = sk.model_selection.train_test_split(data_subids_sc, y_oh, test_size=0.3, random_state=0)\n",
    "# #resampling\n",
    "# smt = SMOTE()\n",
    "# bin_subids_X_train_smt, bin_subinds_y_train_smt = smt.fit_sample(bin_subids_X_train, bin_subids_y_train)"
   ]
  },
  {
   "cell_type": "code",
   "execution_count": 57,
   "metadata": {},
   "outputs": [],
   "source": [
    "# #modelling: logistic regression with binary encoding with ungrouped diag variables\n",
    "# bin_log_subids_logm = sk.linear_model.LogisticRegressionCV(cv = 2, random_state=0, max_iter = 1000)\n",
    "# bin_log_subids_model = bin_log_subids_logm.fit(bin_subids_X_train_smt, bin_subinds_y_train_smt)\n",
    "# bin_log_subids_predictions = bin_log_subids_logm.predict(bin_subids_X_test)\n",
    "# print(sk.metrics.classification_report(bin_subids_y_test, bin_log_subids_predictions))"
   ]
  },
  {
   "cell_type": "markdown",
   "metadata": {},
   "source": [
    "Above I modelled with these diagnosis codes separate rather than grouped together.  This model takes quite a long time to run, which is why it is commented out.  The grouping versus ungrouped diags doesn't change the model significantly, except for the number of iterations required for convergence.  Therefore, we will stick with the groupings during the initial model building phase.  "
   ]
  }
 ],
 "metadata": {
  "colab": {
   "collapsed_sections": [],
   "name": "main.ipynb",
   "provenance": []
  },
  "kernelspec": {
   "display_name": "Python 3",
   "language": "python",
   "name": "python3"
  },
  "language_info": {
   "codemirror_mode": {
    "name": "ipython",
    "version": 3
   },
   "file_extension": ".py",
   "mimetype": "text/x-python",
   "name": "python",
   "nbconvert_exporter": "python",
   "pygments_lexer": "ipython3",
   "version": "3.7.4"
  }
 },
 "nbformat": 4,
 "nbformat_minor": 4
}
