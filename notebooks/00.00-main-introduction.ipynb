{
 "cells": [
  {
   "cell_type": "markdown",
   "metadata": {},
   "source": [
    "# CA ASTRO - Data Science and ML Workshop\n",
    "\n",
    "**Author** : Victor Calderon\n",
    "\n",
    "**Date** : 13th and 14th of June, 2020\n",
    "\n",
    "## Introduction\n",
    "\n",
    "During this workshop, we will talk about some methods for\n",
    "- extracting datasets\n",
    "- performing EDA (exploratory data analysis) tasks on a given dataset\n",
    "- create a small ML project\n",
    "\n",
    "We will also cover some main concepts around Data Science and mention\n",
    "some useful functions and methods that you could use when dealing with\n",
    "a new data-science project.\n",
    "\n",
    "But let's begin by ...\n",
    "\n",
    "\n",
    "## What is Data Science\n",
    "\n",
    "According to [Jake Vanderplas](https://github.com/jakevdp), a former astrophysicist now\n",
    "turned Software Engineer at Google and author of the renowed book\n",
    "\"[Python Data Science Handbook](https://jakevdp.github.io/PythonDataScienceHandbook/index.html)\",\n",
    "Data Science can be described as the following Venn diagram and quote:\n",
    "\n",
    "![Data Science Venn Diagram](./images/Data_Science_VD.png)\n",
    "<small>(Source: [Drew Conway](http://drewconway.com/zia/2013/3/26/the-data-science-venn-diagram))</small>\n",
    "\n",
    "> it is fundamentally an *interdisciplinary* subject.\n",
    "Data science comprises three distinct and overlapping areas: the skills of a *statistician* who knows how to model and summarize datasets (which are growing ever larger); the skills of a *computer scientist* who can design and use algorithms to efficiently store, process, and visualize this data; and the *domain expertise*—what we might think of as \"classical\" training in a subject—necessary both to formulate the right questions and to put their answers in context.\n"
   ]
  },
  {
   "cell_type": "markdown",
   "metadata": {},
   "source": [
    "## Outline\n",
    "\n",
    "The outline of this \"course\" is:\n",
    "\n",
    "1. First review some of the functionalities of Pandas\n",
    "2. Provide some discussion on different EDA tasks, such as downloading your dataset, cleaning it, and choosing what to keep or not\n",
    "3. Do some basic ML models\n",
    "4. Along the way, discuss some best-practices for designing a good Data Science project.\n",
    "\n",
    "### Disclaimer\n",
    "\n",
    "Data Science is vast topic that cannot be summarized in a few hours. While I'll try to discuss some main topics about it, there\n",
    "are other resources available that may provide some more context and discussion on different topics. These will be found in our main\n",
    "workshop's website ([https://vcalderon2009.github.io/2020_06_CA_Astro_Data_Science_Workshop/](https://vcalderon2009.github.io/2020_06_CA_Astro_Data_Science_Workshop/))"
   ]
  }
 ],
 "metadata": {
  "kernelspec": {
   "display_name": "Python 3",
   "language": "python",
   "name": "python3"
  },
  "language_info": {
   "codemirror_mode": {
    "name": "ipython",
    "version": 3
   },
   "file_extension": ".py",
   "mimetype": "text/x-python",
   "name": "python",
   "nbconvert_exporter": "python",
   "pygments_lexer": "ipython3",
   "version": "3.8.3"
  }
 },
 "nbformat": 4,
 "nbformat_minor": 4
}
