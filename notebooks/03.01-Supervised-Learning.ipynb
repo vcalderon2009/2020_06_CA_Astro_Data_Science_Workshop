{
 "cells": [
  {
   "cell_type": "markdown",
   "metadata": {},
   "source": [
    "# CA ASTRO - Data Science and ML Workshop\n",
    "\n",
    "**Author** : Victor Calderon\n",
    "\n",
    "**Date** : 13th and 14th of June, 2020"
   ]
  },
  {
   "cell_type": "markdown",
   "metadata": {},
   "source": [
    "## Supervised learning - Example using `Scikit-Learn`\n",
    "\n",
    "There are several useful libraries in Python that provide a solid implementation of machine learning algorithms.\n",
    "Possibly, the most famous one is [Scikit-Learn](https://scikit-learn.org/stable/), a package that provides\n",
    "efficient and user-friendly version of the most common ML algorithms, including but not limited to\n",
    "\n",
    "- Random Forest\n",
    "- Logistic Regression\n",
    "- Principal Component Analysis (PCA)\n",
    "- TSNE (another clustering algorithm)\n",
    "- and many more.\n",
    "\n",
    "This library contains very useful tools for examine datasets, create and evaluate ML models, and more."
   ]
  },
  {
   "cell_type": "markdown",
   "metadata": {},
   "source": [
    "### Iris dataset\n",
    "\n",
    "This is perhaps the best known database to be found in the machine learning \n",
    "literature. The data set contains 3 different classes of 50 instances each,\n",
    "where each class refers to a type of *iris* plant. One class is linearly\n",
    "separable from the other 2; the latter are **not** linearly separable from\n",
    "each other.\n",
    "\n",
    "**Main goal**:\n",
    "\n",
    "- To train a ML model that is able to *correctly* categorize or predict each\n",
    "  observation into one of the three *species* of irises based on 4 different\n",
    "  *features*, i.e. sepal's width and height and those of the petal."
   ]
  },
  {
   "cell_type": "markdown",
   "metadata": {},
   "source": [
    "#### Step 1: Download the dataset from `seaborn`'s database\n",
    "\n",
    "This datasets, given that it's one of the most well-known datasets for \n",
    "machine learning, comes pre-packaged into `seaborn`, so that we can easily\n",
    "import it as a Pandas DataFrame. But first, we must import some submodules"
   ]
  },
  {
   "cell_type": "markdown",
   "metadata": {},
   "source": [
    "##### Importing modules"
   ]
  },
  {
   "cell_type": "code",
   "execution_count": 1,
   "metadata": {},
   "outputs": [],
   "source": [
    "%matplotlib inline\n",
    "%load_ext lab_black\n",
    "\n",
    "import matplotlib.pyplot as plt\n",
    "from matplotlib import rc\n",
    "import pandas as pd\n",
    "import seaborn as sns\n",
    "import numpy as np\n",
    "\n",
    "rc(\"text\", usetex=False)\n",
    "\n",
    "sns.set()\n",
    "\n",
    "import matplotlib\n",
    "\n",
    "matplotlib.rc(\"text\", usetex=False)"
   ]
  },
  {
   "cell_type": "markdown",
   "metadata": {},
   "source": [
    "We can now import the whole database and do some EDA on it:"
   ]
  },
  {
   "cell_type": "code",
   "execution_count": 2,
   "metadata": {},
   "outputs": [],
   "source": [
    "# Loading in the Iris dataset\n",
    "iris = sns.load_dataset(\"iris\")"
   ]
  },
  {
   "cell_type": "markdown",
   "metadata": {},
   "source": [
    "#### Step 2: Exploratory Data Analysis (EDA)\n",
    "\n",
    "The next step is to perform some data exploration of this dataset.\n",
    "\n",
    "There are a few things to look for:\n",
    "\n",
    "- **Shape** : Look at the total number of rows and columns in the dataset.\n",
    "- **Summary Statistics** : This step will show you the `min`, `max`, `mean`,\n",
    "  and other summary statistics of each column in the dataset. This step is\n",
    "  very useful to understand the **ranges** of each column, as it will be\n",
    "  needed to know for normalizing the dataset.\n",
    "- **Unique catogories**: This mainly applies to categorical variables, such\n",
    "  as the column `species` in the dataset. It is important to know if the\n",
    "  the dataset is **balanced** or not, i.e. if there are more observations of\n",
    "  one class than the rest. When having an *unbalanced* dataset, sometimes\n",
    "  it will affect *performance metrics*, such as **accuracy**, **precision**,\n",
    "  **recall**, and **F1 score**. This [link](https://towardsdatascience.com/methods-for-dealing-with-imbalanced-data-5b761be45a18) provides a good summary of what to do when you're presented\n",
    "  with an unbalanced dataset.\n",
    "- **Data types**: It is very important to know the type of variable\n",
    "  in each column, i.e. are the values of column `X` *integers*,\n",
    "  *floats*, *strings*, etc. This step is important to know since some\n",
    "  algorithms and packages deal with datasets differently (see\n",
    "  [h2o](https://docs.h2o.ai/h2o/latest-stable/h2o-docs/index.html)\n",
    "  for example, since it handles `strings` differently than `floats` and\n",
    "  others)."
   ]
  },
  {
   "cell_type": "markdown",
   "metadata": {},
   "source": [
    "**Shape**\n",
    "\n",
    "Let's look at the overall structure of the dataset"
   ]
  },
  {
   "cell_type": "code",
   "execution_count": 3,
   "metadata": {},
   "outputs": [
    {
     "data": {
      "text/html": [
       "<div>\n",
       "<style scoped>\n",
       "    .dataframe tbody tr th:only-of-type {\n",
       "        vertical-align: middle;\n",
       "    }\n",
       "\n",
       "    .dataframe tbody tr th {\n",
       "        vertical-align: top;\n",
       "    }\n",
       "\n",
       "    .dataframe thead th {\n",
       "        text-align: right;\n",
       "    }\n",
       "</style>\n",
       "<table border=\"1\" class=\"dataframe\">\n",
       "  <thead>\n",
       "    <tr style=\"text-align: right;\">\n",
       "      <th></th>\n",
       "      <th>sepal_length</th>\n",
       "      <th>sepal_width</th>\n",
       "      <th>petal_length</th>\n",
       "      <th>petal_width</th>\n",
       "      <th>species</th>\n",
       "    </tr>\n",
       "  </thead>\n",
       "  <tbody>\n",
       "    <tr>\n",
       "      <th>0</th>\n",
       "      <td>5.1</td>\n",
       "      <td>3.5</td>\n",
       "      <td>1.4</td>\n",
       "      <td>0.2</td>\n",
       "      <td>setosa</td>\n",
       "    </tr>\n",
       "    <tr>\n",
       "      <th>1</th>\n",
       "      <td>4.9</td>\n",
       "      <td>3.0</td>\n",
       "      <td>1.4</td>\n",
       "      <td>0.2</td>\n",
       "      <td>setosa</td>\n",
       "    </tr>\n",
       "    <tr>\n",
       "      <th>2</th>\n",
       "      <td>4.7</td>\n",
       "      <td>3.2</td>\n",
       "      <td>1.3</td>\n",
       "      <td>0.2</td>\n",
       "      <td>setosa</td>\n",
       "    </tr>\n",
       "    <tr>\n",
       "      <th>3</th>\n",
       "      <td>4.6</td>\n",
       "      <td>3.1</td>\n",
       "      <td>1.5</td>\n",
       "      <td>0.2</td>\n",
       "      <td>setosa</td>\n",
       "    </tr>\n",
       "    <tr>\n",
       "      <th>4</th>\n",
       "      <td>5.0</td>\n",
       "      <td>3.6</td>\n",
       "      <td>1.4</td>\n",
       "      <td>0.2</td>\n",
       "      <td>setosa</td>\n",
       "    </tr>\n",
       "  </tbody>\n",
       "</table>\n",
       "</div>"
      ],
      "text/plain": [
       "   sepal_length  sepal_width  petal_length  petal_width species\n",
       "0           5.1          3.5           1.4          0.2  setosa\n",
       "1           4.9          3.0           1.4          0.2  setosa\n",
       "2           4.7          3.2           1.3          0.2  setosa\n",
       "3           4.6          3.1           1.5          0.2  setosa\n",
       "4           5.0          3.6           1.4          0.2  setosa"
      ]
     },
     "execution_count": 3,
     "metadata": {},
     "output_type": "execute_result"
    }
   ],
   "source": [
    "iris.head()"
   ]
  },
  {
   "cell_type": "code",
   "execution_count": 4,
   "metadata": {},
   "outputs": [
    {
     "name": "stdout",
     "output_type": "stream",
     "text": [
      "There are `150` rows and `5` columns\n"
     ]
    }
   ],
   "source": [
    "# Rows and columns in the dataset\n",
    "print(\"There are `{0}` rows and `{1}` columns\".format(*iris.shape))"
   ]
  },
  {
   "cell_type": "code",
   "execution_count": 5,
   "metadata": {},
   "outputs": [
    {
     "name": "stdout",
     "output_type": "stream",
     "text": [
      "The column names in the `iris` dataset are:\n",
      "\n",
      "\t- sepal_length\n",
      "\t- sepal_width\n",
      "\t- petal_length\n",
      "\t- petal_width\n",
      "\t- species\n"
     ]
    }
   ],
   "source": [
    "# Column names\n",
    "colnames_arr = \"\\n\\t- \".join(iris.columns)\n",
    "\n",
    "print(\"The column names in the `iris` dataset are:\" + \"\\n\\n\\t- \" + colnames_arr)"
   ]
  },
  {
   "cell_type": "markdown",
   "metadata": {},
   "source": [
    "This shows that the `iris` datasets has **5 columns** and **150**\n",
    "rows."
   ]
  },
  {
   "cell_type": "markdown",
   "metadata": {},
   "source": [
    "**Data Types**\n",
    "\n",
    "The easiest way to look at the *data types* of each column in the\n",
    "DataFrame is through the `info()` function:"
   ]
  },
  {
   "cell_type": "code",
   "execution_count": 6,
   "metadata": {},
   "outputs": [
    {
     "name": "stdout",
     "output_type": "stream",
     "text": [
      "<class 'pandas.core.frame.DataFrame'>\n",
      "RangeIndex: 150 entries, 0 to 149\n",
      "Data columns (total 5 columns):\n",
      " #   Column        Non-Null Count  Dtype  \n",
      "---  ------        --------------  -----  \n",
      " 0   sepal_length  150 non-null    float64\n",
      " 1   sepal_width   150 non-null    float64\n",
      " 2   petal_length  150 non-null    float64\n",
      " 3   petal_width   150 non-null    float64\n",
      " 4   species       150 non-null    object \n",
      "dtypes: float64(4), object(1)\n",
      "memory usage: 6.0+ KB\n"
     ]
    }
   ],
   "source": [
    "iris.info(\"all\")"
   ]
  },
  {
   "cell_type": "markdown",
   "metadata": {},
   "source": [
    "This fuctions shows us that:\n",
    "\n",
    "- The `species` column is an `object`. This means that this column is\n",
    "  comprised of `strings`.\n",
    "- The `sepal_length`, `sepal_width`, `petal_length`, and `petal_width` are\n",
    "  all `float` variables. This will become apparent when we look at the\n",
    "  summary statistics of the dataset, as it displays the statistics for\n",
    "  numeric types *by default*."
   ]
  },
  {
   "cell_type": "markdown",
   "metadata": {},
   "source": [
    "**Summary Statistics**\n",
    "\n",
    "The next step is to look at the summary statistics of this dataset"
   ]
  },
  {
   "cell_type": "code",
   "execution_count": 7,
   "metadata": {},
   "outputs": [
    {
     "data": {
      "text/html": [
       "<div>\n",
       "<style scoped>\n",
       "    .dataframe tbody tr th:only-of-type {\n",
       "        vertical-align: middle;\n",
       "    }\n",
       "\n",
       "    .dataframe tbody tr th {\n",
       "        vertical-align: top;\n",
       "    }\n",
       "\n",
       "    .dataframe thead th {\n",
       "        text-align: right;\n",
       "    }\n",
       "</style>\n",
       "<table border=\"1\" class=\"dataframe\">\n",
       "  <thead>\n",
       "    <tr style=\"text-align: right;\">\n",
       "      <th></th>\n",
       "      <th>sepal_length</th>\n",
       "      <th>sepal_width</th>\n",
       "      <th>petal_length</th>\n",
       "      <th>petal_width</th>\n",
       "    </tr>\n",
       "  </thead>\n",
       "  <tbody>\n",
       "    <tr>\n",
       "      <th>count</th>\n",
       "      <td>150.000000</td>\n",
       "      <td>150.000000</td>\n",
       "      <td>150.000000</td>\n",
       "      <td>150.000000</td>\n",
       "    </tr>\n",
       "    <tr>\n",
       "      <th>mean</th>\n",
       "      <td>5.843333</td>\n",
       "      <td>3.057333</td>\n",
       "      <td>3.758000</td>\n",
       "      <td>1.199333</td>\n",
       "    </tr>\n",
       "    <tr>\n",
       "      <th>std</th>\n",
       "      <td>0.828066</td>\n",
       "      <td>0.435866</td>\n",
       "      <td>1.765298</td>\n",
       "      <td>0.762238</td>\n",
       "    </tr>\n",
       "    <tr>\n",
       "      <th>min</th>\n",
       "      <td>4.300000</td>\n",
       "      <td>2.000000</td>\n",
       "      <td>1.000000</td>\n",
       "      <td>0.100000</td>\n",
       "    </tr>\n",
       "    <tr>\n",
       "      <th>25%</th>\n",
       "      <td>5.100000</td>\n",
       "      <td>2.800000</td>\n",
       "      <td>1.600000</td>\n",
       "      <td>0.300000</td>\n",
       "    </tr>\n",
       "    <tr>\n",
       "      <th>50%</th>\n",
       "      <td>5.800000</td>\n",
       "      <td>3.000000</td>\n",
       "      <td>4.350000</td>\n",
       "      <td>1.300000</td>\n",
       "    </tr>\n",
       "    <tr>\n",
       "      <th>75%</th>\n",
       "      <td>6.400000</td>\n",
       "      <td>3.300000</td>\n",
       "      <td>5.100000</td>\n",
       "      <td>1.800000</td>\n",
       "    </tr>\n",
       "    <tr>\n",
       "      <th>max</th>\n",
       "      <td>7.900000</td>\n",
       "      <td>4.400000</td>\n",
       "      <td>6.900000</td>\n",
       "      <td>2.500000</td>\n",
       "    </tr>\n",
       "  </tbody>\n",
       "</table>\n",
       "</div>"
      ],
      "text/plain": [
       "       sepal_length  sepal_width  petal_length  petal_width\n",
       "count    150.000000   150.000000    150.000000   150.000000\n",
       "mean       5.843333     3.057333      3.758000     1.199333\n",
       "std        0.828066     0.435866      1.765298     0.762238\n",
       "min        4.300000     2.000000      1.000000     0.100000\n",
       "25%        5.100000     2.800000      1.600000     0.300000\n",
       "50%        5.800000     3.000000      4.350000     1.300000\n",
       "75%        6.400000     3.300000      5.100000     1.800000\n",
       "max        7.900000     4.400000      6.900000     2.500000"
      ]
     },
     "execution_count": 7,
     "metadata": {},
     "output_type": "execute_result"
    }
   ],
   "source": [
    "iris.describe()"
   ]
  },
  {
   "cell_type": "markdown",
   "metadata": {},
   "source": [
    "Unless one is very familiar with a this dataset, it *not* straightforward\n",
    "to know if these ranges are good or not. However, the `describe()`\n",
    "function allows us to look at the `min`, `max` and `mean` for each\n",
    "column separately.\n",
    "\n",
    "Since we're interested in looking at the different `distributions`\n",
    "of each column and, especially, look for any correlation between the\n",
    "different columns, we can use the Seaborn's function `pairplot` to create\n",
    "a figure that shows us all of this at once:"
   ]
  },
  {
   "cell_type": "code",
   "execution_count": 8,
   "metadata": {},
   "outputs": [
    {
     "data": {
      "text/plain": [
       "<seaborn.axisgrid.PairGrid at 0x7ff4a63ae9d0>"
      ]
     },
     "execution_count": 8,
     "metadata": {},
     "output_type": "execute_result"
    },
    {
     "data": {
      "image/png": "[encoded data removed]",
      "text/plain": [
       "<Figure size 662.85x576 with 20 Axes>"
      ]
     },
     "metadata": {},
     "output_type": "display_data"
    }
   ],
   "source": [
    "sns.pairplot(iris, hue=\"species\", height=2.0)"
   ]
  },
  {
   "cell_type": "markdown",
   "metadata": {},
   "source": [
    "From this matrix, we can see some of the important aspects of this dataset:\n",
    "\n",
    "1. There are `3` main species, each with a different distribution for the\n",
    "   sepal's width and height and those of the petal.\n",
    "\n",
    "2. There are some clear outliers in the measurements\n",
    "\n",
    "3. 2 of the 3 species are *similir* in **feature-space**, i.e. they share\n",
    "   similar trends when plotting the 4 different features one against another.\n",
    "   `Versicolor` and `Virginica` share common features, while `Setosa` can be\n",
    "   clearly separated from the other 2 on this feature-space."
   ]
  },
  {
   "cell_type": "markdown",
   "metadata": {},
   "source": [
    "Judging from this figure, the three species (`setosa`, `versicolor`, and \n",
    "`virginica`) form distinct groups\n",
    "when plotting one *feature* against other features.\n",
    "\n",
    "Let's look at the distribution of the different *features* for each type of iris. To simplify this,\n",
    "we can modify the dataset to simplify this process with the help of the function `pandas.melt`"
   ]
  },
  {
   "cell_type": "code",
   "execution_count": 9,
   "metadata": {},
   "outputs": [
    {
     "data": {
      "text/html": [
       "<div>\n",
       "<style scoped>\n",
       "    .dataframe tbody tr th:only-of-type {\n",
       "        vertical-align: middle;\n",
       "    }\n",
       "\n",
       "    .dataframe tbody tr th {\n",
       "        vertical-align: top;\n",
       "    }\n",
       "\n",
       "    .dataframe thead th {\n",
       "        text-align: right;\n",
       "    }\n",
       "</style>\n",
       "<table border=\"1\" class=\"dataframe\">\n",
       "  <thead>\n",
       "    <tr style=\"text-align: right;\">\n",
       "      <th></th>\n",
       "      <th>species</th>\n",
       "      <th>iris_type</th>\n",
       "      <th>value</th>\n",
       "    </tr>\n",
       "  </thead>\n",
       "  <tbody>\n",
       "    <tr>\n",
       "      <th>0</th>\n",
       "      <td>setosa</td>\n",
       "      <td>sepal_length</td>\n",
       "      <td>5.1</td>\n",
       "    </tr>\n",
       "    <tr>\n",
       "      <th>1</th>\n",
       "      <td>setosa</td>\n",
       "      <td>sepal_length</td>\n",
       "      <td>4.9</td>\n",
       "    </tr>\n",
       "    <tr>\n",
       "      <th>2</th>\n",
       "      <td>setosa</td>\n",
       "      <td>sepal_length</td>\n",
       "      <td>4.7</td>\n",
       "    </tr>\n",
       "    <tr>\n",
       "      <th>3</th>\n",
       "      <td>setosa</td>\n",
       "      <td>sepal_length</td>\n",
       "      <td>4.6</td>\n",
       "    </tr>\n",
       "    <tr>\n",
       "      <th>4</th>\n",
       "      <td>setosa</td>\n",
       "      <td>sepal_length</td>\n",
       "      <td>5.0</td>\n",
       "    </tr>\n",
       "  </tbody>\n",
       "</table>\n",
       "</div>"
      ],
      "text/plain": [
       "  species     iris_type  value\n",
       "0  setosa  sepal_length    5.1\n",
       "1  setosa  sepal_length    4.9\n",
       "2  setosa  sepal_length    4.7\n",
       "3  setosa  sepal_length    4.6\n",
       "4  setosa  sepal_length    5.0"
      ]
     },
     "execution_count": 9,
     "metadata": {},
     "output_type": "execute_result"
    }
   ],
   "source": [
    "# Modifiying the `iris` dataset to make it easier to plot\n",
    "iris_melt = pd.melt(iris, id_vars=[\"species\"], var_name=\"iris_type\", value_name=\"value\")\n",
    "\n",
    "iris_melt.head()"
   ]
  },
  {
   "cell_type": "code",
   "execution_count": 10,
   "metadata": {},
   "outputs": [
    {
     "data": {
      "text/plain": [
       "<matplotlib.axes._subplots.AxesSubplot at 0x7ff4a8121550>"
      ]
     },
     "execution_count": 10,
     "metadata": {},
     "output_type": "execute_result"
    },
    {
     "data": {
      "image/png": "[encoded data removed]",
      "text/plain": [
       "<Figure size 720x720 with 1 Axes>"
      ]
     },
     "metadata": {},
     "output_type": "display_data"
    }
   ],
   "source": [
    "plt.figure(figsize=(10, 10))\n",
    "sns.boxplot(x=\"iris_type\", y=\"value\", hue=\"species\", data=iris_melt)"
   ]
  },
  {
   "cell_type": "markdown",
   "metadata": {},
   "source": [
    "One can draw similar conclusions than the ones before:\n",
    "\n",
    "- The ranges for the `versicolor` and `virginica` species are similar for\n",
    "  some columns, while the range of values for the `setosa` class are\n",
    "  statistically different than the rest."
   ]
  },
  {
   "cell_type": "markdown",
   "metadata": {},
   "source": [
    "The next step is look at whether the dataset if **balanced** or not."
   ]
  },
  {
   "cell_type": "markdown",
   "metadata": {},
   "source": [
    "**Unique categories**\n",
    "\n",
    "We are now interested in checking whether or not the dataset if balanced,\n",
    "i.e. if there is one or more classes with a **higher number** of observations\n",
    "than the rest of observations.\n",
    "\n",
    "We can use the `value_counts()` function to explore this:"
   ]
  },
  {
   "cell_type": "code",
   "execution_count": 11,
   "metadata": {},
   "outputs": [
    {
     "data": {
      "text/html": [
       "<div>\n",
       "<style scoped>\n",
       "    .dataframe tbody tr th:only-of-type {\n",
       "        vertical-align: middle;\n",
       "    }\n",
       "\n",
       "    .dataframe tbody tr th {\n",
       "        vertical-align: top;\n",
       "    }\n",
       "\n",
       "    .dataframe thead th {\n",
       "        text-align: right;\n",
       "    }\n",
       "</style>\n",
       "<table border=\"1\" class=\"dataframe\">\n",
       "  <thead>\n",
       "    <tr style=\"text-align: right;\">\n",
       "      <th></th>\n",
       "      <th>species</th>\n",
       "    </tr>\n",
       "  </thead>\n",
       "  <tbody>\n",
       "    <tr>\n",
       "      <th>virginica</th>\n",
       "      <td>50</td>\n",
       "    </tr>\n",
       "    <tr>\n",
       "      <th>setosa</th>\n",
       "      <td>50</td>\n",
       "    </tr>\n",
       "    <tr>\n",
       "      <th>versicolor</th>\n",
       "      <td>50</td>\n",
       "    </tr>\n",
       "  </tbody>\n",
       "</table>\n",
       "</div>"
      ],
      "text/plain": [
       "            species\n",
       "virginica        50\n",
       "setosa           50\n",
       "versicolor       50"
      ]
     },
     "execution_count": 11,
     "metadata": {},
     "output_type": "execute_result"
    }
   ],
   "source": [
    "# Checking whether or not the dataset is balanced\n",
    "iris[\"species\"].value_counts().to_frame()"
   ]
  },
  {
   "cell_type": "markdown",
   "metadata": {},
   "source": [
    "However, for future reference, we can also include the *percentages* of\n",
    "each class by using the `normalize = True` argument:"
   ]
  },
  {
   "cell_type": "code",
   "execution_count": 12,
   "metadata": {},
   "outputs": [
    {
     "data": {
      "text/html": [
       "<div>\n",
       "<style scoped>\n",
       "    .dataframe tbody tr th:only-of-type {\n",
       "        vertical-align: middle;\n",
       "    }\n",
       "\n",
       "    .dataframe tbody tr th {\n",
       "        vertical-align: top;\n",
       "    }\n",
       "\n",
       "    .dataframe thead th {\n",
       "        text-align: right;\n",
       "    }\n",
       "</style>\n",
       "<table border=\"1\" class=\"dataframe\">\n",
       "  <thead>\n",
       "    <tr style=\"text-align: right;\">\n",
       "      <th></th>\n",
       "      <th>species</th>\n",
       "    </tr>\n",
       "  </thead>\n",
       "  <tbody>\n",
       "    <tr>\n",
       "      <th>virginica</th>\n",
       "      <td>0.333333</td>\n",
       "    </tr>\n",
       "    <tr>\n",
       "      <th>setosa</th>\n",
       "      <td>0.333333</td>\n",
       "    </tr>\n",
       "    <tr>\n",
       "      <th>versicolor</th>\n",
       "      <td>0.333333</td>\n",
       "    </tr>\n",
       "  </tbody>\n",
       "</table>\n",
       "</div>"
      ],
      "text/plain": [
       "             species\n",
       "virginica   0.333333\n",
       "setosa      0.333333\n",
       "versicolor  0.333333"
      ]
     },
     "execution_count": 12,
     "metadata": {},
     "output_type": "execute_result"
    }
   ],
   "source": [
    "# Now we can compute the \"percentage\" of each class in the `species` column\n",
    "iris[\"species\"].value_counts(normalize=True).to_frame()"
   ]
  },
  {
   "cell_type": "markdown",
   "metadata": {},
   "source": [
    "To make our lives easier, we can create a single DataFrame that shows these\n",
    "numbers together:"
   ]
  },
  {
   "cell_type": "code",
   "execution_count": 13,
   "metadata": {},
   "outputs": [
    {
     "data": {
      "text/html": [
       "<div>\n",
       "<style scoped>\n",
       "    .dataframe tbody tr th:only-of-type {\n",
       "        vertical-align: middle;\n",
       "    }\n",
       "\n",
       "    .dataframe tbody tr th {\n",
       "        vertical-align: top;\n",
       "    }\n",
       "\n",
       "    .dataframe thead th {\n",
       "        text-align: right;\n",
       "    }\n",
       "</style>\n",
       "<table border=\"1\" class=\"dataframe\">\n",
       "  <thead>\n",
       "    <tr style=\"text-align: right;\">\n",
       "      <th></th>\n",
       "      <th>perc</th>\n",
       "      <th>counts</th>\n",
       "    </tr>\n",
       "  </thead>\n",
       "  <tbody>\n",
       "    <tr>\n",
       "      <th>virginica</th>\n",
       "      <td>0.333333</td>\n",
       "      <td>50</td>\n",
       "    </tr>\n",
       "    <tr>\n",
       "      <th>setosa</th>\n",
       "      <td>0.333333</td>\n",
       "      <td>50</td>\n",
       "    </tr>\n",
       "    <tr>\n",
       "      <th>versicolor</th>\n",
       "      <td>0.333333</td>\n",
       "      <td>50</td>\n",
       "    </tr>\n",
       "  </tbody>\n",
       "</table>\n",
       "</div>"
      ],
      "text/plain": [
       "                perc  counts\n",
       "virginica   0.333333      50\n",
       "setosa      0.333333      50\n",
       "versicolor  0.333333      50"
      ]
     },
     "execution_count": 13,
     "metadata": {},
     "output_type": "execute_result"
    }
   ],
   "source": [
    "# Normalized version of the `species` column\n",
    "species_normed = iris[\"species\"].value_counts(dropna=False, normalize=True).to_frame()\n",
    "\n",
    "# Total number of counts per \"class\" in the `species` column\n",
    "species_counts = iris[\"species\"].value_counts(dropna=False, normalize=False).to_frame()\n",
    "\n",
    "# We can now merged them together.\n",
    "# I'm renaming the column names to make them easier to get merged\n",
    "species_merged = pd.merge(\n",
    "    species_normed.rename(columns={\"species\": \"perc\"}),\n",
    "    species_counts.rename(columns={\"species\": \"counts\"}),\n",
    "    left_index=True,\n",
    "    right_index=True,\n",
    ")\n",
    "\n",
    "species_merged"
   ]
  },
  {
   "cell_type": "markdown",
   "metadata": {},
   "source": [
    "The `species_merged` DataFrame shows that all 3 classes have the *same*\n",
    "number of observations, and thus, the **dataset is balanced**."
   ]
  },
  {
   "cell_type": "markdown",
   "metadata": {},
   "source": [
    "**Main Takeaways**:\n",
    "\n",
    ">- Make sure your data is encoded properly (datatypes)\n",
    ">- Make sure the data falls within the expected range, and use *domain\n",
    ">  knowledge* whenever possible to define that expected range.\n",
    ">- Deal with missing data in our way or another. Replace it if you can or just >  `drop` it.\n",
    ">- Never tidy your data manually because that is NOT easily reproducible by\n",
    ">  others.\n",
    ">- Use code as a **record** of how you cleaned your data.\n",
    ">- Plot everything you can about the dataset at this stage of the analysis\n",
    ">  so you can *visually* confirm if the dataset looks correct. This will also\n",
    ">  help in detecting *outliers*, which you can decide how to deal with them\n",
    ">  later on."
   ]
  },
  {
   "cell_type": "markdown",
   "metadata": {},
   "source": [
    "#### Step 3: Classification and ML model\n",
    "\n",
    "The next step is to develop a ML model for classifying the different classes\n",
    "of irises based on the 4 different **features**, i.e.\n",
    "the sepal's and petal's width and height. The approach that we will\n",
    "take is:\n",
    "\n",
    "1. Create training and testing datasets with a `80-20` proportion.\n",
    "2. Train a ML model on the training dataset.\n",
    "3. Compute the performance of the model using the `testing` dataset.\n",
    "\n",
    "A **training set** is a *random* subset of the data that we use to train\n",
    "our model.\n",
    "\n",
    "A **testing set** is a *random* subset of the data (mutually exclusive\n",
    "from the training set, i.e. an observation can only be in either the\n",
    "testing or training set, but it cannot be in *both*!). This dataset\n",
    "is used for **validating** the model on unforseen data."
   ]
  },
  {
   "cell_type": "markdown",
   "metadata": {},
   "source": [
    "##### Step 3.1 - Splitting data into `training` and `testing` dataset\n",
    "\n",
    "The next step is to create a set of `training` and `testing` dataset:"
   ]
  },
  {
   "cell_type": "code",
   "execution_count": 14,
   "metadata": {},
   "outputs": [],
   "source": [
    "from sklearn.model_selection import train_test_split"
   ]
  },
  {
   "cell_type": "markdown",
   "metadata": {},
   "source": [
    "We now separate our **features** from the **target** variable:"
   ]
  },
  {
   "cell_type": "code",
   "execution_count": 15,
   "metadata": {},
   "outputs": [],
   "source": [
    "# Separating target and feature arrays\n",
    "X = iris[[xx for xx in iris.columns if xx != \"species\"]].values\n",
    "y = iris[\"species\"].values"
   ]
  },
  {
   "cell_type": "markdown",
   "metadata": {},
   "source": [
    "These look like this:"
   ]
  },
  {
   "cell_type": "code",
   "execution_count": 16,
   "metadata": {},
   "outputs": [
    {
     "data": {
      "text/plain": [
       "array([[5.1, 3.5, 1.4, 0.2],\n",
       "       [4.9, 3. , 1.4, 0.2],\n",
       "       [4.7, 3.2, 1.3, 0.2],\n",
       "       [4.6, 3.1, 1.5, 0.2],\n",
       "       [5. , 3.6, 1.4, 0.2],\n",
       "       [5.4, 3.9, 1.7, 0.4],\n",
       "       [4.6, 3.4, 1.4, 0.3],\n",
       "       [5. , 3.4, 1.5, 0.2],\n",
       "       [4.4, 2.9, 1.4, 0.2],\n",
       "       [4.9, 3.1, 1.5, 0.1]])"
      ]
     },
     "execution_count": 16,
     "metadata": {},
     "output_type": "execute_result"
    }
   ],
   "source": [
    "X[:10]"
   ]
  },
  {
   "cell_type": "code",
   "execution_count": 17,
   "metadata": {},
   "outputs": [
    {
     "data": {
      "text/plain": [
       "array(['setosa', 'setosa', 'setosa', 'setosa', 'setosa', 'setosa',\n",
       "       'setosa', 'setosa', 'setosa', 'setosa'], dtype=object)"
      ]
     },
     "execution_count": 17,
     "metadata": {},
     "output_type": "execute_result"
    }
   ],
   "source": [
    "y[:10]"
   ]
  },
  {
   "cell_type": "markdown",
   "metadata": {},
   "source": [
    "We can now use these to create our *training* and *testing* datasets:"
   ]
  },
  {
   "cell_type": "code",
   "execution_count": 18,
   "metadata": {},
   "outputs": [
    {
     "name": "stdout",
     "output_type": "stream",
     "text": [
      "`X_train`: (120, 4)\n",
      "`Y_train`: (120,)\n",
      "`X_test`: (30, 4)\n",
      "`Y_test`: (30,)\n"
     ]
    }
   ],
   "source": [
    "# Separating between training and testing X's and y's\n",
    "X_train, X_test, Y_train, Y_test = train_test_split(\n",
    "    X, y, test_size=0.2, random_state=100\n",
    ")\n",
    "\n",
    "print(\"`X_train`: {0}\".format(X_train.shape))\n",
    "print(\"`Y_train`: {0}\".format(Y_train.shape))\n",
    "print(\"`X_test`: {0}\".format(X_test.shape))\n",
    "print(\"`Y_test`: {0}\".format(Y_test.shape))"
   ]
  },
  {
   "cell_type": "markdown",
   "metadata": {},
   "source": [
    "##### 3.2 - Training model using the `training` dataset\n",
    "\n",
    "With this data split, we can now start fitting models to our dataset.\n",
    "We will train a `Random Forest` (RF) using this data, and predict the\n",
    "classes of the **testing** dataset. This will allow us to determine the\n",
    "performance of the *classifier* and evaluate if the model is *overfitting*\n",
    "or not."
   ]
  },
  {
   "cell_type": "markdown",
   "metadata": {},
   "source": [
    "**Importing packages and defining the classifier**\n",
    "\n",
    "The following will import the necessary packages and it will *instantiate*\n",
    "the `RandomForestClassifier` object with a random *seed*:"
   ]
  },
  {
   "cell_type": "code",
   "execution_count": 19,
   "metadata": {},
   "outputs": [],
   "source": [
    "# Importing Random Forest classifier\n",
    "from sklearn.ensemble import RandomForestClassifier"
   ]
  },
  {
   "cell_type": "markdown",
   "metadata": {},
   "source": [
    "> One important tip is to include a `random_state` (analogous to random\n",
    "> seed) so that the results can be reproduced by others!"
   ]
  },
  {
   "cell_type": "code",
   "execution_count": 20,
   "metadata": {},
   "outputs": [],
   "source": [
    "# Defining model object\n",
    "model = RandomForestClassifier(random_state=9)"
   ]
  },
  {
   "cell_type": "markdown",
   "metadata": {},
   "source": [
    "**Training phase**\n",
    "\n",
    "We can now fit the model to our **training** data. This step is commonly\n",
    "known as the **training phase** of a machine learning model:"
   ]
  },
  {
   "cell_type": "code",
   "execution_count": 21,
   "metadata": {},
   "outputs": [
    {
     "data": {
      "text/plain": [
       "RandomForestClassifier(random_state=9)"
      ]
     },
     "execution_count": 21,
     "metadata": {},
     "output_type": "execute_result"
    }
   ],
   "source": [
    "# Fittig model to training dataset\n",
    "model.fit(X_train, Y_train)"
   ]
  },
  {
   "cell_type": "markdown",
   "metadata": {},
   "source": [
    "**Validating results of the classifier**\n",
    "\n",
    "We can first look at the *classification accuracy* using the `score` function:"
   ]
  },
  {
   "cell_type": "code",
   "execution_count": 22,
   "metadata": {},
   "outputs": [
    {
     "data": {
      "text/plain": [
       "0.9666666666666667"
      ]
     },
     "execution_count": 22,
     "metadata": {},
     "output_type": "execute_result"
    }
   ],
   "source": [
    "model.score(X_test, Y_test)"
   ]
  },
  {
   "cell_type": "markdown",
   "metadata": {},
   "source": [
    "This shows that the **classification accuracy** of this classifier is of\n",
    "`~96.66%` using the testing dataset!!"
   ]
  },
  {
   "cell_type": "markdown",
   "metadata": {},
   "source": [
    "##### 3.3 - Cross-validation of the scoring process\n",
    "\n",
    "> However, this number might be misleading, since it's based on a single\n",
    "> training-testing split. Ideally, we want to compare the accuracy of \n",
    "> multiple runs of training and scoring phases. This can be achieved with\n",
    "> `cross-validation` or `K-fold` cross-validation"
   ]
  },
  {
   "cell_type": "code",
   "execution_count": 23,
   "metadata": {},
   "outputs": [],
   "source": [
    "from sklearn.model_selection import cross_val_score"
   ]
  },
  {
   "cell_type": "markdown",
   "metadata": {},
   "source": [
    "We can now compute the score of **multiple** runs of this process:"
   ]
  },
  {
   "cell_type": "code",
   "execution_count": 24,
   "metadata": {},
   "outputs": [],
   "source": [
    "# Total number of cross-validations to perform\n",
    "cv = 5\n",
    "\n",
    "cv_scores = cross_val_score(model, X, y, cv=5)"
   ]
  },
  {
   "cell_type": "markdown",
   "metadata": {},
   "source": [
    "The results of said cross-validation stage are"
   ]
  },
  {
   "cell_type": "code",
   "execution_count": 25,
   "metadata": {},
   "outputs": [
    {
     "data": {
      "text/plain": [
       "array([0.96666667, 0.96666667, 0.93333333, 0.96666667, 1.        ])"
      ]
     },
     "execution_count": 25,
     "metadata": {},
     "output_type": "execute_result"
    }
   ],
   "source": [
    "cv_scores"
   ]
  },
  {
   "cell_type": "code",
   "execution_count": 26,
   "metadata": {},
   "outputs": [
    {
     "data": {
      "image/png": "[encoded data removed]",
      "text/plain": [
       "<Figure size 576x576 with 1 Axes>"
      ]
     },
     "metadata": {},
     "output_type": "display_data"
    }
   ],
   "source": [
    "# Visualizing scores for the different Cross-validation runs\n",
    "plt.figure(figsize=(8, 8))\n",
    "plt.title(\n",
    "    \"Cross-validation results | Average Score: {0:.2f} %\".format(\n",
    "        100 * cv_scores.mean()\n",
    "    ),\n",
    "    fontsize=15,\n",
    ")\n",
    "a = plt.hist(cv_scores)"
   ]
  },
  {
   "cell_type": "markdown",
   "metadata": {},
   "source": [
    "##### 3.5 - Classification Report\n",
    "\n",
    "Additionally, we can create a classification report for the model:"
   ]
  },
  {
   "cell_type": "code",
   "execution_count": 27,
   "metadata": {},
   "outputs": [],
   "source": [
    "from sklearn.metrics import classification_report"
   ]
  },
  {
   "cell_type": "code",
   "execution_count": 28,
   "metadata": {},
   "outputs": [],
   "source": [
    "# Predict classifications using the testing dataset\n",
    "y_pred = model.predict(X_test)"
   ]
  },
  {
   "cell_type": "markdown",
   "metadata": {},
   "source": [
    "We can easily compare the `y_pred` to the `Y_test` to check how well the\n",
    "model classified each observation in the *testing* dataset:"
   ]
  },
  {
   "cell_type": "code",
   "execution_count": 29,
   "metadata": {},
   "outputs": [
    {
     "name": "stdout",
     "output_type": "stream",
     "text": [
      "              precision    recall  f1-score   support\n",
      "\n",
      "      setosa       1.00      1.00      1.00        11\n",
      "  versicolor       1.00      0.83      0.91         6\n",
      "   virginica       0.93      1.00      0.96        13\n",
      "\n",
      "    accuracy                           0.97        30\n",
      "   macro avg       0.98      0.94      0.96        30\n",
      "weighted avg       0.97      0.97      0.97        30\n",
      "\n"
     ]
    }
   ],
   "source": [
    "print(classification_report(Y_test, y_pred))"
   ]
  },
  {
   "cell_type": "markdown",
   "metadata": {},
   "source": [
    "This shows that the accuracy is `~97%` as we saw earlier. This also includes\n",
    "several other metrics, such as:\n",
    "\n",
    "- Precision\n",
    "- Recall\n",
    "- F1-score\n",
    "\n",
    "These metrics are used for quantifying the performance of the model"
   ]
  },
  {
   "cell_type": "markdown",
   "metadata": {},
   "source": [
    "##### 3.4 - Confusion Matrix\n",
    "\n",
    "Another way of looking at the results of a classifier is to look at the\n",
    "`confusion matrix`:\n",
    "\n",
    "> It is a specific table layout that allows visualization of the performance\n",
    "> of an algorithm, typically a supervised learning. Each row of the matrix\n",
    "> represents the instances in a predicted class, while each column represents\n",
    "> the instance sin an actual class (or vice-versa).\n",
    "\n",
    "<small>*Source*: Wikipedia [link](https://en.wikipedia.org/wiki/Confusion_matrix)</small>\n"
   ]
  },
  {
   "cell_type": "code",
   "execution_count": 30,
   "metadata": {},
   "outputs": [],
   "source": [
    "from sklearn.metrics import confusion_matrix"
   ]
  },
  {
   "cell_type": "code",
   "execution_count": 31,
   "metadata": {},
   "outputs": [
    {
     "data": {
      "text/html": [
       "<div>\n",
       "<style scoped>\n",
       "    .dataframe tbody tr th:only-of-type {\n",
       "        vertical-align: middle;\n",
       "    }\n",
       "\n",
       "    .dataframe tbody tr th {\n",
       "        vertical-align: top;\n",
       "    }\n",
       "\n",
       "    .dataframe thead th {\n",
       "        text-align: right;\n",
       "    }\n",
       "</style>\n",
       "<table border=\"1\" class=\"dataframe\">\n",
       "  <thead>\n",
       "    <tr style=\"text-align: right;\">\n",
       "      <th></th>\n",
       "      <th>setosa_pred</th>\n",
       "      <th>versicolor_pred</th>\n",
       "      <th>virginica_pred</th>\n",
       "    </tr>\n",
       "  </thead>\n",
       "  <tbody>\n",
       "    <tr>\n",
       "      <th>setosa</th>\n",
       "      <td>1.0</td>\n",
       "      <td>0.000000</td>\n",
       "      <td>0.000000</td>\n",
       "    </tr>\n",
       "    <tr>\n",
       "      <th>versicolor</th>\n",
       "      <td>0.0</td>\n",
       "      <td>0.833333</td>\n",
       "      <td>0.166667</td>\n",
       "    </tr>\n",
       "    <tr>\n",
       "      <th>virginica</th>\n",
       "      <td>0.0</td>\n",
       "      <td>0.000000</td>\n",
       "      <td>1.000000</td>\n",
       "    </tr>\n",
       "  </tbody>\n",
       "</table>\n",
       "</div>"
      ],
      "text/plain": [
       "            setosa_pred  versicolor_pred  virginica_pred\n",
       "setosa              1.0         0.000000        0.000000\n",
       "versicolor          0.0         0.833333        0.166667\n",
       "virginica           0.0         0.000000        1.000000"
      ]
     },
     "execution_count": 31,
     "metadata": {},
     "output_type": "execute_result"
    }
   ],
   "source": [
    "# Confusion matrix for the model\n",
    "confusion_arr = confusion_matrix(Y_test, y_pred, labels=iris[\"species\"].unique(), normalize=\"true\")\n",
    "\n",
    "# Labels for each species\n",
    "true_labels = iris[\"species\"].unique()\n",
    "pred_labels = [xx + \"_pred\" for xx in true_labels]\n",
    "\n",
    "# Converting to Pandas DataFrame\n",
    "confusion_pd = pd.DataFrame(confusion_arr, index=true_labels, columns=pred_labels)\n",
    "\n",
    "confusion_pd"
   ]
  },
  {
   "cell_type": "markdown",
   "metadata": {},
   "source": [
    "And we can easily visualize this Confusion matrix"
   ]
  },
  {
   "cell_type": "code",
   "execution_count": 32,
   "metadata": {},
   "outputs": [
    {
     "data": {
      "text/plain": [
       "<matplotlib.axes._subplots.AxesSubplot at 0x7ff4aab58040>"
      ]
     },
     "execution_count": 32,
     "metadata": {},
     "output_type": "execute_result"
    },
    {
     "data": {
      "image/png": "[encoded data removed]",
      "text/plain": [
       "<Figure size 432x288 with 2 Axes>"
      ]
     },
     "metadata": {},
     "output_type": "display_data"
    }
   ],
   "source": [
    "sns.heatmap(confusion_pd, cmap=\"Blues\")"
   ]
  }
 ],
 "metadata": {
  "kernelspec": {
   "display_name": "Python 3",
   "language": "python",
   "name": "python3"
  },
  "language_info": {
   "codemirror_mode": {
    "name": "ipython",
    "version": 3
   },
   "file_extension": ".py",
   "mimetype": "text/x-python",
   "name": "python",
   "nbconvert_exporter": "python",
   "pygments_lexer": "ipython3",
   "version": "3.8.3"
  }
 },
 "nbformat": 4,
 "nbformat_minor": 4
}
