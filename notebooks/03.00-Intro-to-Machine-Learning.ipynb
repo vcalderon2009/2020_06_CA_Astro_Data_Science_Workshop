{
 "cells": [
  {
   "cell_type": "markdown",
   "metadata": {},
   "source": [
    "# CA ASTRO - Data Science and ML Workshop\n",
    "\n",
    "**Author** : Victor Calderon\n",
    "\n",
    "**Date** : 13th and 14th of June, 2020"
   ]
  },
  {
   "cell_type": "markdown",
   "metadata": {},
   "source": [
    "## Intro to Machine Learning (ML)\n",
    "\n",
    "In this notebook, we will\n",
    "- discuss some of the main topics about machine learning\n",
    "- create a simple ML model using out-of-the-box datasets\n",
    "- evaluate the performance of the model"
   ]
  },
  {
   "cell_type": "markdown",
   "metadata": {},
   "source": [
    "### Types of Machine Learning\n",
    "\n",
    "The are of `machine learning` is very vast and it is comprised of **many** different\n",
    "subcategories of ML models / algorithms, as it's nicely represented in the following\n",
    "figure:\n",
    "\n",
    "![ML_usages](./images/Data_Science_Diagram.png)\n",
    "<small>Image source: ([http://www.cognub.com/index.php/cognitive-platform/](http://www.cognub.com/index.php/cognitive-platform/))</small> and\n",
    "<small>article [link](https://towardsdatascience.com/coding-deep-learning-for-beginners-types-of-machine-learning-b9e651e1ed9d)</small>\n",
    "\n",
    "There are typically 3 main different types of ML algorithms:\n",
    "\n",
    "- Supervised Learning\n",
    "- Unsupervised Learning\n",
    "- Reinforcement Learning"
   ]
  },
  {
   "cell_type": "markdown",
   "metadata": {},
   "source": [
    "#### Supervised Learning\n",
    "\n",
    "This type of algorithm consists of a target which is to be predicted given a set of *predictors* (or features), which are\n",
    "independent from the `target` variable. Using these variables, one can create a **mapping** between the different\n",
    "**features** and the **target variable**.\n",
    "\n",
    "This is the same as\n",
    "\n",
    "$$y = f(\\textrm{features})$$\n",
    "\n",
    "The algorithm / model undergoes a **training** process, in which the model *learns* the functional form of *f* as a function\n",
    "of the features, and it tries to predict $y$ based on this mapping.\n",
    "\n",
    "Supervised learning can be broken into 2 main branches:\n",
    "\n",
    "1. **Classification**: Model is trained to *classify* something into certain classes\n",
    "    - Examples:\n",
    "        - Clasifying whether a patient has a certain disease or not\n",
    "        - Classify between elliptical and spiral galaxies\n",
    "        - Determine types of stars (*OBAFGKM*)\n",
    "\n",
    "2. **Regression**: A model is trained to *predict* some value like prices, weight, number of surgeries, etc.\n",
    "    - Examples:\n",
    "        - Predicting stock prices based on historical data\n",
    "        - Predict how much a car will cost in 2, 3, or 4 years from now, based on its model and specifications.\n",
    "        - Estimate the mass of the dark matter halo based on galaxy- and group-related properties ($M_{\\odot}$, color, velocity, etc.)"
   ]
  },
  {
   "cell_type": "markdown",
   "metadata": {},
   "source": [
    "#### Unsupervised Learning\n",
    "\n",
    "This type of algorithm consists of using different *features* to determine a **class**, to which an object belongs. Using this\n",
    "algorithm, we do not have any target variables or outcome variable to predict.\n",
    "\n",
    "Unsupervised learning can be split into two categories:\n",
    "\n",
    "- **Clustering**: A clustering scenario is where you want to determine the groupings in a given dataset\n",
    "    - Examples\n",
    "        - Grouping customers into those who buy a lot and do not spend much\n",
    "        - Recommended Systems (Netflix, Amazon, etc.)\n",
    "        - Cluster different books o the bases of topics and information\n",
    "\n",
    "- **Association**: An association rule learning scenario (not that common) is where one wants to discover the underlying rules governing large portions of the dataset.\n",
    "    - Examples:\n",
    "        - If `Person A` buys item `X`, they also tend to buy item `Y`.\n",
    "      "
   ]
  },
  {
   "cell_type": "markdown",
   "metadata": {},
   "source": [
    "#### Reinforcement Learning\n",
    "\n",
    "Using this type of algorithm, the model is trained to make specific decisions after *learning* from its *environment*.\n",
    "The model is first exposed to a *training environment*, in which it learns to make the correct decision by trial and error.\n",
    "\n",
    "An example taken from [Analytics Vidhya](https://www.analyticsvidhya.com/blog/2017/01/introduction-to-reinforcement-learning-implementation/)\n",
    "considers Reinforcement Learning as when a child is learning how to walk:\n",
    "\n",
    "1. The first thing the child will observe is to **notice** how you are walking. You use two legs, taking a step at a time in order to walk. Grasping this concept, the child tries to replicate you.\n",
    "2. But soon he/she will understand that before walking, the child has to stand up! This is a challenge that comes along while trying to walk. So now the child **attempts to get up**, staggering and slipping but still determinant to get up.\n",
    "\n",
    "3. Then there’s another challenge to cope up with. Standing up was easy, but to **remain still** is another task altogether! Clutching thin air to find support, the child manages to stay standing.\n",
    "\n",
    "4. Now the real task for the child is to start walking. But it’s easy to say than actually do it. There are so **many things to keep in mind**, like balancing the body weight, deciding which foot to put next and where to put it."
   ]
  },
  {
   "cell_type": "markdown",
   "metadata": {},
   "source": [
    "---"
   ]
  },
  {
   "cell_type": "markdown",
   "metadata": {},
   "source": [
    "## Examples of using ML Learning using Scikit-Learn\n",
    "\n",
    "There are several useful libraries in Python that provide a solid implementation of machine learning algorithms.\n",
    "Possibly, the most famous one is [Scikit-Learn](https://scikit-learn.org/stable/), a package that provides\n",
    "efficient and user-friendly version of the most common ML algorithms, including but not limited to\n",
    "\n",
    "- Random Forest\n",
    "- Logistic Regression\n",
    "- Principal Component Analysis (PCA)\n",
    "- TSNE (another clustering algorithm)\n",
    "- and many more.\n",
    "\n",
    "This library contains very useful tools for examine datasets, create and evaluate ML models, and more."
   ]
  }
 ],
 "metadata": {
  "kernelspec": {
   "display_name": "Python 3",
   "language": "python",
   "name": "python3"
  },
  "language_info": {
   "codemirror_mode": {
    "name": "ipython",
    "version": 3
   },
   "file_extension": ".py",
   "mimetype": "text/x-python",
   "name": "python",
   "nbconvert_exporter": "python",
   "pygments_lexer": "ipython3",
   "version": "3.8.3"
  }
 },
 "nbformat": 4,
 "nbformat_minor": 4
}
